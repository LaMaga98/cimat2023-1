{
  "cells": [
    {
      "cell_type": "markdown",
      "metadata": {
        "id": "BnCJKimtBLql"
      },
      "source": [
        "# CNN for Sentence Classification"
      ]
    },
    {
      "cell_type": "markdown",
      "metadata": {
        "id": "pUI8qgwNCIxe"
      },
      "source": [
        "### Libraries used"
      ]
    },
    {
      "cell_type": "code",
      "execution_count": 80,
      "metadata": {
        "id": "fdwJOcQzBMQE"
      },
      "outputs": [],
      "source": [
        "# Tools\n",
        "import os\n",
        "import time\n",
        "import random\n",
        "import shutil\n",
        "from argparse import Namespace\n",
        "import matplotlib.pyplot as plt\n",
        "from typing import Callable, Tuple\n",
        "\n",
        "# Preprocessing\n",
        "from nltk.tokenize import TweetTokenizer\n",
        "from nltk import FreqDist\n",
        "import pandas as pd\n",
        "import numpy as np\n",
        "\n",
        "# PyTorch\n",
        "from torch.utils.data import DataLoader, Dataset\n",
        "import torch\n",
        "import torch.nn as nn\n",
        "import torch.nn.functional as F\n",
        "from torch.nn.utils.rnn import pad_sequence\n",
        "\n",
        "# scikit-learn\n",
        "from sklearn.model_selection import train_test_split\n",
        "from sklearn.metrics import accuracy_score\n",
        "\n",
        "# word embeddings\n",
        "from gensim.models import Word2Vec\n",
        "from gensim.models.keyedvectors import Word2VecKeyedVectors\n",
        "from gensim.models import KeyedVectors"
      ]
    },
    {
      "cell_type": "markdown",
      "metadata": {
        "id": "1iebWbwmCZ4s"
      },
      "source": [
        "Set seeds for reproducibility"
      ]
    },
    {
      "cell_type": "code",
      "execution_count": 81,
      "metadata": {
        "id": "va6BLBywCaIF"
      },
      "outputs": [],
      "source": [
        "args = Namespace()\n",
        "\n",
        "args.seed = 1111\n",
        "random.seed(args.seed) # python seed\n",
        "np.random.seed(args.seed) # numpy seed\n",
        "torch.manual_seed(args.seed) # torch seed\n",
        "torch.backends.cudnn.benchmark = False # causes cuDNN to deterministically select algorithms for Neural Network operations\n",
        "torch.backends.cudnn.deterministic = True # Use deterministic algorithms instead of non-deterministic where available"
      ]
    },
    {
      "cell_type": "markdown",
      "metadata": {
        "id": "A41-b6gsCL70"
      },
      "source": [
        "### Load Dataset"
      ]
    },
    {
      "cell_type": "code",
      "execution_count": 82,
      "metadata": {
        "colab": {
          "base_uri": "https://localhost:8080/"
        },
        "id": "aA-w0ulhF1-Q",
        "outputId": "847be17f-a590-488e-af25-9ce85dd930c6"
      },
      "outputs": [
        {
          "name": "stdout",
          "output_type": "stream",
          "text": [
            "zsh:1: no matches found: https://drive.google.com/uc?id=1CL2rtDbi7HU1OY8JNrgIlq5TYVhgvAzZ\n",
            "unzip:  cannot find or open mex-a3t.zip, mex-a3t.zip.zip or mex-a3t.zip.ZIP.\n"
          ]
        }
      ],
      "source": [
        "!gdown https://drive.google.com/uc?id=1CL2rtDbi7HU1OY8JNrgIlq5TYVhgvAzZ\n",
        "!unzip -qq mex-a3t.zip"
      ]
    },
    {
      "cell_type": "markdown",
      "metadata": {
        "id": "P5KCFtNiGIU6"
      },
      "source": [
        "Set split hyperparameter and split data"
      ]
    },
    {
      "cell_type": "code",
      "execution_count": 83,
      "metadata": {
        "id": "YRn0ZqeQGlFZ"
      },
      "outputs": [],
      "source": [
        "args.val_size = 0.1"
      ]
    },
    {
      "cell_type": "code",
      "execution_count": 84,
      "metadata": {
        "id": "62yMSBChGIp_"
      },
      "outputs": [],
      "source": [
        "path=\"/Users/ely/Documents/Maestria/segundo_semestre/cimat2023-1/lenguaje/practicas/03_practica/\"\n",
        "X_train = pd.read_csv(path+'mex20_train.txt', sep='\\r\\n', engine='python', header=None).loc[:,0]\n",
        "y_train = pd.read_csv(path+'mex20_train_labels.txt', header=None).loc[:,0]\n",
        "#.values.tolist()\n",
        "\n",
        "X_train, X_val, y_train, y_val = train_test_split(X_train, y_train, test_size=args.val_size, random_state=args.seed)\n",
        "\n",
        "X_test = pd.read_csv(path+'mex20_val.txt', sep='\\r\\n', engine='python', header=None).loc[:,0]\n",
        "y_test = pd.read_csv(path+'mex20_val_labels.txt', header=None).loc[:,0]"
      ]
    },
    {
      "cell_type": "markdown",
      "metadata": {
        "id": "lLkXh_k7sagl"
      },
      "source": [
        "Functions to build vocabulary"
      ]
    },
    {
      "cell_type": "code",
      "execution_count": 85,
      "metadata": {
        "id": "S2-9NZ1BsdVZ"
      },
      "outputs": [],
      "source": [
        "def get_vocab(corpus: pd.DataFrame,\n",
        "              tokenizer: Callable[[str], list],\n",
        "              max_features: int) -> set:\n",
        "    freq_dist = FreqDist([w.lower() for sentence in corpus\\\n",
        "                                    for w in tokenizer(sentence)])\n",
        "\n",
        "    sorted_words = sortFreqDict(freq_dist)[:min(max_features-1, len(freq_dist))]\n",
        "    w2idx = {word: i+1 for i, word in enumerate(sorted_words)}\n",
        "\n",
        "    # Append <pad> token with 0 index\n",
        "    sorted_words.append('<pad>')\n",
        "    w2idx['<pad>'] = 0\n",
        "\n",
        "    return set(sorted_words), w2idx\n",
        "\n",
        "def sortFreqDict(freq_dist: FreqDist) -> list:\n",
        "    freq_dict = dict(freq_dist)\n",
        "    return sorted(freq_dict, key=freq_dict.get, reverse=True)\n",
        "def create_vocabulary_inv(word_list):\n",
        "    # Crea un diccionario que mapea palabras a índices\n",
        "    vocabulary_inv = {idx: word for idx, word in enumerate(word_list)}\n",
        "    return vocabulary_inv"
      ]
    },
    {
      "cell_type": "code",
      "execution_count": 86,
      "metadata": {
        "id": "2mPmCxoqskuO"
      },
      "outputs": [],
      "source": [
        "# Set vocab size\n",
        "args.vocab_size = 5000\n",
        "\n",
        "tk = TweetTokenizer()\n",
        "vocab, w2idx = get_vocab(X_train, tk.tokenize, args.vocab_size)"
      ]
    },
    {
      "cell_type": "markdown",
      "metadata": {
        "id": "K2sfrROCBJB0"
      },
      "source": [
        "### Define Dataset, collate_fn and Dataloader"
      ]
    },
    {
      "cell_type": "markdown",
      "metadata": {
        "id": "eDXEMAEp9qL2"
      },
      "source": [
        "Define Map-style Dataset (one that implements the `__getitem__()` and `__len__()` protocols) class for processing each observation in the correct format for the model"
      ]
    },
    {
      "cell_type": "code",
      "execution_count": 87,
      "metadata": {
        "id": "T9xyWeuOqyON"
      },
      "outputs": [],
      "source": [
        "class TweeterDataset(Dataset):\n",
        "    def __init__(self,\n",
        "                 X: pd.DataFrame,\n",
        "                 y: pd.DataFrame,\n",
        "                 vocab: set,\n",
        "                 w2idx: dict,\n",
        "                 tokenizer: Callable[[str], list],\n",
        "                 max_seq_len: int):\n",
        "        self.X = X\n",
        "        self.y = y\n",
        "        self.vocab = vocab\n",
        "        self.w2idx = w2idx\n",
        "        self.tokenizer = tokenizer\n",
        "        self.max_seq_len = max_seq_len\n",
        "\n",
        "    def __len__(self):\n",
        "        return self.X.shape[0]\n",
        "\n",
        "    def __getitem__(self, idx):\n",
        "        # Get sequence of token ids\n",
        "        sentence = self.X.iloc[idx]\n",
        "        tokens = [self.w2idx[w] for w in self.tokenizer(sentence) if w in self.vocab]\n",
        "\n",
        "        # Truncate sequence up to max_seq_len\n",
        "        truncate_len = min(len(tokens), self.max_seq_len)\n",
        "        tokens = tokens[:truncate_len]\n",
        "\n",
        "        # Get true label\n",
        "        label = self.y.iloc[idx]\n",
        "\n",
        "        return torch.LongTensor(tokens), torch.LongTensor([label])"
      ]
    },
    {
      "cell_type": "markdown",
      "metadata": {
        "id": "f0pPWd3C-Abz"
      },
      "source": [
        "Define function to collate samples fetched by the sampler from the Dataset. The Dataloader will return the output of this `collate_fn` that we define."
      ]
    },
    {
      "cell_type": "code",
      "execution_count": 88,
      "metadata": {
        "id": "A48GxyAd-Anb"
      },
      "outputs": [],
      "source": [
        "def collate_fn(batch):\n",
        "    # Get X\n",
        "    batch_tokens = [row[0] for row in batch]\n",
        "    # Get y\n",
        "    batch_labels = torch.LongTensor([row[1] for row in batch]).to(torch.float)\n",
        "\n",
        "    # Pad with 0 (to the rigth) shorter sequences than max_seq_len\n",
        "    padded_batch_tokens = pad_sequence(batch_tokens, batch_first=True)\n",
        "\n",
        "    return padded_batch_tokens, batch_labels.unsqueeze(1)"
      ]
    },
    {
      "cell_type": "markdown",
      "metadata": {
        "id": "M_tu7B3o95Ta"
      },
      "source": [
        "Build Dataloaders to process batches of observations from the Datasets"
      ]
    },
    {
      "cell_type": "code",
      "execution_count": 89,
      "metadata": {
        "id": "plFS8370MYBH"
      },
      "outputs": [],
      "source": [
        "# Set batch size in args\n",
        "args.batch_size = 64\n",
        "\n",
        "# Num workers\n",
        "args.num_workers = 0\n",
        "\n",
        "# Maximum sequence length\n",
        "args.max_seq_len = 20"
      ]
    },
    {
      "cell_type": "code",
      "execution_count": 90,
      "metadata": {
        "id": "KNRGp-DX-Bm2"
      },
      "outputs": [],
      "source": [
        "# Training\n",
        "train_dataset = TweeterDataset(X_train, y_train, vocab, w2idx, tk.tokenize, args.max_seq_len)\n",
        "train_loader = DataLoader(train_dataset,\n",
        "                          batch_size=args.batch_size,\n",
        "                          num_workers=args.num_workers,\n",
        "                          collate_fn=collate_fn,\n",
        "                          shuffle=True)\n",
        "\n",
        "# Validation\n",
        "val_dataset = TweeterDataset(X_val, y_val, vocab, w2idx, tk.tokenize, args.max_seq_len)\n",
        "val_loader = DataLoader(val_dataset,\n",
        "                          batch_size=args.batch_size,\n",
        "                          num_workers=args.num_workers,\n",
        "                          collate_fn=collate_fn,\n",
        "                          shuffle=False)\n",
        "\n",
        "# Test\n",
        "test_dataset = TweeterDataset(X_test, y_test, vocab, w2idx, tk.tokenize, args.max_seq_len)\n",
        "test_loader = DataLoader(test_dataset,\n",
        "                          batch_size=args.batch_size,\n",
        "                          num_workers=args.num_workers,\n",
        "                          collate_fn=collate_fn,\n",
        "                          shuffle=False)"
      ]
    },
    {
      "cell_type": "markdown",
      "metadata": {
        "id": "hwIx8Xt3Gbxz"
      },
      "source": [
        "When iterating a ```Dataloader```, the whole order of execution to get a batch is roughly the following:\n",
        "\n",
        "1. A `Sampler` object in `batch_sampler` variable, retrieves a batch of indices.\n",
        "\n",
        "2. For each retrieved index, get the data from the defined `Dataset` object, process all the batch samples with the defined `collate_fn` and return the result:\n",
        "\n",
        "    ```\n",
        "    for indices in batch_sampler:\n",
        "        yield collate_fn([dataset[i] for i in indices])\n",
        "    ```\n",
        "\n",
        "\n"
      ]
    },
    {
      "cell_type": "markdown",
      "metadata": {
        "id": "Z7iJRqoQaqG-"
      },
      "source": [
        "Testing train Dataloader"
      ]
    },
    {
      "cell_type": "code",
      "execution_count": 91,
      "metadata": {
        "colab": {
          "base_uri": "https://localhost:8080/"
        },
        "id": "yU-oeLNCMipL",
        "outputId": "4b587ec5-7791-4bab-e0b7-9ce299775441"
      },
      "outputs": [
        {
          "name": "stdout",
          "output_type": "stream",
          "text": [
            "X_batch shape: torch.Size([64, 20])\n",
            "y_batch shape: torch.Size([64, 1])\n"
          ]
        }
      ],
      "source": [
        "batch_ = next(iter(train_loader))\n",
        "print(f'X_batch shape: {batch_[0].shape}')\n",
        "print(f'y_batch shape: {batch_[1].shape}')"
      ]
    },
    {
      "cell_type": "markdown",
      "metadata": {
        "id": "S0ONCMxIbPl8"
      },
      "source": [
        "### Define CNN text classifier"
      ]
    },
    {
      "cell_type": "code",
      "execution_count": 92,
      "metadata": {
        "id": "CkA7GoK3bTuv"
      },
      "outputs": [],
      "source": [
        "class CNNTextCls(nn.Module):\n",
        "    def __init__(self, args, embeddings=None, freeze=False):\n",
        "        super(CNNTextCls, self).__init__()\n",
        "\n",
        "        if embeddings is not None:\n",
        "            self.emb = nn.Embedding.from_pretrained(torch.FloatTensor(embeddings))\n",
        "            if freeze:\n",
        "                self.emb.weight.requires_grad=False\n",
        "        else:\n",
        "            self.emb = nn.Embedding(args.vocab_size, args.d)\n",
        "\n",
        "        conv_block_list = []\n",
        "\n",
        "        for k in args.filter_sizes:\n",
        "            conv_block = nn.Sequential(\n",
        "                nn.Conv1d(in_channels=args.d, out_channels=args.num_filters, kernel_size=k, stride=1),\n",
        "                nn.ReLU(),\n",
        "                nn.MaxPool1d(kernel_size=(args.max_seq_len-k+1))\n",
        "            )\n",
        "            conv_block_list.append(conv_block)\n",
        "\n",
        "        self.conv_block_list = nn.ModuleList(conv_block_list)\n",
        "        self.dropout = nn.Dropout(args.dropout)\n",
        "        self.fc = nn.Linear(args.num_filters*len(args.filter_sizes), 1)\n",
        "\n",
        "    def forward(self, x):\n",
        "        '''\n",
        "        B: batch size\n",
        "        L: sequence length\n",
        "        D: embedding dim\n",
        "        C: Convolution output channels (number of filters)\n",
        "        k: Convolution kernel size\n",
        "        N: Number of convolution blocks\n",
        "\n",
        "        x shape: (B, L)\n",
        "        '''\n",
        "        x = self.emb(x) # (B, L, D)\n",
        "        x = x.transpose(1,2) # (B, D, L) conv1d expects L in last dimension\n",
        "\n",
        "        x_filter = []\n",
        "        for conv_block in self.conv_block_list: # Conv1d -> ReLU -> MaxPool1d\n",
        "            x_filter.append(conv_block(x).squeeze(2)) # (B, C, L-k+1) -> ReLU -> (B, C, 1) -> (B, C) after squeeze\n",
        "\n",
        "        x_cat = torch.cat(x_filter, dim=1) # (B, C*N)\n",
        "        x = self.dropout(x_cat)\n",
        "        return self.fc(x)"
      ]
    },
    {
      "cell_type": "markdown",
      "metadata": {
        "id": "EN9haSqSC-AA"
      },
      "source": [
        "### Helper functions for model evaluation"
      ]
    },
    {
      "cell_type": "code",
      "execution_count": 93,
      "metadata": {
        "id": "B_ct1vF3C-jI"
      },
      "outputs": [],
      "source": [
        "def model_eval(data, model, gpu=False):\n",
        "    with torch.no_grad():\n",
        "        preds, tgts = [], []\n",
        "        for input, labels in data:\n",
        "            if gpu:\n",
        "                input = input.cuda()\n",
        "\n",
        "            outputs = model(input)\n",
        "\n",
        "            # Get prediction for Accuracy\n",
        "            y_pred = y_pred = torch.round(torch.sigmoid(outputs.detach())).cpu().numpy()\n",
        "\n",
        "            tgt = labels.numpy()\n",
        "            tgts.append(tgt)\n",
        "            preds.append(y_pred)\n",
        "\n",
        "    tgts = [e for l in tgts for e in l]\n",
        "    preds = [e for l in preds for e in l]\n",
        "\n",
        "    metrics = {\n",
        "        \"accuracy\": accuracy_score(tgts, preds),\n",
        "    }\n",
        "\n",
        "    return metrics"
      ]
    },
    {
      "cell_type": "markdown",
      "metadata": {
        "id": "2eaCfN-wDIXq"
      },
      "source": [
        "### Helper function to save model"
      ]
    },
    {
      "cell_type": "code",
      "execution_count": 107,
      "metadata": {
        "id": "f2OPDptPDLx6"
      },
      "outputs": [],
      "source": [
        "def save_checkpoint(state, is_best, checkpoint_path, filename=\"checkpoint1.pt\"):\n",
        "    filename = os.path.join(checkpoint_path, filename)\n",
        "    torch.save(state, filename)\n",
        "    if is_best:\n",
        "        shutil.copyfile(filename, os.path.join(checkpoint_path, \"model_best1.pt\"))"
      ]
    },
    {
      "cell_type": "markdown",
      "metadata": {
        "id": "wvmbsYji1VgZ"
      },
      "source": [
        "### Training function"
      ]
    },
    {
      "cell_type": "code",
      "execution_count": 108,
      "metadata": {
        "id": "X1P9hbEK1XMv"
      },
      "outputs": [],
      "source": [
        "def train(args, model, train_loader, val_loader, optimizer, criterion, scheduler):\n",
        "    best_metric = 0\n",
        "    metric_history = []\n",
        "    train_metric_history = []\n",
        "\n",
        "    for epoch in range(args.num_epochs):\n",
        "        epoch_start_time = time.time()\n",
        "        loss_epoch = []\n",
        "        training_metrics = []\n",
        "        model.train()\n",
        "\n",
        "        for input, labels in train_loader:\n",
        "            # If GPU available\n",
        "            if args.use_gpu:\n",
        "                input = input.cuda()\n",
        "                labels = labels.cuda()\n",
        "\n",
        "            # Forward pass\n",
        "            outputs = model(input)\n",
        "\n",
        "            loss = criterion(outputs, labels)\n",
        "            loss_epoch.append(loss.item())\n",
        "\n",
        "            # Get training metric\n",
        "            preds = torch.round(torch.sigmoid(outputs.detach())).cpu().numpy()\n",
        "            training_metrics.append(accuracy_score(labels.cpu().numpy(), preds))\n",
        "\n",
        "            # Backward and optimize\n",
        "            optimizer.zero_grad()\n",
        "            loss.backward()\n",
        "            optimizer.step()\n",
        "\n",
        "        # Get metric in training dataset\n",
        "        mean_epoch_accuracy = np.mean(training_metrics)\n",
        "        train_metric_history.append(mean_epoch_accuracy)\n",
        "\n",
        "        # Get metric in validation dataset\n",
        "        model.eval()\n",
        "        tuning_metric = model_eval(val_loader, model, gpu=args.use_gpu)\n",
        "        metric_history.append(tuning_metric['accuracy'])\n",
        "\n",
        "        # Update scheduler\n",
        "        scheduler.step(tuning_metric['accuracy'])\n",
        "\n",
        "        # Check for metric improvement\n",
        "        is_improvement = tuning_metric['accuracy'] > best_metric\n",
        "        if is_improvement:\n",
        "            best_metric = tuning_metric['accuracy']\n",
        "            n_no_improve = 0\n",
        "        else:\n",
        "            n_no_improve += 1\n",
        "\n",
        "        # Save best model if metric improved\n",
        "        save_checkpoint(\n",
        "            {\n",
        "                \"epoch\": epoch + 1,\n",
        "                \"state_dict\": model.state_dict(),\n",
        "                \"optimizer\": optimizer.state_dict(),\n",
        "                \"scheduler\": scheduler.state_dict(),\n",
        "                \"best_metric\": best_metric,\n",
        "            },\n",
        "            is_improvement,\n",
        "            args.savedir,\n",
        "        )\n",
        "\n",
        "        # Early stopping\n",
        "        if n_no_improve >= args.patience:\n",
        "            print(\"No improvement. Breaking out of loop.\")\n",
        "            break\n",
        "\n",
        "        print ('Epoch [{}/{}], Loss: {:.4f} - Train Accuracy: {:.4f} - Val Accuracy: {:.4f} - Epoch time: {:.2f} s'\n",
        "            .format(epoch+1, args.num_epochs, np.mean(loss_epoch), mean_epoch_accuracy, tuning_metric['accuracy'], (time.time()- epoch_start_time)))\n",
        "\n",
        "    return train_metric_history, metric_history"
      ]
    },
    {
      "cell_type": "code",
      "execution_count": 96,
      "metadata": {},
      "outputs": [
        {
          "name": "stdout",
          "output_type": "stream",
          "text": [
            "2.3.0\n"
          ]
        }
      ],
      "source": [
        "print(torch.__version__)"
      ]
    },
    {
      "cell_type": "markdown",
      "metadata": {
        "id": "tHZNC9ChDSmq"
      },
      "source": [
        "### Train CNN classifier"
      ]
    },
    {
      "cell_type": "code",
      "execution_count": 126,
      "metadata": {
        "id": "KS8Vy7GXDYPb"
      },
      "outputs": [
        {
          "name": "stderr",
          "output_type": "stream",
          "text": [
            "/Users/ely/Documents/Maestria/segundo_semestre/cimat2023-1/lenguaje/.conda/lib/python3.11/site-packages/torch/optim/lr_scheduler.py:28: UserWarning: The verbose parameter is deprecated. Please use get_last_lr() to access the learning rate.\n",
            "  warnings.warn(\"The verbose parameter is deprecated. Please use get_last_lr() \"\n"
          ]
        }
      ],
      "source": [
        "# Model hyperparameters\n",
        "args.d = 100 # Dimension of word embeddings\n",
        "args.filter_sizes = [3, 4]\n",
        "args.num_filters = 100\n",
        "args.dropout = 0.1\n",
        "\n",
        "# Training hyperparameters\n",
        "args.lr = 1e-2\n",
        "args.num_epochs = 15\n",
        "args.patience = 10\n",
        "\n",
        "# Scheduler hyperparameters\n",
        "args.lr_patience = 5\n",
        "args.lr_factor = 0.5\n",
        "\n",
        "# Saving directory\n",
        "args.savedir = 'model'\n",
        "os.makedirs(args.savedir, exist_ok=True)\n",
        "\n",
        "# Create model\n",
        "model = CNNTextCls(args)\n",
        "\n",
        "# Send to GPU\n",
        "args.use_gpu = torch.cuda.is_available()\n",
        "if args.use_gpu:\n",
        "    model.cuda()\n",
        "\n",
        "# Loss, Optimizer and Scheduler\n",
        "criterion = nn.BCEWithLogitsLoss()\n",
        "optimizer = torch.optim.SGD(model.parameters(), lr=args.lr)\n",
        "scheduler = torch.optim.lr_scheduler.ReduceLROnPlateau(\n",
        "                optimizer, \"max\",\n",
        "                patience=args.lr_patience,\n",
        "                verbose=True,\n",
        "                factor=args.lr_factor\n",
        "            )"
      ]
    },
    {
      "cell_type": "code",
      "execution_count": 127,
      "metadata": {
        "colab": {
          "base_uri": "https://localhost:8080/"
        },
        "id": "TKZAD3nju5Cv",
        "outputId": "90503439-d5a7-4b32-83fa-39ab6cb16f9f"
      },
      "outputs": [
        {
          "name": "stdout",
          "output_type": "stream",
          "text": [
            "Epoch [1/15], Loss: 0.6129 - Train Accuracy: 0.7024 - Val Accuracy: 0.7159 - Epoch time: 2.10 s\n",
            "Epoch [2/15], Loss: 0.5996 - Train Accuracy: 0.7111 - Val Accuracy: 0.7216 - Epoch time: 1.99 s\n",
            "Epoch [3/15], Loss: 0.5907 - Train Accuracy: 0.7125 - Val Accuracy: 0.7216 - Epoch time: 1.94 s\n",
            "Epoch [4/15], Loss: 0.5841 - Train Accuracy: 0.7102 - Val Accuracy: 0.7216 - Epoch time: 1.91 s\n",
            "Epoch [5/15], Loss: 0.5735 - Train Accuracy: 0.7122 - Val Accuracy: 0.7216 - Epoch time: 2.10 s\n",
            "Epoch [6/15], Loss: 0.5667 - Train Accuracy: 0.7106 - Val Accuracy: 0.7121 - Epoch time: 1.90 s\n",
            "Epoch [7/15], Loss: 0.5592 - Train Accuracy: 0.7150 - Val Accuracy: 0.7216 - Epoch time: 1.91 s\n",
            "Epoch [8/15], Loss: 0.5555 - Train Accuracy: 0.7144 - Val Accuracy: 0.7159 - Epoch time: 1.92 s\n",
            "Epoch [9/15], Loss: 0.5463 - Train Accuracy: 0.7173 - Val Accuracy: 0.7197 - Epoch time: 1.92 s\n",
            "Epoch [10/15], Loss: 0.5385 - Train Accuracy: 0.7250 - Val Accuracy: 0.7197 - Epoch time: 1.93 s\n",
            "Epoch [11/15], Loss: 0.5339 - Train Accuracy: 0.7270 - Val Accuracy: 0.7216 - Epoch time: 1.94 s\n",
            "Epoch [12/15], Loss: 0.5350 - Train Accuracy: 0.7260 - Val Accuracy: 0.7235 - Epoch time: 1.97 s\n",
            "Epoch [13/15], Loss: 0.5259 - Train Accuracy: 0.7364 - Val Accuracy: 0.7235 - Epoch time: 1.93 s\n",
            "Epoch [14/15], Loss: 0.5220 - Train Accuracy: 0.7396 - Val Accuracy: 0.7273 - Epoch time: 1.91 s\n",
            "Epoch [15/15], Loss: 0.5168 - Train Accuracy: 0.7425 - Val Accuracy: 0.7254 - Epoch time: 1.93 s\n",
            "Total training time: 29.3066 seconds\n"
          ]
        }
      ],
      "source": [
        "start_time = time.time()\n",
        "train_metric_history, val_metric_history = train(args, model, train_loader, val_loader, optimizer, criterion, scheduler)\n",
        "print(\"Total training time: {:.4f} seconds\".format((time.time() - start_time)))"
      ]
    },
    {
      "cell_type": "code",
      "execution_count": 128,
      "metadata": {
        "colab": {
          "base_uri": "https://localhost:8080/",
          "height": 295
        },
        "id": "iKcKHosEx5ZC",
        "outputId": "47c8f6a5-38d8-4067-c1df-6614bbe71827"
      },
      "outputs": [
        {
          "data": {
            "image/png": "[encoded data removed]",
            "text/plain": [
              "<Figure size 640x480 with 1 Axes>"
            ]
          },
          "metadata": {},
          "output_type": "display_data"
        }
      ],
      "source": [
        "plt.plot(train_metric_history, label='train')\n",
        "plt.plot(val_metric_history, label='val')\n",
        "plt.title('CNN Classifier')\n",
        "plt.ylabel('Accuracy')\n",
        "plt.xlabel('# epoch')\n",
        "plt.legend(loc='best')\n",
        "plt.show()"
      ]
    },
    {
      "cell_type": "markdown",
      "metadata": {},
      "source": [
        "CNN-Static"
      ]
    },
    {
      "cell_type": "code",
      "execution_count": 101,
      "metadata": {},
      "outputs": [],
      "source": [
        "# class CNNTextCls(nn.Module):\n",
        "#     def __init__(self, args, embeddings=None, freeze=False):\n",
        "#         super(CNNTextCls, self).__init__()\n",
        "\n",
        "#         if embeddings is not None:\n",
        "#             self.emb = nn.Embedding.from_pretrained(torch.FloatTensor(embeddings))\n",
        "#             if freeze:\n",
        "#                 self.emb.weight.requires_grad=False\n",
        "#         else:\n",
        "#             self.emb = nn.Embedding(args.vocab_size, args.d)\n",
        "\n",
        "#         conv_block_list = []\n",
        "\n",
        "#         for k in args.filter_sizes:\n",
        "#             conv_block = nn.Sequential(\n",
        "#                 nn.Conv1d(in_channels=args.d, out_channels=args.num_filters, kernel_size=k, stride=1),\n",
        "#                 nn.ReLU(),\n",
        "#                 nn.MaxPool1d(kernel_size=(args.max_seq_len-k+1))\n",
        "#             )\n",
        "#             conv_block_list.append(conv_block)\n",
        "\n",
        "#         self.conv_block_list = nn.ModuleList(conv_block_list)\n",
        "#         self.dropout = nn.Dropout(args.dropout)\n",
        "#         self.fc = nn.Linear(args.num_filters*len(args.filter_sizes), 1)\n",
        "\n",
        "#     def forward(self, x):\n",
        "#         x = self.emb(x)  # Pasa los índices de palabras a través de la capa de embedding\n",
        "#         x = x.permute(0, 2, 1)  # Transpone para que la dimensión de la secuencia esté en la última posición\n",
        "#         conv_outputs = [conv_block(x) for conv_block in self.conv_block_list]  # Aplica las capas convolucionales\n",
        "#         pooled_outputs = [nn.functional.max_pool1d(conv_output, conv_output.size(2)).squeeze(2) for conv_output in conv_outputs]  # Aplica max-pooling\n",
        "#         cat = torch.cat(pooled_outputs, 1)  # Concatena los resultados de las capas convolucionales\n",
        "#         x = self.dropout(cat)  # Aplica dropout\n",
        "#         logits = self.fc(x)  # Pasa los resultados a través de la capa fully connected\n",
        "#         return logits"
      ]
    },
    {
      "cell_type": "code",
      "execution_count": 129,
      "metadata": {},
      "outputs": [],
      "source": [
        "idx2w = dict((v, k) for k, v in w2idx.items())"
      ]
    },
    {
      "cell_type": "code",
      "execution_count": 130,
      "metadata": {},
      "outputs": [
        {
          "data": {
            "text/plain": [
              "'que'"
            ]
          },
          "execution_count": 130,
          "metadata": {},
          "output_type": "execute_result"
        }
      ],
      "source": [
        "idx2w [1]"
      ]
    },
    {
      "cell_type": "code",
      "execution_count": 137,
      "metadata": {},
      "outputs": [
        {
          "name": "stderr",
          "output_type": "stream",
          "text": [
            "/Users/ely/Documents/Maestria/segundo_semestre/cimat2023-1/lenguaje/.conda/lib/python3.11/site-packages/torch/optim/lr_scheduler.py:28: UserWarning: The verbose parameter is deprecated. Please use get_last_lr() to access the learning rate.\n",
            "  warnings.warn(\"The verbose parameter is deprecated. Please use get_last_lr() \"\n"
          ]
        }
      ],
      "source": [
        "# Model hyperparameters\n",
        "args.d = 300 # Dimension of word embeddings\n",
        "args.filter_sizes = [3, 4]\n",
        "args.num_filters = 200 \n",
        "args.dropout = 0.2\n",
        "\n",
        "# Training hyperparameters\n",
        "args.lr = 1e-2\n",
        "args.num_epochs = 25\n",
        "args.patience = 10\n",
        "\n",
        "# Scheduler hyperparameters\n",
        "args.lr_patience = 5\n",
        "args.lr_factor = 0.5\n",
        "\n",
        "# Saving directory\n",
        "args.savedir = 'model1'\n",
        "os.makedirs(args.savedir, exist_ok=True)\n",
        "\n",
        "#Embbedings--------------------------------------------------------------------------------\n",
        "embedding_model = Word2VecKeyedVectors.load_word2vec_format('GNvectors.bin', binary=True)\n",
        "embedding_weights = {key: embedding_model[word] if word in embedding_model else\n",
        "                          np.random.uniform(-0.25, 0.25, embedding_model.vector_size)\n",
        "                     for key, word in idx2w.items()}\n",
        "\n",
        "\n",
        "# Convertir embedding_weights a una lista de pesos de embedding--\n",
        "embedding_weights_list = [embedding_weights[idx] for idx in range(len(embedding_weights))]\n",
        "\n",
        "# Crear el modelo CNNTextCls con embeddings pre-entrenados y freeze=TRUE porque no queremos que se entrenen los parametros\n",
        "model_static = CNNTextCls(args, embeddings=torch.FloatTensor(embedding_weights_list),freeze=True)\n",
        "\n",
        "#-----------------------------------------------------------------------------------------\n",
        "\n",
        "# Send to GPU\n",
        "args.use_gpu = torch.cuda.is_available()\n",
        "if args.use_gpu:\n",
        "    model.cuda()\n",
        "\n",
        "# Loss, Optimizer and Scheduler\n",
        "criterion = nn.BCEWithLogitsLoss()\n",
        "optimizer = torch.optim.SGD(model.parameters(), lr=args.lr)\n",
        "scheduler = torch.optim.lr_scheduler.ReduceLROnPlateau(\n",
        "                optimizer, \"max\",\n",
        "                patience=args.lr_patience,\n",
        "                verbose=True,\n",
        "                factor=args.lr_factor\n",
        "            )"
      ]
    },
    {
      "cell_type": "code",
      "execution_count": 138,
      "metadata": {},
      "outputs": [
        {
          "name": "stdout",
          "output_type": "stream",
          "text": [
            "Epoch [1/25], Loss: 0.6685 - Train Accuracy: 0.7032 - Val Accuracy: 0.7216 - Epoch time: 8.01 s\n",
            "Epoch [2/25], Loss: 0.6689 - Train Accuracy: 0.7051 - Val Accuracy: 0.7216 - Epoch time: 8.48 s\n",
            "Epoch [3/25], Loss: 0.6693 - Train Accuracy: 0.7079 - Val Accuracy: 0.7216 - Epoch time: 7.90 s\n",
            "Epoch [4/25], Loss: 0.6688 - Train Accuracy: 0.7062 - Val Accuracy: 0.7216 - Epoch time: 7.77 s\n",
            "Epoch [5/25], Loss: 0.6690 - Train Accuracy: 0.7086 - Val Accuracy: 0.7216 - Epoch time: 7.87 s\n",
            "Epoch [6/25], Loss: 0.6686 - Train Accuracy: 0.7084 - Val Accuracy: 0.7216 - Epoch time: 8.66 s\n",
            "Epoch [7/25], Loss: 0.6692 - Train Accuracy: 0.7087 - Val Accuracy: 0.7216 - Epoch time: 10.14 s\n",
            "Epoch [8/25], Loss: 0.6686 - Train Accuracy: 0.7075 - Val Accuracy: 0.7216 - Epoch time: 10.68 s\n",
            "Epoch [9/25], Loss: 0.6686 - Train Accuracy: 0.7070 - Val Accuracy: 0.7216 - Epoch time: 11.14 s\n",
            "Epoch [10/25], Loss: 0.6691 - Train Accuracy: 0.7081 - Val Accuracy: 0.7216 - Epoch time: 12.87 s\n",
            "No improvement. Breaking out of loop.\n",
            "Total training time: 105.5379 seconds\n"
          ]
        }
      ],
      "source": [
        "start_time = time.time()\n",
        "train_metric_history, val_metric_history = train(args, model_static, train_loader, val_loader, optimizer, criterion, scheduler)\n",
        "print(\"Total training time: {:.4f} seconds\".format((time.time() - start_time)))"
      ]
    },
    {
      "cell_type": "code",
      "execution_count": 140,
      "metadata": {},
      "outputs": [
        {
          "data": {
            "image/png": "[encoded data removed]",
            "text/plain": [
              "<Figure size 640x480 with 1 Axes>"
            ]
          },
          "metadata": {},
          "output_type": "display_data"
        }
      ],
      "source": [
        "plt.plot(train_metric_history, label='train')\n",
        "plt.plot(val_metric_history, label='val')\n",
        "plt.title('CNN static Classifier')\n",
        "plt.ylabel('Accuracy')\n",
        "plt.xlabel('# epoch')\n",
        "plt.legend(loc='best')\n",
        "plt.show()"
      ]
    },
    {
      "cell_type": "markdown",
      "metadata": {},
      "source": [
        "CNN-non-Static"
      ]
    },
    {
      "cell_type": "code",
      "execution_count": 141,
      "metadata": {},
      "outputs": [
        {
          "name": "stderr",
          "output_type": "stream",
          "text": [
            "/Users/ely/Documents/Maestria/segundo_semestre/cimat2023-1/lenguaje/.conda/lib/python3.11/site-packages/torch/optim/lr_scheduler.py:28: UserWarning: The verbose parameter is deprecated. Please use get_last_lr() to access the learning rate.\n",
            "  warnings.warn(\"The verbose parameter is deprecated. Please use get_last_lr() \"\n"
          ]
        }
      ],
      "source": [
        "# Model hyperparameters\n",
        "args.d = 300 # Dimension of word embeddings\n",
        "args.filter_sizes = [4, 5]\n",
        "args.num_filters = 200\n",
        "args.dropout = 0.2\n",
        "\n",
        "# Training hyperparameters\n",
        "args.lr = 1e-2\n",
        "args.num_epochs = 25\n",
        "args.patience = 10\n",
        "\n",
        "# Scheduler hyperparameters\n",
        "args.lr_patience = 5\n",
        "args.lr_factor = 0.5\n",
        "\n",
        "# Saving directory\n",
        "args.savedir = 'model2'\n",
        "os.makedirs(args.savedir, exist_ok=True)\n",
        "\n",
        "#embbedings-----------------------------------------------------\n",
        "embedding_model = Word2VecKeyedVectors.load_word2vec_format('GNvectors.bin', binary=True)\n",
        "embedding_weights = {key: embedding_model[word] if word in embedding_model else\n",
        "                          np.random.uniform(-0.25, 0.25, embedding_model.vector_size)\n",
        "                     for key, word in idx2w.items()}\n",
        "\n",
        "\n",
        "# Convertir embedding_weights a una lista de pesos de embedding\n",
        "embedding_weights_list = [embedding_weights[idx] for idx in range(len(embedding_weights))]\n",
        "\n",
        "# Crear el modelo CNNTextCls con embeddings pre-entrenados con freeze=False porque sí queremos que se entrenen los pesos\n",
        "model_non_static = CNNTextCls(args, embeddings=torch.FloatTensor(embedding_weights_list),freeze=False)\n",
        "#----------------------------------------------------------------\n",
        "\n",
        "# Send to GPU\n",
        "args.use_gpu = torch.cuda.is_available()\n",
        "if args.use_gpu:\n",
        "    model.cuda()\n",
        "\n",
        "# Loss, Optimizer and Scheduler\n",
        "criterion = nn.BCEWithLogitsLoss()\n",
        "optimizer = torch.optim.SGD(model.parameters(), lr=args.lr)\n",
        "scheduler = torch.optim.lr_scheduler.ReduceLROnPlateau(\n",
        "                optimizer, \"max\",\n",
        "                patience=args.lr_patience,\n",
        "                verbose=True,\n",
        "                factor=args.lr_factor)"
      ]
    },
    {
      "cell_type": "code",
      "execution_count": 142,
      "metadata": {},
      "outputs": [
        {
          "name": "stdout",
          "output_type": "stream",
          "text": [
            "Epoch [1/25], Loss: 0.7146 - Train Accuracy: 0.3039 - Val Accuracy: 0.2765 - Epoch time: 13.30 s\n",
            "Epoch [2/25], Loss: 0.7153 - Train Accuracy: 0.2992 - Val Accuracy: 0.2765 - Epoch time: 12.15 s\n",
            "Epoch [3/25], Loss: 0.7150 - Train Accuracy: 0.3046 - Val Accuracy: 0.2765 - Epoch time: 10.42 s\n",
            "Epoch [4/25], Loss: 0.7148 - Train Accuracy: 0.3035 - Val Accuracy: 0.2765 - Epoch time: 10.51 s\n",
            "Epoch [5/25], Loss: 0.7149 - Train Accuracy: 0.3079 - Val Accuracy: 0.2765 - Epoch time: 12.34 s\n",
            "Epoch [6/25], Loss: 0.7146 - Train Accuracy: 0.3091 - Val Accuracy: 0.2765 - Epoch time: 15.03 s\n",
            "Epoch [7/25], Loss: 0.7152 - Train Accuracy: 0.3071 - Val Accuracy: 0.2765 - Epoch time: 14.80 s\n",
            "Epoch [8/25], Loss: 0.7147 - Train Accuracy: 0.3066 - Val Accuracy: 0.2765 - Epoch time: 15.01 s\n",
            "Epoch [9/25], Loss: 0.7146 - Train Accuracy: 0.3017 - Val Accuracy: 0.2765 - Epoch time: 15.35 s\n",
            "Epoch [10/25], Loss: 0.7144 - Train Accuracy: 0.3027 - Val Accuracy: 0.2765 - Epoch time: 12.48 s\n",
            "No improvement. Breaking out of loop.\n",
            "Total training time: 144.0142 seconds\n"
          ]
        }
      ],
      "source": [
        "start_time = time.time()\n",
        "train_metric_history, val_metric_history = train(args, model_non_static, train_loader, val_loader, optimizer, criterion, scheduler)\n",
        "print(\"Total training time: {:.4f} seconds\".format((time.time() - start_time)))"
      ]
    },
    {
      "cell_type": "code",
      "execution_count": 143,
      "metadata": {},
      "outputs": [
        {
          "data": {
            "image/png": "[encoded data removed]",
            "text/plain": [
              "<Figure size 640x480 with 1 Axes>"
            ]
          },
          "metadata": {},
          "output_type": "display_data"
        }
      ],
      "source": [
        "plt.plot(train_metric_history, label='train')\n",
        "plt.plot(val_metric_history, label='val')\n",
        "plt.title('CNN Classifier')\n",
        "plt.ylabel('Accuracy')\n",
        "plt.xlabel('# epoch')\n",
        "plt.legend(loc='best')\n",
        "plt.show()"
      ]
    },
    {
      "cell_type": "markdown",
      "metadata": {},
      "source": [
        "Creo que la arquitectura está bien, agregue los embbedings preentrenados uaando:"
      ]
    },
    {
      "cell_type": "code",
      "execution_count": null,
      "metadata": {},
      "outputs": [],
      "source": [
        "embedding_model = Word2VecKeyedVectors.load_word2vec_format('GNvectors.bin', binary=True)\n",
        "embedding_weights = {key: embedding_model[word] if word in embedding_model else\n",
        "                          np.random.uniform(-0.25, 0.25, embedding_model.vector_size)\n",
        "                     for key, word in idx2w.items()}"
      ]
    },
    {
      "cell_type": "markdown",
      "metadata": {},
      "source": [
        "Pero cada que entreno los modelos static y non static me dan cosas distintas, usualmente raras.\n",
        "Tampoco mejora nunca el accuracy del conjunto de validación"
      ]
    },
    {
      "cell_type": "markdown",
      "metadata": {},
      "source": []
    }
  ],
  "metadata": {
    "accelerator": "GPU",
    "colab": {
      "provenance": []
    },
    "kernelspec": {
      "display_name": "Python 3",
      "name": "python3"
    },
    "language_info": {
      "codemirror_mode": {
        "name": "ipython",
        "version": 3
      },
      "file_extension": ".py",
      "mimetype": "text/x-python",
      "name": "python",
      "nbconvert_exporter": "python",
      "pygments_lexer": "ipython3",
      "version": "3.11.0"
    }
  },
  "nbformat": 4,
  "nbformat_minor": 0
}
