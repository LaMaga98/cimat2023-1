{
 "cells": [
  {
   "cell_type": "markdown",
   "metadata": {},
   "source": [
    "Librerias del ambiente para esta clase:\n",
    "\n",
    "    * numpy\n",
    "    * pywget\n",
    "    * BeautifulSoup\n",
    "    * NLTK\n",
    "    * Matplotlib\n",
    "    * Keras\n",
    "    * Pandas\n"
   ]
  },
  {
   "cell_type": "code",
   "execution_count": 2,
   "metadata": {},
   "outputs": [
    {
     "name": "stdout",
     "output_type": "stream",
     "text": [
      "Package             Version\n",
      "------------------- ------------\n",
      "appnope             0.1.3\n",
      "asttokens           2.4.1\n",
      "beautifulsoup4      4.12.3\n",
      "Bottleneck          1.3.5\n",
      "certifi             2023.11.17\n",
      "charset-normalizer  3.3.2\n",
      "click               8.1.7\n",
      "comm                0.2.1\n",
      "contourpy           1.2.0\n",
      "cycler              0.11.0\n",
      "debugpy             1.6.7\n",
      "decorator           5.1.1\n",
      "exceptiongroup      1.2.0\n",
      "executing           2.0.1\n",
      "fonttools           4.25.0\n",
      "idna                3.6\n",
      "importlib-metadata  7.0.1\n",
      "ipykernel           6.29.0\n",
      "ipython             8.20.0\n",
      "jedi                0.19.1\n",
      "joblib              1.3.2\n",
      "jupyter_client      8.6.0\n",
      "jupyter_core        5.5.0\n",
      "keras               2.12.0\n",
      "Keras-Preprocessing 1.1.2\n",
      "kiwisolver          1.4.4\n",
      "matplotlib          3.8.0\n",
      "matplotlib-inline   0.1.6\n",
      "munkres             1.1.4\n",
      "nest_asyncio        1.5.9\n",
      "nltk                3.8.1\n",
      "numexpr             2.8.7\n",
      "numpy               1.26.3\n",
      "packaging           23.2\n",
      "pandas              2.1.4\n",
      "parso               0.8.3\n",
      "pexpect             4.8.0\n",
      "pickleshare         0.7.5\n",
      "Pillow              10.0.1\n",
      "pip                 23.3.1\n",
      "platformdirs        4.1.0\n",
      "prompt-toolkit      3.0.42\n",
      "psutil              5.9.0\n",
      "ptyprocess          0.7.0\n",
      "pure-eval           0.2.2\n",
      "Pygments            2.17.2\n",
      "pyparsing           3.0.9\n",
      "python-dateutil     2.8.2\n",
      "pytz                2023.3.post1\n",
      "pywget              0.31\n",
      "pyzmq               25.1.0\n",
      "regex               2023.12.25\n",
      "requests            2.31.0\n",
      "scipy               1.11.4\n",
      "setuptools          68.2.2\n",
      "six                 1.16.0\n",
      "soupsieve           2.5\n",
      "stack-data          0.6.2\n",
      "tornado             6.3.3\n",
      "tqdm                4.66.1\n",
      "traitlets           5.14.1\n",
      "typing_extensions   4.9.0\n",
      "tzdata              2023.3\n",
      "urllib3             2.1.0\n",
      "wcwidth             0.2.13\n",
      "wget                3.2\n",
      "wheel               0.41.2\n",
      "zipp                3.17.0\n",
      "Note: you may need to restart the kernel to use updated packages.\n"
     ]
    }
   ],
   "source": [
    "pip list"
   ]
  },
  {
   "cell_type": "code",
   "execution_count": 1,
   "metadata": {},
   "outputs": [
    {
     "name": "stdout",
     "output_type": "stream",
     "text": [
      "Retrieving notices: ...working... done\n",
      "Channels:\n",
      " - defaults\n",
      "Platform: osx-arm64\n",
      "Collecting package metadata (repodata.json): done\n",
      "Solving environment: done\n",
      "\n",
      "## Package Plan ##\n",
      "\n",
      "  environment location: /Users/ely/Documents/Maestria/segundo_semestre/lenguaje/.conda\n",
      "\n",
      "  added / updated specs:\n",
      "    - keras\n",
      "\n",
      "\n",
      "The following NEW packages will be INSTALLED:\n",
      "\n",
      "  keras              pkgs/main/osx-arm64::keras-2.12.0-py311hca03da5_0 \n",
      "  keras-preprocessi~ pkgs/main/noarch::keras-preprocessing-1.1.2-pyhd3eb1b0_0 \n",
      "  scipy              pkgs/main/osx-arm64::scipy-1.11.4-py311hc76d9b0_0 \n",
      "\n",
      "\n",
      "\n",
      "Downloading and Extracting Packages:\n",
      "\n",
      "Preparing transaction: done\n",
      "Verifying transaction: done\n",
      "Executing transaction: done\n",
      "\n",
      "Note: you may need to restart the kernel to use updated packages.\n"
     ]
    }
   ],
   "source": [
    "conda install keras"
   ]
  },
  {
   "cell_type": "code",
   "execution_count": 1,
   "metadata": {},
   "outputs": [
    {
     "name": "stdout",
     "output_type": "stream",
     "text": [
      "Retrieving notices: ...working... done\n",
      "Channels:\n",
      " - defaults\n",
      " - conda-forge\n",
      "Platform: osx-arm64\n",
      "Collecting package metadata (repodata.json): done\n",
      "Solving environment: done\n",
      "\n",
      "## Package Plan ##\n",
      "\n",
      "  environment location: /Users/ely/Documents/Maestria/segundo_semestre/lenguaje/.conda\n",
      "\n",
      "  added / updated specs:\n",
      "    - pandas\n",
      "\n",
      "\n",
      "The following NEW packages will be INSTALLED:\n",
      "\n",
      "  bottleneck         pkgs/main/osx-arm64::bottleneck-1.3.5-py311ha0d4635_0 \n",
      "  numexpr            pkgs/main/osx-arm64::numexpr-2.8.7-py311h6dc990b_0 \n",
      "  pandas             pkgs/main/osx-arm64::pandas-2.1.4-py311h7aedaa7_0 \n",
      "  python-tzdata      pkgs/main/noarch::python-tzdata-2023.3-pyhd3eb1b0_0 \n",
      "  pytz               pkgs/main/osx-arm64::pytz-2023.3.post1-py311hca03da5_0 \n",
      "\n",
      "\n",
      "\n",
      "Downloading and Extracting Packages:\n",
      "\n",
      "Preparing transaction: done\n",
      "Verifying transaction: done\n",
      "Executing transaction: done\n",
      "\n",
      "Note: you may need to restart the kernel to use updated packages.\n"
     ]
    }
   ],
   "source": [
    "conda install pandas"
   ]
  },
  {
   "cell_type": "code",
   "execution_count": 4,
   "metadata": {},
   "outputs": [
    {
     "name": "stdout",
     "output_type": "stream",
     "text": [
      "Channels:\n",
      " - defaults\n",
      " - conda-forge\n",
      "Platform: osx-arm64\n",
      "Collecting package metadata (repodata.json): done\n",
      "Solving environment: failed\n",
      "\n",
      "PackagesNotFoundError: The following packages are not available from current channels:\n",
      "\n",
      "  - datetime\n",
      "\n",
      "Current channels:\n",
      "\n",
      "  - defaults\n",
      "  - https://conda.anaconda.org/conda-forge/noarch\n",
      "  - https://conda.anaconda.org/conda-forge/osx-arm64\n",
      "\n",
      "To search for alternate channels that may provide the conda package you're\n",
      "looking for, navigate to\n",
      "\n",
      "    https://anaconda.org\n",
      "\n",
      "and use the search bar at the top of the page.\n",
      "\n",
      "\n",
      "\n",
      "Note: you may need to restart the kernel to use updated packages.\n"
     ]
    }
   ],
   "source": [
    "conda install datetime"
   ]
  },
  {
   "cell_type": "markdown",
   "metadata": {},
   "source": []
  }
 ],
 "metadata": {
  "kernelspec": {
   "display_name": "Python 3",
   "language": "python",
   "name": "python3"
  },
  "language_info": {
   "codemirror_mode": {
    "name": "ipython",
    "version": 3
   },
   "file_extension": ".py",
   "mimetype": "text/x-python",
   "name": "python",
   "nbconvert_exporter": "python",
   "pygments_lexer": "ipython3",
   "version": "3.11.7"
  }
 },
 "nbformat": 4,
 "nbformat_minor": 2
}
