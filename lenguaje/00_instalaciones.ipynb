{
 "cells": [
  {
   "cell_type": "markdown",
   "metadata": {},
   "source": [
    "Librerias del ambiente para esta clase:\n",
    "\n",
    "    * numpy\n",
    "    * pywget\n",
    "    * BeautifulSoup\n",
    "    * NLTK\n",
    "    * Matplotlib\n",
    "    * Keras\n",
    "    * Pandas\n"
   ]
  },
  {
   "cell_type": "code",
   "execution_count": 1,
   "metadata": {},
   "outputs": [
    {
     "name": "stdout",
     "output_type": "stream",
     "text": [
      "Package                 Version\n",
      "----------------------- ----------\n",
      "appnope                 0.1.4\n",
      "archspec                0.2.1\n",
      "asttokens               2.4.1\n",
      "boltons                 23.0.0\n",
      "Brotli                  1.0.9\n",
      "certifi                 2024.2.2\n",
      "cffi                    1.16.0\n",
      "charset-normalizer      2.0.4\n",
      "click                   8.1.7\n",
      "comm                    0.2.1\n",
      "conda                   24.1.1\n",
      "conda-content-trust     0.2.0\n",
      "conda-libmamba-solver   23.12.0\n",
      "conda-package-handling  2.2.0\n",
      "conda_package_streaming 0.9.0\n",
      "cryptography            41.0.7\n",
      "debugpy                 1.6.7\n",
      "decorator               5.1.1\n",
      "distro                  1.8.0\n",
      "exceptiongroup          1.2.0\n",
      "executing               2.0.1\n",
      "idna                    3.4\n",
      "importlib-metadata      7.0.1\n",
      "ipykernel               6.29.2\n",
      "ipython                 8.21.0\n",
      "jedi                    0.19.1\n",
      "joblib                  1.3.2\n",
      "jsonpatch               1.32\n",
      "jsonpointer             2.1\n",
      "jupyter_client          8.6.0\n",
      "jupyter_core            5.7.1\n",
      "libmambapy              1.5.3\n",
      "matplotlib-inline       0.1.6\n",
      "menuinst                2.0.1\n",
      "nest_asyncio            1.6.0\n",
      "nltk                    3.8.1\n",
      "packaging               23.1\n",
      "parso                   0.8.3\n",
      "pexpect                 4.9.0\n",
      "pickleshare             0.7.5\n",
      "pip                     23.3.1\n",
      "platformdirs            3.10.0\n",
      "pluggy                  1.0.0\n",
      "prompt-toolkit          3.0.42\n",
      "psutil                  5.9.8\n",
      "ptyprocess              0.7.0\n",
      "pure-eval               0.2.2\n",
      "pycosat                 0.6.6\n",
      "pycparser               2.21\n",
      "Pygments                2.17.2\n",
      "pyOpenSSL               23.2.0\n",
      "PySocks                 1.7.1\n",
      "python-dateutil         2.8.2\n",
      "pyzmq                   25.1.1\n",
      "regex                   2023.12.25\n",
      "requests                2.31.0\n",
      "ruamel.yaml             0.17.21\n",
      "setuptools              68.2.2\n",
      "six                     1.16.0\n",
      "stack-data              0.6.2\n",
      "tornado                 6.3.3\n",
      "tqdm                    4.66.1\n",
      "traitlets               5.14.1\n",
      "truststore              0.8.0\n",
      "typing_extensions       4.9.0\n",
      "urllib3                 1.26.18\n",
      "wcwidth                 0.2.13\n",
      "wheel                   0.41.2\n",
      "zipp                    3.17.0\n",
      "zstandard               0.19.0\n",
      "Note: you may need to restart the kernel to use updated packages.\n"
     ]
    }
   ],
   "source": [
    "pip list"
   ]
  },
  {
   "cell_type": "code",
   "execution_count": 2,
   "metadata": {},
   "outputs": [
    {
     "name": "stdout",
     "output_type": "stream",
     "text": [
      "Channels:\n",
      " - defaults\n",
      " - conda-forge\n",
      "Platform: osx-arm64\n",
      "Collecting package metadata (repodata.json): done\n",
      "Solving environment: done\n",
      "\n",
      "## Package Plan ##\n",
      "\n",
      "  environment location: /Users/ely/miniconda3\n",
      "\n",
      "  added / updated specs:\n",
      "    - keras\n",
      "\n",
      "\n",
      "The following packages will be downloaded:\n",
      "\n",
      "    package                    |            build\n",
      "    ---------------------------|-----------------\n",
      "    conda-24.1.1               |  py311hca03da5_0         1.2 MB\n",
      "    ------------------------------------------------------------\n",
      "                                           Total:         1.2 MB\n",
      "\n",
      "The following NEW packages will be INSTALLED:\n",
      "\n",
      "  blas               pkgs/main/osx-arm64::blas-1.0-openblas \n",
      "  keras              pkgs/main/osx-arm64::keras-2.12.0-py311hca03da5_0 \n",
      "  keras-preprocessi~ pkgs/main/noarch::keras-preprocessing-1.1.2-pyhd3eb1b0_0 \n",
      "  libgfortran        pkgs/main/osx-arm64::libgfortran-5.0.0-11_3_0_hca03da5_28 \n",
      "  libgfortran5       pkgs/main/osx-arm64::libgfortran5-11.3.0-h009349e_28 \n",
      "  libopenblas        pkgs/main/osx-arm64::libopenblas-0.3.21-h269037a_0 \n",
      "  llvm-openmp        pkgs/main/osx-arm64::llvm-openmp-14.0.6-hc6e5704_0 \n",
      "  numpy              pkgs/main/osx-arm64::numpy-1.26.3-py311he598dae_0 \n",
      "  numpy-base         pkgs/main/osx-arm64::numpy-base-1.26.3-py311hfbfe69c_0 \n",
      "  scipy              pkgs/main/osx-arm64::scipy-1.11.4-py311hc76d9b0_0 \n",
      "\n",
      "The following packages will be SUPERSEDED by a higher-priority channel:\n",
      "\n",
      "  certifi            conda-forge/noarch::certifi-2024.2.2-~ --> pkgs/main/osx-arm64::certifi-2024.2.2-py311hca03da5_0 \n",
      "  conda              conda-forge::conda-24.1.1-py311h267d0~ --> pkgs/main::conda-24.1.1-py311hca03da5_0 \n",
      "\n",
      "\n",
      "\n",
      "Downloading and Extracting Packages:\n",
      "                                                                                \n",
      "Preparing transaction: done\n",
      "Verifying transaction: done\n",
      "Executing transaction: done\n",
      "\n",
      "Note: you may need to restart the kernel to use updated packages.\n"
     ]
    }
   ],
   "source": [
    "conda install keras\n"
   ]
  },
  {
   "cell_type": "code",
   "execution_count": 1,
   "metadata": {},
   "outputs": [
    {
     "name": "stdout",
     "output_type": "stream",
     "text": [
      "Retrieving notices: ...working... done\n",
      "Channels:\n",
      " - defaults\n",
      " - conda-forge\n",
      "Platform: osx-arm64\n",
      "Collecting package metadata (repodata.json): done\n",
      "Solving environment: done\n",
      "\n",
      "## Package Plan ##\n",
      "\n",
      "  environment location: /Users/ely/Documents/Maestria/segundo_semestre/lenguaje/.conda\n",
      "\n",
      "  added / updated specs:\n",
      "    - pandas\n",
      "\n",
      "\n",
      "The following NEW packages will be INSTALLED:\n",
      "\n",
      "  bottleneck         pkgs/main/osx-arm64::bottleneck-1.3.5-py311ha0d4635_0 \n",
      "  numexpr            pkgs/main/osx-arm64::numexpr-2.8.7-py311h6dc990b_0 \n",
      "  pandas             pkgs/main/osx-arm64::pandas-2.1.4-py311h7aedaa7_0 \n",
      "  python-tzdata      pkgs/main/noarch::python-tzdata-2023.3-pyhd3eb1b0_0 \n",
      "  pytz               pkgs/main/osx-arm64::pytz-2023.3.post1-py311hca03da5_0 \n",
      "\n",
      "\n",
      "\n",
      "Downloading and Extracting Packages:\n",
      "\n",
      "Preparing transaction: done\n",
      "Verifying transaction: done\n",
      "Executing transaction: done\n",
      "\n",
      "Note: you may need to restart the kernel to use updated packages.\n"
     ]
    }
   ],
   "source": [
    "conda install pandas"
   ]
  },
  {
   "cell_type": "code",
   "execution_count": 3,
   "metadata": {},
   "outputs": [
    {
     "name": "stdout",
     "output_type": "stream",
     "text": [
      "usage: conda [-h] [-v] [--no-plugins] [-V] COMMAND ...\n",
      "conda: error: argument COMMAND: invalid choice: 'istall' (choose from 'activate', 'deactivate', 'clean', 'compare', 'config', 'create', 'env', 'info', 'init', 'install', 'list', 'notices', 'package', 'remove', 'uninstall', 'rename', 'run', 'search', 'update', 'upgrade', 'content-trust', 'doctor', 'repoquery')\n",
      "\n",
      "Note: you may need to restart the kernel to use updated packages.\n"
     ]
    }
   ],
   "source": [
    "conda istall tensorflow"
   ]
  },
  {
   "cell_type": "code",
   "execution_count": 4,
   "metadata": {},
   "outputs": [
    {
     "name": "stdout",
     "output_type": "stream",
     "text": [
      "Channels:\n",
      " - defaults\n",
      " - conda-forge\n",
      "Platform: osx-arm64\n",
      "Collecting package metadata (repodata.json): done\n",
      "Solving environment: failed\n",
      "\n",
      "PackagesNotFoundError: The following packages are not available from current channels:\n",
      "\n",
      "  - datetime\n",
      "\n",
      "Current channels:\n",
      "\n",
      "  - defaults\n",
      "  - https://conda.anaconda.org/conda-forge/noarch\n",
      "  - https://conda.anaconda.org/conda-forge/osx-arm64\n",
      "\n",
      "To search for alternate channels that may provide the conda package you're\n",
      "looking for, navigate to\n",
      "\n",
      "    https://anaconda.org\n",
      "\n",
      "and use the search bar at the top of the page.\n",
      "\n",
      "\n",
      "\n",
      "Note: you may need to restart the kernel to use updated packages.\n"
     ]
    }
   ],
   "source": [
    "conda install datetime"
   ]
  },
  {
   "cell_type": "markdown",
   "metadata": {},
   "source": []
  }
 ],
 "metadata": {
  "kernelspec": {
   "display_name": "Python 3",
   "language": "python",
   "name": "python3"
  },
  "language_info": {
   "codemirror_mode": {
    "name": "ipython",
    "version": 3
   },
   "file_extension": ".py",
   "mimetype": "text/x-python",
   "name": "python",
   "nbconvert_exporter": "python",
   "pygments_lexer": "ipython3",
   "version": "3.11.7"
  }
 },
 "nbformat": 4,
 "nbformat_minor": 2
}
