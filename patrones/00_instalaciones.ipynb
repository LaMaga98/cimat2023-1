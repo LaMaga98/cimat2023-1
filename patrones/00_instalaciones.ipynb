{
 "cells": [
  {
   "cell_type": "code",
   "execution_count": 1,
   "metadata": {},
   "outputs": [
    {
     "name": "stdout",
     "output_type": "stream",
     "text": [
      "Channels:\n",
      " - defaults\n",
      " - conda-forge\n",
      "Platform: osx-arm64\n",
      "Collecting package metadata (repodata.json): done\n",
      "Solving environment: done\n",
      "\n",
      "## Package Plan ##\n",
      "\n",
      "  environment location: /Users/ely/Documents/Maestria/segundo_semestre/patrones/.conda\n",
      "\n",
      "  added / updated specs:\n",
      "    - numpy\n",
      "\n",
      "\n",
      "The following NEW packages will be INSTALLED:\n",
      "\n",
      "  blas               pkgs/main/osx-arm64::blas-1.0-openblas \n",
      "  libgfortran        pkgs/main/osx-arm64::libgfortran-5.0.0-11_3_0_hca03da5_28 \n",
      "  libgfortran5       pkgs/main/osx-arm64::libgfortran5-11.3.0-h009349e_28 \n",
      "  libopenblas        pkgs/main/osx-arm64::libopenblas-0.3.21-h269037a_0 \n",
      "  llvm-openmp        pkgs/main/osx-arm64::llvm-openmp-14.0.6-hc6e5704_0 \n",
      "  numpy              pkgs/main/osx-arm64::numpy-1.26.3-py311he598dae_0 \n",
      "  numpy-base         pkgs/main/osx-arm64::numpy-base-1.26.3-py311hfbfe69c_0 \n",
      "\n",
      "\n",
      "\n",
      "Downloading and Extracting Packages:\n",
      "\n",
      "Preparing transaction: done\n",
      "Verifying transaction: done\n",
      "Executing transaction: done\n",
      "\n",
      "Note: you may need to restart the kernel to use updated packages.\n"
     ]
    }
   ],
   "source": [
    "conda install numpy"
   ]
  },
  {
   "cell_type": "code",
   "execution_count": 2,
   "metadata": {},
   "outputs": [
    {
     "name": "stdout",
     "output_type": "stream",
     "text": [
      "Channels:\n",
      " - defaults\n",
      " - conda-forge\n",
      "Platform: osx-arm64\n",
      "Collecting package metadata (repodata.json): done\n",
      "Solving environment: done\n",
      "\n",
      "## Package Plan ##\n",
      "\n",
      "  environment location: /Users/ely/Documents/Maestria/segundo_semestre/patrones/.conda\n",
      "\n",
      "  added / updated specs:\n",
      "    - pandas\n",
      "\n",
      "\n",
      "The following NEW packages will be INSTALLED:\n",
      "\n",
      "  bottleneck         pkgs/main/osx-arm64::bottleneck-1.3.5-py311ha0d4635_0 \n",
      "  numexpr            pkgs/main/osx-arm64::numexpr-2.8.7-py311h6dc990b_0 \n",
      "  pandas             pkgs/main/osx-arm64::pandas-2.1.4-py311h7aedaa7_0 \n",
      "  python-tzdata      pkgs/main/noarch::python-tzdata-2023.3-pyhd3eb1b0_0 \n",
      "  pytz               pkgs/main/osx-arm64::pytz-2023.3.post1-py311hca03da5_0 \n",
      "\n",
      "\n",
      "\n",
      "Downloading and Extracting Packages:\n",
      "\n",
      "Preparing transaction: done\n",
      "Verifying transaction: done\n",
      "Executing transaction: done\n",
      "\n",
      "Note: you may need to restart the kernel to use updated packages.\n"
     ]
    }
   ],
   "source": [
    "conda install pandas"
   ]
  },
  {
   "cell_type": "markdown",
   "metadata": {},
   "source": []
  },
  {
   "cell_type": "code",
   "execution_count": 3,
   "metadata": {},
   "outputs": [
    {
     "name": "stdout",
     "output_type": "stream",
     "text": [
      "Channels:\n",
      " - defaults\n",
      " - conda-forge\n",
      "Platform: osx-arm64\n",
      "Collecting package metadata (repodata.json): done\n",
      "Solving environment: done\n",
      "\n",
      "## Package Plan ##\n",
      "\n",
      "  environment location: /Users/ely/Documents/Maestria/segundo_semestre/patrones/.conda\n",
      "\n",
      "  added / updated specs:\n",
      "    - seaborn\n",
      "\n",
      "\n",
      "The following packages will be downloaded:\n",
      "\n",
      "    package                    |            build\n",
      "    ---------------------------|-----------------\n",
      "    pillow-10.2.0              |  py311h80987f9_0         855 KB\n",
      "    seaborn-0.12.2             |  py311hca03da5_0         580 KB\n",
      "    ------------------------------------------------------------\n",
      "                                           Total:         1.4 MB\n",
      "\n",
      "The following NEW packages will be INSTALLED:\n",
      "\n",
      "  brotli             pkgs/main/osx-arm64::brotli-1.0.9-h1a28f6b_7 \n",
      "  brotli-bin         pkgs/main/osx-arm64::brotli-bin-1.0.9-h1a28f6b_7 \n",
      "  contourpy          pkgs/main/osx-arm64::contourpy-1.2.0-py311h48ca7d4_0 \n",
      "  cycler             pkgs/main/noarch::cycler-0.11.0-pyhd3eb1b0_0 \n",
      "  fonttools          pkgs/main/noarch::fonttools-4.25.0-pyhd3eb1b0_0 \n",
      "  freetype           pkgs/main/osx-arm64::freetype-2.12.1-h1192e45_0 \n",
      "  jpeg               pkgs/main/osx-arm64::jpeg-9e-h80987f9_1 \n",
      "  kiwisolver         pkgs/main/osx-arm64::kiwisolver-1.4.4-py311h313beb8_0 \n",
      "  lcms2              pkgs/main/osx-arm64::lcms2-2.12-hba8e193_0 \n",
      "  lerc               pkgs/main/osx-arm64::lerc-3.0-hc377ac9_0 \n",
      "  libbrotlicommon    pkgs/main/osx-arm64::libbrotlicommon-1.0.9-h1a28f6b_7 \n",
      "  libbrotlidec       pkgs/main/osx-arm64::libbrotlidec-1.0.9-h1a28f6b_7 \n",
      "  libbrotlienc       pkgs/main/osx-arm64::libbrotlienc-1.0.9-h1a28f6b_7 \n",
      "  libdeflate         pkgs/main/osx-arm64::libdeflate-1.17-h80987f9_1 \n",
      "  libpng             pkgs/main/osx-arm64::libpng-1.6.39-h80987f9_0 \n",
      "  libtiff            pkgs/main/osx-arm64::libtiff-4.5.1-h313beb8_0 \n",
      "  libwebp-base       pkgs/main/osx-arm64::libwebp-base-1.3.2-h80987f9_0 \n",
      "  lz4-c              pkgs/main/osx-arm64::lz4-c-1.9.4-h313beb8_0 \n",
      "  matplotlib-base    pkgs/main/osx-arm64::matplotlib-base-3.8.0-py311h7aedaa7_0 \n",
      "  munkres            pkgs/main/noarch::munkres-1.1.4-py_0 \n",
      "  openjpeg           pkgs/main/osx-arm64::openjpeg-2.3.0-h7a6adac_2 \n",
      "  pillow             pkgs/main/osx-arm64::pillow-10.2.0-py311h80987f9_0 \n",
      "  pyparsing          pkgs/main/osx-arm64::pyparsing-3.0.9-py311hca03da5_0 \n",
      "  seaborn            pkgs/main/osx-arm64::seaborn-0.12.2-py311hca03da5_0 \n",
      "  zstd               pkgs/main/osx-arm64::zstd-1.5.5-hd90d995_0 \n",
      "\n",
      "\n",
      "\n",
      "Downloading and Extracting Packages:\n",
      "pillow-10.2.0        | 855 KB    |                                       |   0% \n",
      "pillow-10.2.0        | 855 KB    | ##################################### | 100% \u001b[A\n",
      "seaborn-0.12.2       | 580 KB    | #                                     |   3% \u001b[A\n",
      "seaborn-0.12.2       | 580 KB    | ##################################### | 100% \u001b[A\n",
      "                                                                                \u001b[A\n",
      "                                                                                \u001b[A\n",
      "Preparing transaction: done\n",
      "Verifying transaction: done\n",
      "Executing transaction: done\n",
      "\n",
      "Note: you may need to restart the kernel to use updated packages.\n"
     ]
    }
   ],
   "source": [
    "conda install seaborn"
   ]
  },
  {
   "cell_type": "code",
   "execution_count": 4,
   "metadata": {},
   "outputs": [
    {
     "name": "stdout",
     "output_type": "stream",
     "text": [
      "Channels:\n",
      " - defaults\n",
      " - conda-forge\n",
      "Platform: osx-arm64\n",
      "Collecting package metadata (repodata.json): done\n",
      "Solving environment: done\n",
      "\n",
      "## Package Plan ##\n",
      "\n",
      "  environment location: /Users/ely/Documents/Maestria/segundo_semestre/patrones/.conda\n",
      "\n",
      "  added / updated specs:\n",
      "    - matplotlib\n",
      "\n",
      "\n",
      "The following NEW packages will be INSTALLED:\n",
      "\n",
      "  matplotlib         pkgs/main/osx-arm64::matplotlib-3.8.0-py311hca03da5_0 \n",
      "\n",
      "\n",
      "\n",
      "Downloading and Extracting Packages:\n",
      "\n",
      "Preparing transaction: done\n",
      "Verifying transaction: done\n",
      "Executing transaction: done\n",
      "\n",
      "Note: you may need to restart the kernel to use updated packages.\n"
     ]
    }
   ],
   "source": [
    "conda install matplotlib"
   ]
  },
  {
   "cell_type": "code",
   "execution_count": 3,
   "metadata": {},
   "outputs": [
    {
     "name": "stdout",
     "output_type": "stream",
     "text": [
      "Channels:\n",
      " - defaults\n",
      " - conda-forge\n",
      "Platform: osx-arm64\n",
      "Collecting package metadata (repodata.json): done\n",
      "Solving environment: done\n",
      "\n",
      "## Package Plan ##\n",
      "\n",
      "  environment location: /Users/ely/Documents/Maestria/segundo_semestre/patrones/.conda\n",
      "\n",
      "  added / updated specs:\n",
      "    - scikit-learn\n",
      "\n",
      "\n",
      "The following packages will be downloaded:\n",
      "\n",
      "    package                    |            build\n",
      "    ---------------------------|-----------------\n",
      "    scikit-learn-1.2.2         |  py311h313beb8_1         8.2 MB\n",
      "    ------------------------------------------------------------\n",
      "                                           Total:         8.2 MB\n",
      "\n",
      "The following NEW packages will be INSTALLED:\n",
      "\n",
      "  joblib             pkgs/main/osx-arm64::joblib-1.2.0-py311hca03da5_0 \n",
      "  scikit-learn       pkgs/main/osx-arm64::scikit-learn-1.2.2-py311h313beb8_1 \n",
      "  scipy              pkgs/main/osx-arm64::scipy-1.11.4-py311hc76d9b0_0 \n",
      "  threadpoolctl      pkgs/main/noarch::threadpoolctl-2.2.0-pyh0d69192_0 \n",
      "\n",
      "\n",
      "\n",
      "Downloading and Extracting Packages:\n",
      "                                                                                \n",
      "Preparing transaction: done\n",
      "Verifying transaction: done\n",
      "Executing transaction: done\n",
      "\n",
      "Note: you may need to restart the kernel to use updated packages.\n"
     ]
    }
   ],
   "source": [
    "conda install scikit-learn"
   ]
  },
  {
   "cell_type": "code",
   "execution_count": 4,
   "metadata": {},
   "outputs": [
    {
     "name": "stdout",
     "output_type": "stream",
     "text": [
      "Channels:\n",
      " - defaults\n",
      " - conda-forge\n",
      "Platform: osx-arm64\n",
      "Collecting package metadata (repodata.json): done\n",
      "Solving environment: done\n",
      "\n",
      "## Package Plan ##\n",
      "\n",
      "  environment location: /Users/ely/Documents/Maestria/segundo_semestre/patrones/.conda\n",
      "\n",
      "  added / updated specs:\n",
      "    - statsmodels\n",
      "\n",
      "\n",
      "The following packages will be downloaded:\n",
      "\n",
      "    package                    |            build\n",
      "    ---------------------------|-----------------\n",
      "    patsy-0.5.3                |  py311hca03da5_0         347 KB\n",
      "    statsmodels-0.14.0         |  py311hb9f6ed7_0        11.7 MB\n",
      "    ------------------------------------------------------------\n",
      "                                           Total:        12.0 MB\n",
      "\n",
      "The following NEW packages will be INSTALLED:\n",
      "\n",
      "  patsy              pkgs/main/osx-arm64::patsy-0.5.3-py311hca03da5_0 \n",
      "  statsmodels        pkgs/main/osx-arm64::statsmodels-0.14.0-py311hb9f6ed7_0 \n",
      "\n",
      "\n",
      "\n",
      "Downloading and Extracting Packages:\n",
      "statsmodels-0.14.0   | 11.7 MB   |                                       |   0% \n",
      "statsmodels-0.14.0   | 11.7 MB   |                                       |   0% \u001b[A\n",
      "statsmodels-0.14.0   | 11.7 MB   | ###2                                  |   9% \u001b[A\n",
      "                                                                                \u001b[A\n",
      "                                                                                \u001b[A\n",
      "Preparing transaction: done\n",
      "Verifying transaction: done\n",
      "Executing transaction: done\n",
      "\n",
      "Note: you may need to restart the kernel to use updated packages.\n"
     ]
    }
   ],
   "source": [
    "conda install statsmodels"
   ]
  },
  {
   "cell_type": "code",
   "execution_count": null,
   "metadata": {},
   "outputs": [],
   "source": []
  }
 ],
 "metadata": {
  "kernelspec": {
   "display_name": "Python 3",
   "language": "python",
   "name": "python3"
  },
  "language_info": {
   "codemirror_mode": {
    "name": "ipython",
    "version": 3
   },
   "file_extension": ".py",
   "mimetype": "text/x-python",
   "name": "python",
   "nbconvert_exporter": "python",
   "pygments_lexer": "ipython3",
   "version": "3.11.7"
  }
 },
 "nbformat": 4,
 "nbformat_minor": 2
}
