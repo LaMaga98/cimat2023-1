{
 "cells": [
  {
   "cell_type": "markdown",
   "metadata": {},
   "source": [
    "# Curso de Optimización I\n",
    "## CIMAT; DEMAT, UG\n",
    "\n",
    "## Parcial 2\n",
    "\n",
    "| Descripción:                         | Fechas               |\n",
    "|--------------------------------------|----------------------|\n",
    "| Fecha de publicación del documento:  | **Mayo 16, 2024**    |\n",
    "| Hora de inicio:                      | **11:00**            |\n",
    "| Hora límite de entrega:              | **12:30**            |\n",
    "\n",
    "\n",
    "### Indicaciones\n",
    "\n",
    "Lea con cuidado los ejercicios.\n",
    "\n",
    "Puede usar las notas de clase y las tareas hechas para resolver el examen.\n",
    "\n",
    "Al final, entregue el notebook con sus respuestas, junto con los códigos que hagan falta para reproducir los resultados. Si es más de un archivo, genere un archivo ZIP que contenga el notebook y los scripts adicionales.\n",
    "\n",
    "A partir del notebook genere un archivo PDF con las respuestas y envíelo por separado \n",
    "antes de la hora límite.\n",
    "\n",
    "---\n"
   ]
  },
  {
   "cell_type": "markdown",
   "metadata": {},
   "source": [
    "## Ejercicio 1. (6 puntos)\n",
    "\n",
    "Considere el problema \n",
    "\n",
    "$$ \\min\\; f(\\mathbf{x}) \\quad \\text{sujeto a} \\quad c_1(\\mathbf{x})=0.$$\n",
    "\n",
    "Encontrar la solución usando un penalización cuadrática (clase 29). \n",
    "Para esto contruimos la función\n",
    "\n",
    "$$\n",
    "Q(\\mathbf{x}; \\mu) =  f(\\mathbf{x}) + \\frac{\\mu}{2 }(c_1(\\mathbf{x}) )^2\n",
    "$$\n",
    "\n",
    "1. Programar la función $Q(x; \\mu)$ y su gradiente \n",
    "\n",
    "$$\\nabla Q(\\mathbf{x}; \\mu) = \\nabla f(\\mathbf{x}) + \\mu c_1(\\mathbf{x}) \\nabla c_1(\\mathbf{x}).$$\n",
    "\n",
    "2. Programar el método de penalización cuadrática usando el método BFGS modificado:\n",
    "\n",
    "a) Dar la función $f(\\mathbf{x})$, $c_1(\\mathbf{x})$, la función $Q(\\mathbf{x}; \\mu)$, su gradiente $\\nabla Q(\\mathbf{x}; \\mu)$, \n",
    "   un punto inicial $\\mathbf{x}_0$,  $\\mu_0$, una\n",
    "   tolerancia $\\tau>0$, el número máximo de iteraciones $N$, y los parámetros que se necesiten para usar el método BFGS modificado.\n",
    "\n",
    "b) Para $k=0, 1, ..., N$ repetir los siguientes pasos:\n",
    "\n",
    "b1) Definir $\\tau_k = \\left(1 + \\frac{10N}{10k+1} \\right)\\tau$\n",
    "\n",
    "b2) Calcular el punto  $\\mathbf{x}_{k+1}$ como el minimizador de $Q(\\mathbf{x}; \\mu_k)$ \n",
    "    con el método BFGS modificado usando como punto inicial a $\\mathbf{x}_{k}$ y la tolerancia $\\tau_k$.\n",
    "\n",
    "b3) Imprimir el punto $\\mathbf{x}_{k+1}$, $f(\\mathbf{x}_{k+1})$, $Q(\\mathbf{x}; \\mu_k)$,\n",
    "    el número de iteraciones realizó el algoritmo BFGS\n",
    "    y el valor  $c_1(\\mathbf{x}_{k+1})$.\n",
    "\n",
    "b4) Si $\\|\\mathbf{x}_{k+1} - \\mathbf{x}_k\\|<\\tau$, terminar devolviendo  $\\mathbf{x}_{k+1}$ \n",
    "\n",
    "b5) En caso contrario, hacer $\\mu_{k+1} = 2\\mu_k$ y volver al paso (b1)"
   ]
  },
  {
   "cell_type": "markdown",
   "metadata": {},
   "source": [
    "3. Probar el algoritmo tomando como $f$ a la función de Beale, $c_1(\\mathbf{x}) = x_1^2 + x_2^2 - 4$, \n",
    "   $\\mu_0=0.5$, $N=1000$ y $\\tau=\\epsilon_m^{1/3}$.\n",
    "   \n",
    "   Use los puntos iniciales $\\mathbf{x}_0 = (0, 2)$ y $\\mathbf{x}_0 = (0, -2)$.\n",
    "\n",
    "4. Para verificar el resultado obtenido  haga lo siguiente:\n",
    "\n",
    "- Genere una partición $\\theta_0 < \\theta_1 < ... \\theta_m$ del intervalo $[0, 2\\pi]$ con $m=1000$\n",
    "- Evalue la función de Beale en los puntos $(2\\cos \\theta_i, 2\\sin \\theta_i)$ para $i=0, 1, ..., m$.  \n",
    "  e imprima el punto en donde la función tuvo el menor valor y el valor de la función\n",
    "  en ese punto.\n",
    "   \n",
    "   \n",
    "**Nota:** Si no tiene implementado el método BFGS modificado, puede elegir otro método de optimización,\n",
    "pero se aplica una penalización de 0.5 puntos.\n",
    "\n",
    "### Solución:"
   ]
  },
  {
   "cell_type": "markdown",
   "metadata": {},
   "source": [
    "_\n",
    "\n",
    "```\n",
    "\n",
    "\n",
    "\n",
    "\n",
    "\n",
    "\n",
    "\n",
    "```\n",
    "\n",
    "---"
   ]
  },
  {
   "cell_type": "markdown",
   "metadata": {
    "tags": []
   },
   "source": [
    "## Ejercicio 2. (4 puntos)\n",
    "\n",
    "Programar el método de Newton para resolver el sistema de ecuaciones no lineales\n",
    "(Algoritmo 1 de la Clase 24):\n",
    "\n",
    "$$ \\begin{array}{rcl}\n",
    " 2x_0 + x_1 &=& 5 - 2x_2^2 \\\\\n",
    "    x_1^3 + 4x_2 &=& 4 \\\\\n",
    "    x_0 x_1 + x_2 &=& \\exp(x_2)\n",
    "   \\end{array}\n",
    "$$\n",
    "\n",
    "1. Programar la función $\\mathbf{F}(\\mathbf{x})$ correspondiente a este sistema de ecuaciones y \n",
    "   su Jacobiana $\\mathbf{J}(\\mathbf{x})$ \n",
    "2. Programe el algoritmo del método de Newton. Use como condición de paro que el ciclo termine\n",
    "   cuando $\\|\\mathbf{F}(\\mathbf{x}_k)\\|< \\tau$, para una tolerancia $\\tau$ dada.\n",
    "   Haga que el algoritmo devuelva el punto $\\mathbf{x}_k$, el número de iteraciones $k$,\n",
    "   el valor $\\|\\mathbf{F}(\\mathbf{x}_k)\\|$ y una variable indicadora $bres$ que es $1$\n",
    "   si se cumplió el criterio de paro o $0$ si terminó por iteraciones.\n",
    "3. Para probar el algoritmo y tratar de encontrar varias raíces, \n",
    "   haga un ciclo para hacer 20 iteraciones y en cada iteración haga lo siguiente:\n",
    "   \n",
    "- Dé el punto inicial $\\mathbf{x}_0$ como un punto aleatorio generado con `numpy.random.randn(3)`\n",
    "- Ejecute el método de Newton usando $\\mathbf{x}_0$, la tolerancia $\\tau = \\sqrt{\\epsilon_m}$ y \n",
    "  un máximo de iteraciones $N=100$.\n",
    "- Imprima el punto $\\mathbf{x}_k$ que devuelve el algoritmo, la cantidad\n",
    "  de iteraciones realizadas, el valor de $\\|\\mathbf{F}(\\mathbf{x}_k)\\|$ y la variable\n",
    "  indicadora $bres$.\n",
    "\n",
    "\n",
    "### Solución:"
   ]
  },
  {
   "cell_type": "code",
   "execution_count": null,
   "metadata": {},
   "outputs": [],
   "source": [
    "\n",
    "\n",
    "\n",
    "\n",
    "\n",
    "\n",
    "\n",
    "\n"
   ]
  },
  {
   "cell_type": "markdown",
   "metadata": {},
   "source": [
    "_\n",
    "\n",
    "```\n",
    "\n",
    "\n",
    "\n",
    "\n",
    "\n",
    "\n",
    "\n",
    "```\n",
    "\n",
    "---"
   ]
  },
  {
   "cell_type": "markdown",
   "metadata": {},
   "source": [
    "\n"
   ]
  },
  {
   "cell_type": "code",
   "execution_count": null,
   "metadata": {},
   "outputs": [],
   "source": []
  }
 ],
 "metadata": {
  "kernelspec": {
   "display_name": "Python 3 (ipykernel)",
   "language": "python",
   "name": "python3"
  },
  "language_info": {
   "codemirror_mode": {
    "name": "ipython",
    "version": 3
   },
   "file_extension": ".py",
   "mimetype": "text/x-python",
   "name": "python",
   "nbconvert_exporter": "python",
   "pygments_lexer": "ipython3",
   "version": "3.11.4"
  }
 },
 "nbformat": 4,
 "nbformat_minor": 4
}
