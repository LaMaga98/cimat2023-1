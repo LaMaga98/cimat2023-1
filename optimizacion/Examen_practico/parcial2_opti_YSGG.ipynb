{
 "cells": [
  {
   "cell_type": "markdown",
   "metadata": {},
   "source": [
    "$$\\textbf{Optimización I. Parcial II}$$\n",
    "$$\\textit{Y. Sarahi García Gozález}$$"
   ]
  },
  {
   "cell_type": "markdown",
   "metadata": {},
   "source": [
    "$\\color{purple}{Librerías \\space }$ <br>"
   ]
  },
  {
   "cell_type": "code",
   "execution_count": 1,
   "metadata": {},
   "outputs": [],
   "source": [
    "import numpy as np\n",
    "import functions as fn #libreria con las funciones Himmelblau,Beale,Rosenbrock,Hartman\n",
    "from math import exp"
   ]
  },
  {
   "cell_type": "code",
   "execution_count": 2,
   "metadata": {},
   "outputs": [
    {
     "name": "stdout",
     "output_type": "stream",
     "text": [
      "Epsilon de la máquina: 2.220446049250313e-16\n"
     ]
    }
   ],
   "source": [
    "#imprimimos el epsilon de la máquina\n",
    "epsilon = np.finfo(float).eps\n",
    "print(\"Epsilon de la máquina:\", epsilon)"
   ]
  },
  {
   "cell_type": "code",
   "execution_count": 3,
   "metadata": {},
   "outputs": [],
   "source": [
    "def imprime(f,n,x0,metodo,metodo_args):\n",
    "\n",
    "    '''\n",
    "    Esta función imprime:\n",
    "    - la dimensión $n$,\n",
    "    - f(x_0)\n",
    "    - el  número $k$ de iteraciones realizadas\n",
    "    - f(x_k)\n",
    "    - las primeras y últimas 4 entradas del punto $\\mathbf{x}_k$ que devuelve el algoritmo,\n",
    "    - la norma del gradiente g_k, \n",
    "    - promedio de iteraciones del algoritmo 1\n",
    "    - la variable $bres$ para saber si el algoritmo puedo converger.\n",
    "\n",
    "    '''\n",
    "\n",
    "    xk,fk,gk,k,indicador= metodo(*metodo_args)\n",
    "\n",
    "\n",
    "\n",
    "    print('Dimensión n = ', n )\n",
    "    print('f(x_0) = ', f(x0) )\n",
    "    print('Número de iteraciones = ', k )\n",
    "    print('f(x_k) = ', fk )\n",
    "    print('Primeras cuatro entradas de x_k= ', xk[:4])\n",
    "    print('Últimas cuatro entradas de x_k= ', xk[-4:])\n",
    "    print('Norma del gradiente ||gk||   = ', np.linalg.norm(gk))\n",
    "\n",
    "\n",
    "\n",
    "    if(indicador):\n",
    "        print(\"Sí se cumplio el criterio de convergencia\")\n"
   ]
  },
  {
   "cell_type": "code",
   "execution_count": 4,
   "metadata": {},
   "outputs": [],
   "source": [
    "#definimos la funcion que genera la matriz A de acuerdo a la instrucción anterior\n",
    "def genera_A1(n):\n",
    "    return np.ones((n,n))+n*np.eye(n)\n",
    "#definimos la funcion que genera la matriz A de acuerdo a la instrucción anterior\n",
    "def genera_A2(n):\n",
    "    A = np.empty([n,n], dtype=float)\n",
    "    for i in range(n):\n",
    "        for j in range(n):\n",
    "            u=0.25*((i-j)**2)\n",
    "            A[i][j]=exp(-1*u)\n",
    "    return A"
   ]
  },
  {
   "cell_type": "markdown",
   "metadata": {},
   "source": [
    "$\\color{purple}{Ejercicio \\space 1}$ <br>"
   ]
  },
  {
   "cell_type": "markdown",
   "metadata": {},
   "source": [
    "1. Programar la función $Q(x; \\mu)$ y su gradiente \n",
    "\n",
    "$$\\nabla Q(\\mathbf{x}; \\mu) = \\nabla f(\\mathbf{x}) + \\mu c_1(\\mathbf{x}) \\nabla c_1(\\mathbf{x}).$$\n"
   ]
  },
  {
   "cell_type": "code",
   "execution_count": 5,
   "metadata": {},
   "outputs": [],
   "source": [
    "def c1(x):\n",
    "    return x[0]**2+x[1]**2-4\n",
    "\n",
    "def Dc1(x):\n",
    "    dc1=2*x[0]\n",
    "    dc2=2*x[1]\n",
    "    return np.array(dc1,dc2)"
   ]
  },
  {
   "cell_type": "markdown",
   "metadata": {},
   "source": [
    "\n",
    "2. Programar el método de penalización cuadrática usando el método BFGS modificado:\n",
    "\n",
    "a) Dar la función $f(\\mathbf{x})$, $c_1(\\mathbf{x})$, la función $Q(\\mathbf{x}; \\mu)$, su gradiente $\\nabla Q(\\mathbf{x}; \\mu)$, \n",
    "   un punto inicial $\\mathbf{x}_0$,  $\\mu_0$, una\n",
    "   tolerancia $\\tau>0$, el número máximo de iteraciones $N$, y los parámetros que se necesiten para usar el método BFGS modificado.\n",
    "\n",
    "b) Para $k=0, 1, ..., N$ repetir los siguientes pasos:\n",
    "\n",
    "b1) Definir $\\tau_k = \\left(1 + \\frac{10N}{10k+1} \\right)\\tau$\n",
    "\n",
    "b2) Calcular el punto  $\\mathbf{x}_{k+1}$ como el minimizador de $Q(\\mathbf{x}; \\mu_k)$ \n",
    "    con el método BFGS modificado usando como punto inicial a $\\mathbf{x}_{k}$ y la tolerancia $\\tau_k$.\n",
    "\n",
    "b3) Imprimir el punto $\\mathbf{x}_{k+1}$, $f(\\mathbf{x}_{k+1})$, $Q(\\mathbf{x}; \\mu_k)$,\n",
    "    el número de iteraciones realizó el algoritmo BFGS\n",
    "    y el valor  $c_1(\\mathbf{x}_{k+1})$.\n",
    "\n",
    "b4) Si $\\|\\mathbf{x}_{k+1} - \\mathbf{x}_k\\|<\\tau$, terminar devolviendo  $\\mathbf{x}_{k+1}$ \n",
    "\n",
    "b5) En caso contrario, hacer $\\mu_{k+1} = 2\\mu_k$ y volver al paso (b1)"
   ]
  },
  {
   "cell_type": "code",
   "execution_count": 6,
   "metadata": {},
   "outputs": [],
   "source": [
    "\n",
    "def backtracking(alpha_ini,x_k,f,f_k,df,p_k,mu,rho=0.5,c=0.001,iter_max=500):\n",
    "\n",
    "    '''\n",
    "        Esta funcion parte de un tamaño de paso inicial alpha_ini y lo va recortando hasta que\n",
    "        cumple la cond de descenso suficiente\n",
    "\n",
    "        parametros:\n",
    "            valores (float): alpha_ini, rho entre (0,1), f(x_k), Df(x_k) (gradiente en el punto x_k), c_1, \n",
    "            direccion de descenso (np.rray): p_k \n",
    "\n",
    "        returns:\n",
    "            el tamaño de paso a_k\n",
    "            numero de iteraciones realizadas i_k\n",
    "    '''\n",
    "\n",
    "    alpha=alpha_ini #fijamos alpha como el alpha inicial\n",
    "     \n",
    "    for i in range(iter_max):\n",
    "        x_kp=x_k+alpha*p_k\n",
    "        gp=c*np.dot(df(x_k,mu),p_k) #hacemos el producto gradiente por direccion de descenso p\n",
    "    \n",
    "\n",
    "        #si la condicion de descenso se cumple, terminamos\n",
    "        if f(x_kp,mu)<=(f_k + alpha*gp):\n",
    "            return alpha\n",
    "\n",
    "        alpha=alpha*rho #si no se cumple la cond, hacemos alpha*rho\n",
    "     \n",
    "    return  alpha\n",
    "\n",
    "H = np.identity(2)\n",
    "\n",
    "def BFGS_modificado(f, Df, x0, tol,mu, H0=H, max_iter=5000):\n",
    "    xk = x0\n",
    "    gk = Df(xk,mu) \n",
    "    Hk = H0\n",
    "    n = len(xk)\n",
    "    I = np.identity(n)\n",
    "    for k in range(max_iter):\n",
    "        \n",
    "        if np.linalg.norm(gk) <= tol:\n",
    "            return xk, f(xk,mu),k, True\n",
    "            \n",
    "        pk = np.dot(-Hk, gk)\n",
    "        if np.dot(pk,gk) > 0:\n",
    "            l1 = 10e-5 + (np.dot(pk,gk)/np.dot(gk,gk))\n",
    "            Hk = Hk + l1*I\n",
    "            pk = pk - l1*gk\n",
    "        \n",
    "        alpha = backtracking(1, xk, f,f(xk,mu), Df, pk,mu)\n",
    "        xk_new = xk + alpha*pk\n",
    "        gk_new = Df(xk_new,mu)\n",
    "        y = gk_new - gk\n",
    "        s = xk_new - xk\n",
    "\n",
    "        if np.dot(y,y) < tol:\n",
    "            return xk, f(xk,mu), k, True\n",
    "\n",
    "        if np.dot(y,s) <= 0:\n",
    "            l2 = 10e-5 - (np.dot(y,s)/np.dot(y,y))\n",
    "            Hk = Hk + l2*I\n",
    "        else:\n",
    "            rho_k = 1/np.dot(y,s)\n",
    "            Hk = (np.identity(n) - rho_k * (s@y.T)) @ Hk @ (np.identity(n) - rho_k * (y@s.T)) + rho_k * (s@s.T)\n",
    "        \n",
    "        xk = xk_new\n",
    "        gk = gk_new\n",
    "        \n",
    "\n",
    "    return xk, f(xk,mu), k, False"
   ]
  },
  {
   "cell_type": "code",
   "execution_count": 7,
   "metadata": {},
   "outputs": [],
   "source": [
    "def penalizacion(c,mu,x0,tol,Q,D_Q,max_iter=1000):\n",
    "    x_k=x0\n",
    "\n",
    "    for k in range(max_iter):\n",
    "        tol=(1+((10*max_iter)/((10*k)+1)))*tol\n",
    "\n",
    "        #############################\n",
    "        x_old=x_k\n",
    "        x_k,f_k,it,_=BFGS_modificado(Q, D_Q,  x_old, tol,mu)\n",
    "        print(x_k,'\\n')\n",
    "        print(f_k,'\\n')\n",
    "        print(it,'\\n')\n",
    "        print(Q(x_k,mu),'\\n')\n",
    "        print(c(x_k),'\\n')\n",
    "        print(\"-----------\")\n",
    "        #############################\n",
    "\n",
    "        if np.linalg.norm(x_k-x_old)<tol:\n",
    "            return x_k\n",
    "        \n",
    "        mu=2*mu\n",
    "\n"
   ]
  },
  {
   "cell_type": "markdown",
   "metadata": {},
   "source": [
    "3. Probar el algoritmo tomando como $f$ a la función de Beale, $c_1(\\mathbf{x}) = x_1^2 + x_2^2 - 4$, \n",
    "   $\\mu_0=0.5$, $N=1000$ y $\\tau=\\epsilon_m^{1/3}$.\n",
    "   \n",
    "   Use los puntos iniciales $\\mathbf{x}_0 = (0, 2)$ y $\\mathbf{x}_0 = (0, -2)$."
   ]
  },
  {
   "cell_type": "code",
   "execution_count": 8,
   "metadata": {},
   "outputs": [
    {
     "name": "stdout",
     "output_type": "stream",
     "text": [
      "[-1.49494416  1.44499334] \n",
      "\n",
      "1.2641428363038072 \n",
      "\n",
      "53 \n",
      "\n",
      "1.2641428363038072 \n",
      "\n",
      "0.32286377519318155 \n",
      "\n",
      "-----------\n",
      "[-1.49494416  1.44499334] \n",
      "\n",
      "1.2902030906368054 \n",
      "\n",
      "0 \n",
      "\n",
      "1.2902030906368054 \n",
      "\n",
      "0.32286377519318155 \n",
      "\n",
      "-----------\n"
     ]
    },
    {
     "data": {
      "text/plain": [
       "array([-1.49494416,  1.44499334])"
      ]
     },
     "execution_count": 8,
     "metadata": {},
     "output_type": "execute_result"
    }
   ],
   "source": [
    "mu=0.5\n",
    "x0=np.array([0,2])\n",
    "tol=(epsilon)**(1.0/3.0)\n",
    "Q=lambda  x, mu: fn.Beale(x) + (mu/2) * (c1(x))**2\n",
    "DQ=lambda x,mu: fn.D_Beale(x) + mu * c1(x) * Dc1(x)\n",
    "\n",
    "penalizacion(c1,mu,x0,tol, Q, DQ,max_iter=1000)"
   ]
  },
  {
   "cell_type": "code",
   "execution_count": 69,
   "metadata": {},
   "outputs": [
    {
     "name": "stdout",
     "output_type": "stream",
     "text": [
      "[ 2.30427309 -0.18490285] \n",
      "\n",
      "2.0595627997687145 \n",
      "\n",
      "12 \n",
      "\n",
      "2.0595627997687145 \n",
      "\n",
      "1.3438635182249037 \n",
      "\n",
      "-----------\n",
      "[ 2.30427309 -0.18490285] \n",
      "\n",
      "2.511055088672668 \n",
      "\n",
      "0 \n",
      "\n",
      "2.511055088672668 \n",
      "\n",
      "1.3438635182249037 \n",
      "\n",
      "-----------\n"
     ]
    },
    {
     "data": {
      "text/plain": [
       "array([ 2.30427309, -0.18490285])"
      ]
     },
     "execution_count": 69,
     "metadata": {},
     "output_type": "execute_result"
    }
   ],
   "source": [
    "mu=0.5\n",
    "x0=np.array([0,-2])\n",
    "tol=(epsilon)**(1.0/3.0)\n",
    "\n",
    "Q=lambda  x, mu: fn.Beale(x) + (mu/2) * (c1(x))**2\n",
    "DQ=lambda x,mu: fn.D_Beale(x) + mu * c1(x) * Dc1(x)\n",
    "\n",
    "penalizacion(c1,mu,x0,tol, Q, DQ,max_iter=1000)"
   ]
  },
  {
   "cell_type": "markdown",
   "metadata": {},
   "source": [
    "4. Para verificar el resultado obtenido  haga lo siguiente:\n",
    "\n",
    "- Genere una partición $\\theta_0 < \\theta_1 < ... \\theta_m$ del intervalo $[0, 2\\pi]$ con $m=1000$\n",
    "- Evalue la función de Beale en los puntos $(2\\cos \\theta_i, 2\\sin \\theta_i)$ para $i=0, 1, ..., m$.  \n",
    "  e imprima el punto en donde la función tuvo el menor valor y el valor de la función\n",
    "  en ese punto.\n",
    "   \n"
   ]
  },
  {
   "cell_type": "code",
   "execution_count": 82,
   "metadata": {},
   "outputs": [
    {
     "name": "stdout",
     "output_type": "stream",
     "text": [
      "El mínimo de la lista de valores de Beale es: 0.5340819590427182\n",
      "El punto que corresponde al mínimo de beale_list es: [1.993822324641864, 0.1570749431313392]\n"
     ]
    }
   ],
   "source": [
    "lista = np.linspace(0, np.pi, 1000)\n",
    "beale_list=[fn.Beale([2*np.cos(x),2*np.sin(x)]) for x in lista]\n",
    "\n",
    "#minimo Beale\n",
    "min_beale = min(beale_list)\n",
    "\n",
    "#minimo puntos\n",
    "min_index = np.argmin(beale_list)\n",
    "min_point = lista[min_index]\n",
    "min_sincos= [2*np.cos(min_point ),2*np.sin(min_point )]\n",
    "\n",
    "print(\"El mínimo de la lista de valores de Beale es:\", min_beale)\n",
    "print(\"El punto que corresponde al mínimo de beale_list es:\", min_sincos)"
   ]
  },
  {
   "cell_type": "markdown",
   "metadata": {},
   "source": [
    "$\\color{purple}{Ejercicio \\space 2}$ <br>"
   ]
  },
  {
   "cell_type": "markdown",
   "metadata": {},
   "source": [
    "Programar el método de Newton para resolver el sistema de ecuaciones no lineales\n",
    "(Algoritmo 1 de la Clase 24):\n",
    "\n",
    "$$ \\begin{array}{rcl}\n",
    " 2x_0 + x_1 &=& 5 - 2x_2^2 \\\\\n",
    "    x_1^3 + 4x_2 &=& 4 \\\\\n",
    "    x_0 x_1 + x_2 &=& \\exp(x_2)\n",
    "   \\end{array}\n",
    "$$\n",
    "\n",
    "1. Programar la función $\\mathbf{F}(\\mathbf{x})$ correspondiente a este sistema de ecuaciones y \n",
    "   su Jacobiana $\\mathbf{J}(\\mathbf{x})$ "
   ]
  },
  {
   "cell_type": "code",
   "execution_count": 83,
   "metadata": {},
   "outputs": [],
   "source": [
    "def F(x):\n",
    "    f1=2*x[0]+x[1]+2*x[2]**2\n",
    "    f2=x[1]**3+4*x[2]-4\n",
    "    f3=x[0]*x[1]+x[2]-np.exp(x[2])\n",
    "    return np.array([f1,f2,f3])\n",
    "\n",
    "def D_F(x):\n",
    "    df1_dx = [2, 1, 4*x[2]]\n",
    "    df2_dx = [0, 3*(x[1]**2), 4]\n",
    "    df3_dx = [x[1], x[0], 1 - np.exp(x[2])]\n",
    "    return np.array([df1_dx, df2_dx, df3_dx])"
   ]
  },
  {
   "cell_type": "markdown",
   "metadata": {},
   "source": [
    "2. Programe el algoritmo del método de Newton. Use como condición de paro que el ciclo termine\n",
    "   cuando $\\|\\mathbf{F}(\\mathbf{x}_k)\\|< \\tau$, para una tolerancia $\\tau$ dada.\n",
    "   Haga que el algoritmo devuelva el punto $\\mathbf{x}_k$, el número de iteraciones $k$,\n",
    "   el valor $\\|\\mathbf{F}(\\mathbf{x}_k)\\|$ y una variable indicadora $bres$ que es $1$\n",
    "   si se cumplió el criterio de paro o $0$ si terminó por iteraciones."
   ]
  },
  {
   "cell_type": "code",
   "execution_count": 87,
   "metadata": {},
   "outputs": [],
   "source": [
    "def Newton_nolineal(F,DF,x0,tol,N=100):\n",
    "    x_k=x0\n",
    "    for k in range(N):\n",
    "        f_k=F(x_k)\n",
    "\n",
    "        if np.linalg.norm(f_k)<tol:\n",
    "            return x_k,k,np.linalg.norm(f_k),True\n",
    "        \n",
    "        df_k=DF(x_k)\n",
    "        s=np.linalg.solve(df_k,-f_k)\n",
    "        x_k=x_k+s\n",
    "\n",
    "    return x_k,k,np.linalg.norm(f_k), False"
   ]
  },
  {
   "cell_type": "markdown",
   "metadata": {},
   "source": [
    "3. Para probar el algoritmo y tratar de encontrar varias raíces, \n",
    "   haga un ciclo para hacer 20 iteraciones y en cada iteración haga lo siguiente:\n",
    "   \n",
    "- Dé el punto inicial $\\mathbf{x}_0$ como un punto aleatorio generado con `numpy.random.randn(3)`\n",
    "- Ejecute el método de Newton usando $\\mathbf{x}_0$, la tolerancia $\\tau = \\sqrt{\\epsilon_m}$ y \n",
    "  un máximo de iteraciones $N=100$.\n",
    "- Imprima el punto $\\mathbf{x}_k$ que devuelve el algoritmo, la cantidad\n",
    "  de iteraciones realizadas, el valor de $\\|\\mathbf{F}(\\mathbf{x}_k)\\|$ y la variable\n",
    "  indicadora $bres$."
   ]
  },
  {
   "cell_type": "code",
   "execution_count": 88,
   "metadata": {},
   "outputs": [
    {
     "name": "stdout",
     "output_type": "stream",
     "text": [
      "[-4.50564931 -1.74071109  2.31862133] \n",
      "\n",
      "21 \n",
      "\n",
      "1.0048591735576161e-14 \n",
      "\n",
      "True \n",
      "\n",
      "--------------------\n",
      "[-4.50564931 -1.74071109  2.31862133] \n",
      "\n",
      "12 \n",
      "\n",
      "1.3721740766844603e-11 \n",
      "\n",
      "True \n",
      "\n",
      "--------------------\n",
      "[-5.59315732 -1.83783156  2.55187639] \n",
      "\n",
      "20 \n",
      "\n",
      "6.209631313307019e-14 \n",
      "\n",
      "True \n",
      "\n",
      "--------------------\n",
      "[-4.50564931 -1.74071109  2.31862133] \n",
      "\n",
      "22 \n",
      "\n",
      "1.4537899548029866e-10 \n",
      "\n",
      "True \n",
      "\n",
      "--------------------\n",
      "[-5.59315732 -1.83783156  2.55187639] \n",
      "\n",
      "19 \n",
      "\n",
      "3.94914928765923e-14 \n",
      "\n",
      "True \n",
      "\n",
      "--------------------\n",
      "[152.73615204  -7.06137103  89.02144944] \n",
      "\n",
      "99 \n",
      "\n",
      "1.246863021817399e+39 \n",
      "\n",
      "False \n",
      "\n",
      "--------------------\n",
      "[-4.50564931 -1.74071109  2.31862133] \n",
      "\n",
      "10 \n",
      "\n",
      "2.5121479338940403e-15 \n",
      "\n",
      "True \n",
      "\n",
      "--------------------\n",
      "[-4.50564931 -1.74071109  2.31862133] \n",
      "\n",
      "28 \n",
      "\n",
      "6.990190716529265e-11 \n",
      "\n",
      "True \n",
      "\n",
      "--------------------\n",
      "[-4.5056493  -1.74071109  2.31862132] \n",
      "\n",
      "29 \n",
      "\n",
      "3.767299991431769e-10 \n",
      "\n",
      "True \n",
      "\n",
      "--------------------\n",
      "[-4.50564927 -1.74071108  2.31862132] \n",
      "\n",
      "9 \n",
      "\n",
      "8.084823804387054e-09 \n",
      "\n",
      "True \n",
      "\n",
      "--------------------\n",
      "[-5.59315732 -1.83783156  2.55187639] \n",
      "\n",
      "20 \n",
      "\n",
      "1.008254649593363e-12 \n",
      "\n",
      "True \n",
      "\n",
      "--------------------\n",
      "[-5.59315732 -1.83783156  2.55187639] \n",
      "\n",
      "34 \n",
      "\n",
      "5.8224452132708424e-12 \n",
      "\n",
      "True \n",
      "\n",
      "--------------------\n",
      "[-4.50564931 -1.74071109  2.31862133] \n",
      "\n",
      "12 \n",
      "\n",
      "4.4762782523669927e-14 \n",
      "\n",
      "True \n",
      "\n",
      "--------------------\n",
      "[-4.50564931 -1.74071109  2.31862133] \n",
      "\n",
      "10 \n",
      "\n",
      "3.66205343881779e-14 \n",
      "\n",
      "True \n",
      "\n",
      "--------------------\n",
      "[-4.50564927 -1.74071108  2.31862132] \n",
      "\n",
      "7 \n",
      "\n",
      "7.355543913893329e-09 \n",
      "\n",
      "True \n",
      "\n",
      "--------------------\n",
      "[-4.50564931 -1.74071109  2.31862133] \n",
      "\n",
      "26 \n",
      "\n",
      "1.30836851243432e-14 \n",
      "\n",
      "True \n",
      "\n",
      "--------------------\n",
      "[-5.59315733 -1.83783156  2.55187639] \n",
      "\n",
      "32 \n",
      "\n",
      "1.719332327806561e-09 \n",
      "\n",
      "True \n",
      "\n",
      "--------------------\n",
      "[-5.59315732 -1.83783156  2.55187639] \n",
      "\n",
      "33 \n",
      "\n",
      "3.3523685875004812e-12 \n",
      "\n",
      "True \n",
      "\n",
      "--------------------\n",
      "[-4.50564931 -1.74071109  2.31862133] \n",
      "\n",
      "10 \n",
      "\n",
      "6.718388284492729e-12 \n",
      "\n",
      "True \n",
      "\n",
      "--------------------\n",
      "[-1093.48440786    -5.04653372    33.12115187] \n",
      "\n",
      "99 \n",
      "\n",
      "658609474216390.9 \n",
      "\n",
      "False \n",
      "\n",
      "--------------------\n"
     ]
    }
   ],
   "source": [
    "tol=np.sqrt(epsilon)\n",
    "for k in range(20):\n",
    "    x_0=np.random.randn(3)\n",
    "    xk,k,normfk,bres=Newton_nolineal(F,D_F,x_0,tol,N=100)\n",
    "    print(xk,\"\\n\")\n",
    "    print(k,\"\\n\")\n",
    "    print(normfk,\"\\n\")\n",
    "    print(bres,\"\\n\")\n",
    "    print(\"--------------------\")\n"
   ]
  },
  {
   "cell_type": "code",
   "execution_count": null,
   "metadata": {},
   "outputs": [],
   "source": []
  }
 ],
 "metadata": {
  "kernelspec": {
   "display_name": "Python 3",
   "language": "python",
   "name": "python3"
  },
  "language_info": {
   "codemirror_mode": {
    "name": "ipython",
    "version": 3
   },
   "file_extension": ".py",
   "mimetype": "text/x-python",
   "name": "python",
   "nbconvert_exporter": "python",
   "pygments_lexer": "ipython3",
   "version": "3.11.7"
  }
 },
 "nbformat": 4,
 "nbformat_minor": 2
}
