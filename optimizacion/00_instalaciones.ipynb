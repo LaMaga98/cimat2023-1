{
 "cells": [
  {
   "cell_type": "markdown",
   "metadata": {},
   "source": [
    "Librerias:\n",
    "\n",
    "    * numpy\n"
   ]
  },
  {
   "cell_type": "code",
   "execution_count": 3,
   "metadata": {},
   "outputs": [
    {
     "name": "stdout",
     "output_type": "stream",
     "text": [
      "hello mamsd a\n"
     ]
    }
   ],
   "source": [
    "print(\"hello mamsd a\")"
   ]
  },
  {
   "cell_type": "code",
   "execution_count": 5,
   "metadata": {},
   "outputs": [
    {
     "name": "stdout",
     "output_type": "stream",
     "text": [
      "Channels:\n",
      " - defaults\n",
      "Platform: osx-arm64\n",
      "Collecting package metadata (repodata.json): done\n",
      "Solving environment: done\n",
      "\n",
      "## Package Plan ##\n",
      "\n",
      "  environment location: /Users/ely/Documents/Maestria/segundo_semestre/optimizacion/.conda\n",
      "\n",
      "  added / updated specs:\n",
      "    - numpy\n",
      "\n",
      "\n",
      "The following NEW packages will be INSTALLED:\n",
      "\n",
      "  blas               pkgs/main/osx-arm64::blas-1.0-openblas \n",
      "  libcxx             pkgs/main/osx-arm64::libcxx-14.0.6-h848a8c0_0 \n",
      "  libgfortran        pkgs/main/osx-arm64::libgfortran-5.0.0-11_3_0_hca03da5_28 \n",
      "  libgfortran5       pkgs/main/osx-arm64::libgfortran5-11.3.0-h009349e_28 \n",
      "  libopenblas        pkgs/main/osx-arm64::libopenblas-0.3.21-h269037a_0 \n",
      "  llvm-openmp        pkgs/main/osx-arm64::llvm-openmp-14.0.6-hc6e5704_0 \n",
      "  numpy              pkgs/main/osx-arm64::numpy-1.26.3-py311he598dae_0 \n",
      "  numpy-base         pkgs/main/osx-arm64::numpy-base-1.26.3-py311hfbfe69c_0 \n",
      "\n",
      "\n",
      "\n",
      "Downloading and Extracting Packages:\n",
      "\n",
      "Preparing transaction: done\n",
      "Verifying transaction: done\n",
      "Executing transaction: done\n",
      "\n",
      "Note: you may need to restart the kernel to use updated packages.\n"
     ]
    }
   ],
   "source": [
    "conda install numpy"
   ]
  },
  {
   "cell_type": "code",
   "execution_count": 7,
   "metadata": {},
   "outputs": [
    {
     "name": "stdout",
     "output_type": "stream",
     "text": [
      "Channels:\n",
      " - defaults\n",
      " - conda-forge\n",
      "Platform: osx-arm64\n",
      "Collecting package metadata (repodata.json): done\n",
      "Solving environment: done\n",
      "\n",
      "## Package Plan ##\n",
      "\n",
      "  environment location: /Users/ely/Documents/Maestria/segundo_semestre/optimizacion/.conda\n",
      "\n",
      "  added / updated specs:\n",
      "    - matplotlib\n",
      "\n",
      "\n",
      "The following NEW packages will be INSTALLED:\n",
      "\n",
      "  brotli             pkgs/main/osx-arm64::brotli-1.0.9-h1a28f6b_7 \n",
      "  brotli-bin         pkgs/main/osx-arm64::brotli-bin-1.0.9-h1a28f6b_7 \n",
      "  contourpy          pkgs/main/osx-arm64::contourpy-1.2.0-py311h48ca7d4_0 \n",
      "  cycler             pkgs/main/noarch::cycler-0.11.0-pyhd3eb1b0_0 \n",
      "  fonttools          pkgs/main/noarch::fonttools-4.25.0-pyhd3eb1b0_0 \n",
      "  freetype           pkgs/main/osx-arm64::freetype-2.12.1-h1192e45_0 \n",
      "  giflib             pkgs/main/osx-arm64::giflib-5.2.1-h80987f9_3 \n",
      "  jpeg               pkgs/main/osx-arm64::jpeg-9e-h80987f9_1 \n",
      "  kiwisolver         pkgs/main/osx-arm64::kiwisolver-1.4.4-py311h313beb8_0 \n",
      "  lcms2              pkgs/main/osx-arm64::lcms2-2.12-hba8e193_0 \n",
      "  lerc               pkgs/main/osx-arm64::lerc-3.0-hc377ac9_0 \n",
      "  libbrotlicommon    pkgs/main/osx-arm64::libbrotlicommon-1.0.9-h1a28f6b_7 \n",
      "  libbrotlidec       pkgs/main/osx-arm64::libbrotlidec-1.0.9-h1a28f6b_7 \n",
      "  libbrotlienc       pkgs/main/osx-arm64::libbrotlienc-1.0.9-h1a28f6b_7 \n",
      "  libdeflate         pkgs/main/osx-arm64::libdeflate-1.17-h80987f9_1 \n",
      "  libpng             pkgs/main/osx-arm64::libpng-1.6.39-h80987f9_0 \n",
      "  libtiff            pkgs/main/osx-arm64::libtiff-4.5.1-h313beb8_0 \n",
      "  libwebp            pkgs/main/osx-arm64::libwebp-1.3.2-ha3663a8_0 \n",
      "  libwebp-base       pkgs/main/osx-arm64::libwebp-base-1.3.2-h80987f9_0 \n",
      "  lz4-c              pkgs/main/osx-arm64::lz4-c-1.9.4-h313beb8_0 \n",
      "  matplotlib         pkgs/main/osx-arm64::matplotlib-3.8.0-py311hca03da5_0 \n",
      "  matplotlib-base    pkgs/main/osx-arm64::matplotlib-base-3.8.0-py311h7aedaa7_0 \n",
      "  munkres            pkgs/main/noarch::munkres-1.1.4-py_0 \n",
      "  openjpeg           pkgs/main/osx-arm64::openjpeg-2.3.0-h7a6adac_2 \n",
      "  pillow             pkgs/main/osx-arm64::pillow-10.0.1-py311h3b245a6_0 \n",
      "  pyparsing          pkgs/main/osx-arm64::pyparsing-3.0.9-py311hca03da5_0 \n",
      "  zstd               pkgs/main/osx-arm64::zstd-1.5.5-hd90d995_0 \n",
      "\n",
      "\n",
      "\n",
      "Downloading and Extracting Packages:\n",
      "\n",
      "Preparing transaction: done\n",
      "Verifying transaction: done\n",
      "Executing transaction: done\n",
      "\n",
      "Note: you may need to restart the kernel to use updated packages.\n"
     ]
    }
   ],
   "source": [
    "conda install matplotlib"
   ]
  },
  {
   "cell_type": "code",
   "execution_count": 1,
   "metadata": {},
   "outputs": [
    {
     "name": "stdout",
     "output_type": "stream",
     "text": [
      "Retrieving notices: ...working... done\n",
      "Channels:\n",
      " - defaults\n",
      " - conda-forge\n",
      "Platform: osx-arm64\n",
      "Collecting package metadata (repodata.json): done\n",
      "Solving environment: done\n",
      "\n",
      "## Package Plan ##\n",
      "\n",
      "  environment location: /Users/ely/Documents/Maestria/segundo_semestre/optimizacion/.conda\n",
      "\n",
      "  added / updated specs:\n",
      "    - sympy\n",
      "\n",
      "\n",
      "The following NEW packages will be INSTALLED:\n",
      "\n",
      "  gmp                pkgs/main/osx-arm64::gmp-6.2.1-hc377ac9_3 \n",
      "  gmpy2              pkgs/main/osx-arm64::gmpy2-2.1.2-py311h40f64dc_0 \n",
      "  mpc                pkgs/main/osx-arm64::mpc-1.1.0-h8c48613_1 \n",
      "  mpfr               pkgs/main/osx-arm64::mpfr-4.0.2-h695f6f0_1 \n",
      "  mpmath             pkgs/main/osx-arm64::mpmath-1.3.0-py311hca03da5_0 \n",
      "  sympy              pkgs/main/osx-arm64::sympy-1.12-py311hca03da5_0 \n",
      "\n",
      "\n",
      "\n",
      "Downloading and Extracting Packages:\n",
      "\n",
      "Preparing transaction: done\n",
      "Verifying transaction: done\n",
      "Executing transaction: done\n",
      "\n",
      "Note: you may need to restart the kernel to use updated packages.\n"
     ]
    }
   ],
   "source": [
    "conda install sympy"
   ]
  },
  {
   "cell_type": "code",
   "execution_count": 1,
   "metadata": {},
   "outputs": [
    {
     "name": "stdout",
     "output_type": "stream",
     "text": [
      "Retrieving notices: ...working... done\n",
      "Channels:\n",
      " - defaults\n",
      " - conda-forge\n",
      "Platform: osx-arm64\n",
      "Collecting package metadata (repodata.json): done\n",
      "Solving environment: done\n",
      "\n",
      "## Package Plan ##\n",
      "\n",
      "  environment location: /Users/ely/Documents/Maestria/segundo_semestre/cimat2023-1/optimizacion/.conda\n",
      "\n",
      "  added / updated specs:\n",
      "    - autograd\n",
      "\n",
      "\n",
      "The following packages will be downloaded:\n",
      "\n",
      "    package                    |            build\n",
      "    ---------------------------|-----------------\n",
      "    autograd-1.5               |  py311hca03da5_0         153 KB\n",
      "    future-0.18.3              |  py311hca03da5_0         827 KB\n",
      "    scipy-1.12.0               |  py311hc76d9b0_0        22.8 MB\n",
      "    ------------------------------------------------------------\n",
      "                                           Total:        23.7 MB\n",
      "\n",
      "The following NEW packages will be INSTALLED:\n",
      "\n",
      "  autograd           pkgs/main/osx-arm64::autograd-1.5-py311hca03da5_0 \n",
      "  future             pkgs/main/osx-arm64::future-0.18.3-py311hca03da5_0 \n",
      "  scipy              pkgs/main/osx-arm64::scipy-1.12.0-py311hc76d9b0_0 \n",
      "\n",
      "The following packages will be UPDATED:\n",
      "\n",
      "  ca-certificates    conda-forge::ca-certificates-2024.2.2~ --> pkgs/main::ca-certificates-2024.3.11-hca03da5_0 \n",
      "\n",
      "\n",
      "\n",
      "Downloading and Extracting Packages:\n",
      "scipy-1.12.0         | 22.8 MB   |                                       |   0% \n",
      "future-0.18.3        | 827 KB    |                                       |   0% \u001b[A\n",
      "\n",
      "autograd-1.5         | 153 KB    |                                       |   0% \u001b[A\u001b[A\n",
      "scipy-1.12.0         | 22.8 MB   |                                       |   0% \u001b[A\n",
      "\n",
      "autograd-1.5         | 153 KB    | ###8                                  |  10% \u001b[A\u001b[A\n",
      "scipy-1.12.0         | 22.8 MB   | #                                     |   3% \u001b[A\n",
      "\n",
      "scipy-1.12.0         | 22.8 MB   | ###5                                  |   9% \u001b[A\u001b[A\n",
      "                                                                                \u001b[A\n",
      "                                                                                \u001b[A\n",
      "\n",
      "                                                                                \u001b[A\u001b[A\n",
      "Preparing transaction: done\n",
      "Verifying transaction: done\n",
      "Executing transaction: done\n",
      "\n",
      "Note: you may need to restart the kernel to use updated packages.\n"
     ]
    }
   ],
   "source": [
    "conda install autograd"
   ]
  },
  {
   "cell_type": "code",
   "execution_count": 1,
   "metadata": {},
   "outputs": [
    {
     "name": "stdout",
     "output_type": "stream",
     "text": [
      "Retrieving notices: ...working... done\n",
      "Channels:\n",
      " - defaults\n",
      " - conda-forge\n",
      "Platform: osx-arm64\n",
      "Collecting package metadata (repodata.json): done\n",
      "Solving environment: done\n",
      "\n",
      "## Package Plan ##\n",
      "\n",
      "  environment location: /Users/ely/Documents/Maestria/segundo_semestre/cimat2023-1/optimizacion/.conda\n",
      "\n",
      "  added / updated specs:\n",
      "    - pandas\n",
      "\n",
      "\n",
      "The following packages will be downloaded:\n",
      "\n",
      "    package                    |            build\n",
      "    ---------------------------|-----------------\n",
      "    bottleneck-1.3.7           |  py311hb9f6ed7_0         128 KB\n",
      "    pandas-2.2.1               |  py311h7aedaa7_0        15.0 MB\n",
      "    pytz-2024.1                |  py311hca03da5_0         222 KB\n",
      "    ------------------------------------------------------------\n",
      "                                           Total:        15.3 MB\n",
      "\n",
      "The following NEW packages will be INSTALLED:\n",
      "\n",
      "  bottleneck         pkgs/main/osx-arm64::bottleneck-1.3.7-py311hb9f6ed7_0 \n",
      "  numexpr            pkgs/main/osx-arm64::numexpr-2.8.7-py311h6dc990b_0 \n",
      "  pandas             pkgs/main/osx-arm64::pandas-2.2.1-py311h7aedaa7_0 \n",
      "  python-tzdata      pkgs/main/noarch::python-tzdata-2023.3-pyhd3eb1b0_0 \n",
      "  pytz               pkgs/main/osx-arm64::pytz-2024.1-py311hca03da5_0 \n",
      "\n",
      "\n",
      "\n",
      "Downloading and Extracting Packages:\n",
      "pandas-2.2.1         | 15.0 MB   |                                       |   0% \n",
      "pytz-2024.1          | 222 KB    |                                       |   0% \u001b[A\n",
      "\n",
      "bottleneck-1.3.7     | 128 KB    |                                       |   0% \u001b[A\u001b[A\n",
      "pandas-2.2.1         | 15.0 MB   |                                       |   0% \u001b[A\n",
      "\n",
      "pandas-2.2.1         | 15.0 MB   | 1                                     |   0% \u001b[A\u001b[A\n",
      "\n",
      "pandas-2.2.1         | 15.0 MB   | #3                                    |   4% \u001b[A\u001b[A\n",
      "pytz-2024.1          | 222 KB    | ##########6                           |  29% \u001b[A\n",
      "\n",
      "bottleneck-1.3.7     | 128 KB    | ##################4                   |  50% \u001b[A\u001b[A\n",
      "pytz-2024.1          | 222 KB    | ##################################### | 100% \u001b[A\n",
      "pytz-2024.1          | 222 KB    | ##################################### | 100% \u001b[A\n",
      "\n",
      "pandas-2.2.1         | 15.0 MB   | #7                                    |   5% \u001b[A\u001b[A\n",
      "\n",
      "                                                                                \u001b[A\u001b[A\n",
      "                                                                                \u001b[A\n",
      "\n",
      "                                                                                \u001b[A\u001b[A\n",
      "Preparing transaction: done\n",
      "Verifying transaction: done\n",
      "Executing transaction: done\n",
      "\n",
      "Note: you may need to restart the kernel to use updated packages.\n"
     ]
    }
   ],
   "source": [
    "conda install pandas"
   ]
  },
  {
   "cell_type": "code",
   "execution_count": 4,
   "metadata": {},
   "outputs": [
    {
     "name": "stdout",
     "output_type": "stream",
     "text": [
      "Collecting scikit-learn\n",
      "  Downloading scikit_learn-1.4.2-cp311-cp311-macosx_12_0_arm64.whl.metadata (11 kB)\n",
      "Requirement already satisfied: numpy>=1.19.5 in ./.conda/lib/python3.11/site-packages (from scikit-learn) (1.26.3)\n",
      "Requirement already satisfied: scipy>=1.6.0 in ./.conda/lib/python3.11/site-packages (from scikit-learn) (1.12.0)\n",
      "Requirement already satisfied: joblib>=1.2.0 in /Users/ely/.local/lib/python3.11/site-packages (from scikit-learn) (1.3.2)\n",
      "Collecting threadpoolctl>=2.0.0 (from scikit-learn)\n",
      "  Using cached threadpoolctl-3.5.0-py3-none-any.whl.metadata (13 kB)\n",
      "Downloading scikit_learn-1.4.2-cp311-cp311-macosx_12_0_arm64.whl (10.5 MB)\n",
      "\u001b[2K   \u001b[90m━━━━━━━━━━━━━━━━━━━━━━━━━━━━━━━━━━━━━━━━\u001b[0m \u001b[32m10.5/10.5 MB\u001b[0m \u001b[31m3.9 MB/s\u001b[0m eta \u001b[36m0:00:00\u001b[0m00:01\u001b[0m00:01\u001b[0m\n",
      "\u001b[?25hUsing cached threadpoolctl-3.5.0-py3-none-any.whl (18 kB)\n",
      "Installing collected packages: threadpoolctl, scikit-learn\n",
      "Successfully installed scikit-learn-1.4.2 threadpoolctl-3.5.0\n",
      "Note: you may need to restart the kernel to use updated packages.\n"
     ]
    }
   ],
   "source": [
    "pip install scikit-learn"
   ]
  },
  {
   "cell_type": "code",
   "execution_count": null,
   "metadata": {},
   "outputs": [],
   "source": []
  }
 ],
 "metadata": {
  "kernelspec": {
   "display_name": "Python 3",
   "language": "python",
   "name": "python3"
  },
  "language_info": {
   "codemirror_mode": {
    "name": "ipython",
    "version": 3
   },
   "file_extension": ".py",
   "mimetype": "text/x-python",
   "name": "python",
   "nbconvert_exporter": "python",
   "pygments_lexer": "ipython3",
   "version": "3.11.7"
  }
 },
 "nbformat": 4,
 "nbformat_minor": 2
}
