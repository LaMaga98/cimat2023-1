{
 "cells": [
  {
   "cell_type": "markdown",
   "metadata": {},
   "source": [
    "$$\\textbf{Optimización I. Tarea 8}$$\n",
    "$$\\textit{Y. Sarahi García Gozález}$$"
   ]
  },
  {
   "cell_type": "markdown",
   "metadata": {},
   "source": [
    "$\\color{purple}{Librerías \\space }$ <br>"
   ]
  },
  {
   "cell_type": "code",
   "execution_count": 33,
   "metadata": {},
   "outputs": [],
   "source": [
    "import numpy as np\n",
    "import functions as fn #libreria con las funciones Himmelblau,Beale,Rosenbrock,Hartman\n",
    "from math import exp"
   ]
  },
  {
   "cell_type": "code",
   "execution_count": 34,
   "metadata": {},
   "outputs": [
    {
     "name": "stdout",
     "output_type": "stream",
     "text": [
      "Epsilon de la máquina: 2.220446049250313e-16\n"
     ]
    }
   ],
   "source": [
    "#imprimimos el epsilon de la máquina\n",
    "epsilon = np.finfo(float).eps\n",
    "print(\"Epsilon de la máquina:\", epsilon)"
   ]
  },
  {
   "cell_type": "code",
   "execution_count": 35,
   "metadata": {},
   "outputs": [],
   "source": [
    "def imprime(f,n,x0,metodo,metodo_args):\n",
    "\n",
    "    '''\n",
    "    Esta función imprime:\n",
    "    - la dimensión $n$,\n",
    "    - f(x_0)\n",
    "    - el  número $k$ de iteraciones realizadas\n",
    "    - f(x_k)\n",
    "    - las primeras y últimas 4 entradas del punto $\\mathbf{x}_k$ que devuelve el algoritmo,\n",
    "    - la norma del gradiente g_k, \n",
    "    - promedio de iteraciones del algoritmo 1\n",
    "    - la variable $bres$ para saber si el algoritmo puedo converger.\n",
    "\n",
    "    '''\n",
    "\n",
    "    xk,fk,gk,k,indicador= metodo(*metodo_args)\n",
    "\n",
    "\n",
    "\n",
    "    print('Dimensión n = ', n )\n",
    "    print('f(x_0) = ', f(x0) )\n",
    "    print('Número de iteraciones = ', k )\n",
    "    print('f(x_k) = ', fk )\n",
    "    print('Primeras cuatro entradas de x_k= ', xk[:4])\n",
    "    print('Últimas cuatro entradas de x_k= ', xk[-4:])\n",
    "    print('Norma del gradiente ||gk||   = ', np.linalg.norm(gk))\n",
    "\n",
    "\n",
    "\n",
    "    if(indicador):\n",
    "        print(\"Sí se cumplio el criterio de convergencia\")\n"
   ]
  },
  {
   "cell_type": "code",
   "execution_count": 36,
   "metadata": {},
   "outputs": [],
   "source": [
    "#definimos la funcion que genera la matriz A de acuerdo a la instrucción anterior\n",
    "def genera_A1(n):\n",
    "    return np.ones((n,n))+n*np.eye(n)\n",
    "#definimos la funcion que genera la matriz A de acuerdo a la instrucción anterior\n",
    "def genera_A2(n):\n",
    "    A = np.empty([n,n], dtype=float)\n",
    "    for i in range(n):\n",
    "        for j in range(n):\n",
    "            u=0.25*((i-j)**2)\n",
    "            A[i][j]=exp(-1*u)\n",
    "    return A"
   ]
  },
  {
   "cell_type": "markdown",
   "metadata": {},
   "source": [
    "$\\color{purple}{Ejercicio \\space 1}$ <br>"
   ]
  },
  {
   "cell_type": "code",
   "execution_count": 37,
   "metadata": {},
   "outputs": [],
   "source": [
    "\n",
    "def backtracking(alpha_ini,x_k,f,f_k,df,p_k,rho=0.5,c=0.001,iter_max=500):\n",
    "\n",
    "    '''\n",
    "        Esta funcion parte de un tamaño de paso inicial alpha_ini y lo va recortando hasta que\n",
    "        cumple la cond de descenso suficiente\n",
    "\n",
    "        parametros:\n",
    "            valores (float): alpha_ini, rho entre (0,1), f(x_k), Df(x_k) (gradiente en el punto x_k), c_1, \n",
    "            direccion de descenso (np.rray): p_k \n",
    "\n",
    "        returns:\n",
    "            el tamaño de paso a_k\n",
    "            numero de iteraciones realizadas i_k\n",
    "    '''\n",
    "\n",
    "    alpha=alpha_ini #fijamos alpha como el alpha inicial\n",
    "     \n",
    "    for i in range(iter_max):\n",
    "        x_kp=x_k+alpha*p_k\n",
    "        gp=c*np.dot(df(x_k),p_k) #hacemos el producto gradiente por direccion de descenso p\n",
    "    \n",
    "\n",
    "        #si la condicion de descenso se cumple, terminamos\n",
    "        if f(x_kp)<=(f_k + alpha*gp):\n",
    "            return alpha\n",
    "\n",
    "        alpha=alpha*rho #si no se cumple la cond, hacemos alpha*rho\n",
    "     \n",
    "    return  alpha\n",
    "\n",
    "\n"
   ]
  },
  {
   "cell_type": "code",
   "execution_count": 38,
   "metadata": {},
   "outputs": [],
   "source": [
    "#def Newton_truncado(f,Df,Hf,x0,tol,max_iter=5000):\n",
    "\n",
    "def BFGS_modificado(f, Df, H0, x0, tol, max_iter=5000):\n",
    "    xk = x0\n",
    "    gk = Df(xk) \n",
    "    Hk = H0\n",
    "    n = len(xk)\n",
    "    I = np.identity(n)\n",
    "    for k in range(max_iter):\n",
    "        \n",
    "        if np.linalg.norm(gk) <= tol:\n",
    "            return xk, f(xk), gk,k, True\n",
    "            \n",
    "        pk = np.dot(-Hk, gk)\n",
    "        if np.dot(pk,gk) > 0:\n",
    "            l1 = 10e-5 + (np.dot(pk,gk)/np.dot(gk,gk))\n",
    "            Hk = Hk + l1*I\n",
    "            pk = pk - l1*gk\n",
    "        \n",
    "        alpha = backtracking(1, xk, f,f(xk), Df, pk)\n",
    "        xk_new = xk + alpha*pk\n",
    "        gk_new = Df(xk_new)\n",
    "        y = gk_new - gk\n",
    "        s = xk_new - xk\n",
    "\n",
    "        if np.dot(y,y) < tol:\n",
    "            return xk, f(xk), gk,k, True\n",
    "\n",
    "        if np.dot(y,s) <= 0:\n",
    "            l2 = 10e-5 - (np.dot(y,s)/np.dot(y,y))\n",
    "            Hk = Hk + l2*I\n",
    "        else:\n",
    "            rho_k = 1/np.dot(y,s)\n",
    "            Hk = (np.identity(n) - rho_k * (s@y.T)) @ Hk @ (np.identity(n) - rho_k * (y@s.T)) + rho_k * (s@s.T)\n",
    "        \n",
    "        xk = xk_new\n",
    "        gk = gk_new\n",
    "        \n",
    "\n",
    "    return xk, f(xk), gk,k, False"
   ]
  },
  {
   "cell_type": "markdown",
   "metadata": {},
   "source": [
    "**Función cuadrática con A1**"
   ]
  },
  {
   "cell_type": "markdown",
   "metadata": {},
   "source": [
    "$n=10$"
   ]
  },
  {
   "cell_type": "code",
   "execution_count": 39,
   "metadata": {},
   "outputs": [
    {
     "name": "stdout",
     "output_type": "stream",
     "text": [
      "Dimensión n =  10\n",
      "f(x_0) =  0.0\n",
      "Número de iteraciones =  4\n",
      "f(x_k) =  -0.24999997743284488\n",
      "Primeras cuatro entradas de x_k=  [0.04998498 0.04998498 0.04998498 0.04998498]\n",
      "Últimas cuatro entradas de x_k=  [0.04998498 0.04998498 0.04998498 0.04998498]\n",
      "Norma del gradiente ||gk||   =  0.0009500979969103435\n",
      "Sí se cumplio el criterio de convergencia\n"
     ]
    }
   ],
   "source": [
    "n=10\n",
    "H0 = np.identity(n)\n",
    "tau=(np.sqrt(n))*((epsilon)**(1/3))\n",
    "A=genera_A1(n)\n",
    "b=np.ones(n)\n",
    "x0=np.zeros(n)\n",
    "#definimos la funcion cuadratica, su gradiente y su Hessiana como inline functions\n",
    "cuadratica = lambda x: 0.5 * np.dot(x.T, np.dot(A, x)) - np.dot(b.T, x)\n",
    "D_cuadratica = lambda x: 0.5 * (np.dot(A.T, x) + np.dot(A, x)) - b\n",
    "\n",
    "\n",
    "argumentos_NT=[cuadratica,D_cuadratica,H0,x0,tau]\n",
    "imprime(cuadratica,n,x0,BFGS_modificado,argumentos_NT)"
   ]
  },
  {
   "cell_type": "markdown",
   "metadata": {},
   "source": [
    "$n=100$"
   ]
  },
  {
   "cell_type": "code",
   "execution_count": 40,
   "metadata": {},
   "outputs": [
    {
     "name": "stdout",
     "output_type": "stream",
     "text": [
      "Dimensión n =  100\n",
      "f(x_0) =  0.0\n",
      "Número de iteraciones =  9\n",
      "f(x_k) =  -0.24999996545321657\n",
      "Primeras cuatro entradas de x_k=  [0.00500186 0.00500186 0.00500186 0.00500186]\n",
      "Últimas cuatro entradas de x_k=  [0.00500186 0.00500186 0.00500186 0.00500186]\n",
      "Norma del gradiente ||gk||   =  0.00371735302578493\n",
      "Sí se cumplio el criterio de convergencia\n"
     ]
    }
   ],
   "source": [
    "n=100\n",
    "H0 = np.identity(n)\n",
    "tau=(np.sqrt(n))*((epsilon)**(1/3))\n",
    "A=genera_A1(n)\n",
    "b=np.ones(n)\n",
    "x0=np.zeros(n)\n",
    "#definimos la funcion cuadratica, su gradiente y su Hessiana como inline functions\n",
    "cuadratica = lambda x: 0.5 * np.dot(x.T, np.dot(A, x)) - np.dot(b.T, x)\n",
    "D_cuadratica = lambda x: 0.5 * (np.dot(A.T, x) + np.dot(A, x)) - b\n",
    "\n",
    "argumentos_NT=[cuadratica,D_cuadratica,H0,x0,tau]\n",
    "imprime(cuadratica,n,x0,BFGS_modificado,argumentos_NT)"
   ]
  },
  {
   "cell_type": "markdown",
   "metadata": {},
   "source": [
    "$n=1000$"
   ]
  },
  {
   "cell_type": "code",
   "execution_count": 41,
   "metadata": {},
   "outputs": [
    {
     "name": "stdout",
     "output_type": "stream",
     "text": [
      "Dimensión n =  1000\n",
      "f(x_0) =  0.0\n",
      "Número de iteraciones =  11\n",
      "f(x_k) =  -0.24999996810151942\n",
      "Primeras cuatro entradas de x_k=  [0.00050018 0.00050018 0.00050018 0.00050018]\n",
      "Últimas cuatro entradas de x_k=  [0.00050018 0.00050018 0.00050018 0.00050018]\n",
      "Norma del gradiente ||gk||   =  0.011295747369060454\n",
      "Sí se cumplio el criterio de convergencia\n"
     ]
    }
   ],
   "source": [
    "n=1000\n",
    "H0 = np.identity(n)\n",
    "tau=(np.sqrt(n))*((epsilon)**(1/3))\n",
    "A=genera_A1(n)\n",
    "b=np.ones(n)\n",
    "x0=np.zeros(n)\n",
    "#definimos la funcion cuadratica, su gradiente y su Hessiana como inline functions\n",
    "cuadratica = lambda x: 0.5 * np.dot(x.T, np.dot(A, x)) - np.dot(b.T, x)\n",
    "D_cuadratica = lambda x: 0.5 * (np.dot(A.T, x) + np.dot(A, x)) - b\n",
    "\n",
    "\n",
    "argumentos_NT=[cuadratica,D_cuadratica,H0,x0,tau]\n",
    "imprime(cuadratica,n,x0,BFGS_modificado,argumentos_NT)"
   ]
  },
  {
   "cell_type": "markdown",
   "metadata": {},
   "source": [
    "**Función cuadrática con A2**"
   ]
  },
  {
   "cell_type": "markdown",
   "metadata": {},
   "source": [
    "$n=10$"
   ]
  },
  {
   "cell_type": "code",
   "execution_count": 42,
   "metadata": {},
   "outputs": [
    {
     "name": "stdout",
     "output_type": "stream",
     "text": [
      "Dimensión n =  10\n",
      "f(x_0) =  0.0\n",
      "Número de iteraciones =  5\n",
      "f(x_k) =  -1.582691875500642\n",
      "Primeras cuatro entradas de x_k=  [0.31823556 0.31669959 0.31597412 0.31576632]\n",
      "Últimas cuatro entradas de x_k=  [0.31576632 0.31597412 0.31669959 0.31823556]\n",
      "Norma del gradiente ||gk||   =  0.474850390221194\n",
      "Sí se cumplio el criterio de convergencia\n"
     ]
    }
   ],
   "source": [
    "n=10\n",
    "H0 = np.identity(n)\n",
    "tau=(np.sqrt(n))*((epsilon)**(1/3))\n",
    "A=genera_A2(n)\n",
    "b=np.ones(n)\n",
    "x0=np.zeros(n)\n",
    "\n",
    "argumentos_NT=[cuadratica,D_cuadratica,H0,x0,tau]\n",
    "imprime(cuadratica,n,x0,BFGS_modificado,argumentos_NT)"
   ]
  },
  {
   "cell_type": "markdown",
   "metadata": {},
   "source": [
    "$n=100$"
   ]
  },
  {
   "cell_type": "code",
   "execution_count": 43,
   "metadata": {},
   "outputs": [
    {
     "name": "stdout",
     "output_type": "stream",
     "text": [
      "Dimensión n =  100\n",
      "f(x_0) =  0.0\n",
      "Número de iteraciones =  6\n",
      "f(x_k) =  -14.258764201243128\n",
      "Primeras cuatro entradas de x_k=  [0.28510335 0.28509147 0.28508586 0.28508425]\n",
      "Últimas cuatro entradas de x_k=  [0.28508425 0.28508586 0.28509147 0.28510335]\n",
      "Norma del gradiente ||gk||   =  0.5417374850841334\n",
      "Sí se cumplio el criterio de convergencia\n"
     ]
    }
   ],
   "source": [
    "n=100\n",
    "H0 = np.identity(n)\n",
    "tau=(np.sqrt(n))*((epsilon)**(1/3))\n",
    "A=genera_A2(n)\n",
    "b=np.ones(n)\n",
    "x0=np.zeros(n)\n",
    "\n",
    "#definimos la funcion cuadratica, su gradiente y su Hessiana como inline functions\n",
    "cuadratica = lambda x: 0.5 * np.dot(x.T, np.dot(A, x)) - np.dot(b.T, x)\n",
    "D_cuadratica = lambda x: 0.5 * (np.dot(A.T, x) + np.dot(A, x)) - b\n",
    "\n",
    "\n",
    "argumentos_NT=[cuadratica,D_cuadratica,H0,x0,tau]\n",
    "imprime(cuadratica,n,x0,BFGS_modificado,argumentos_NT)"
   ]
  },
  {
   "cell_type": "markdown",
   "metadata": {},
   "source": [
    "$n=1000$"
   ]
  },
  {
   "cell_type": "code",
   "execution_count": 44,
   "metadata": {},
   "outputs": [
    {
     "name": "stdout",
     "output_type": "stream",
     "text": [
      "Dimensión n =  1000\n",
      "f(x_0) =  0.0\n",
      "Número de iteraciones =  10\n",
      "f(x_k) =  -141.1999072003726\n",
      "Primeras cuatro entradas de x_k=  [0.28238294 0.28238275 0.28238267 0.28238264]\n",
      "Últimas cuatro entradas de x_k=  [0.28238264 0.28238267 0.28238275 0.28238294]\n",
      "Norma del gradiente ||gk||   =  0.5463587122650305\n",
      "Sí se cumplio el criterio de convergencia\n"
     ]
    }
   ],
   "source": [
    "n=1000\n",
    "H0 = np.identity(n)\n",
    "tau=(np.sqrt(n))*((epsilon)**(1/3))\n",
    "A=genera_A2(n)\n",
    "b=np.ones(n)\n",
    "x0=np.zeros(n)\n",
    "\n",
    "#definimos la funcion cuadratica, su gradiente y su Hessiana como inline functions\n",
    "cuadratica = lambda x: 0.5 * np.dot(x.T, np.dot(A, x)) - np.dot(b.T, x)\n",
    "D_cuadratica = lambda x: 0.5 * (np.dot(A.T, x) + np.dot(A, x)) - b\n",
    "\n",
    "\n",
    "argumentos_NT=[cuadratica,D_cuadratica,H0,x0,tau]\n",
    "imprime(cuadratica,n,x0,BFGS_modificado,argumentos_NT)"
   ]
  },
  {
   "cell_type": "markdown",
   "metadata": {},
   "source": [
    "**Función de Beale**"
   ]
  },
  {
   "cell_type": "code",
   "execution_count": 45,
   "metadata": {},
   "outputs": [
    {
     "name": "stdout",
     "output_type": "stream",
     "text": [
      "Dimensión n =  2\n",
      "f(x_0) =  3347.203125\n",
      "Número de iteraciones =  345\n",
      "f(x_k) =  9.804507494945847e-06\n",
      "Primeras cuatro entradas de x_k=  [2.99231847 0.49819972]\n",
      "Últimas cuatro entradas de x_k=  [2.99231847 0.49819972]\n",
      "Norma del gradiente ||gk||   =  0.0062877758164408\n",
      "Sí se cumplio el criterio de convergencia\n"
     ]
    }
   ],
   "source": [
    "x0=(2,3)\n",
    "n=2\n",
    "H0 = np.identity(n)\n",
    "tau=(np.sqrt(n))*((epsilon)**(1/3))\n",
    "argumentos_NT=[fn.Beale,fn.D_Beale, H0,x0,tau]\n",
    "imprime(fn.Beale,n,x0,BFGS_modificado,argumentos_NT)\n"
   ]
  },
  {
   "cell_type": "markdown",
   "metadata": {},
   "source": [
    "**Función de Himmelblau** \n"
   ]
  },
  {
   "cell_type": "code",
   "execution_count": 46,
   "metadata": {},
   "outputs": [
    {
     "name": "stdout",
     "output_type": "stream",
     "text": [
      "Dimensión n =  2\n",
      "f(x_0) =  130\n",
      "Número de iteraciones =  11\n",
      "f(x_k) =  1.0129025496381528e-09\n",
      "Primeras cuatro entradas de x_k=  [-3.7793138  -3.28318989]\n",
      "Últimas cuatro entradas de x_k=  [-3.7793138  -3.28318989]\n",
      "Norma del gradiente ||gk||   =  0.0003886149322926008\n",
      "Sí se cumplio el criterio de convergencia\n"
     ]
    }
   ],
   "source": [
    "x0=(2,4)\n",
    "n=len(x0)\n",
    "tau=(np.sqrt(n))*((epsilon)**(1/3))\n",
    "argumentos_NT=[fn.Himmelblau,fn.D_Himmelblau, H0,x0,tau]\n",
    "imprime(fn.Himmelblau,n,x0,BFGS_modificado,argumentos_NT)"
   ]
  },
  {
   "cell_type": "markdown",
   "metadata": {},
   "source": [
    "**Función de Rosenbrock**"
   ]
  },
  {
   "cell_type": "code",
   "execution_count": 47,
   "metadata": {},
   "outputs": [
    {
     "name": "stdout",
     "output_type": "stream",
     "text": [
      "Dimensión n =  2\n",
      "f(x_0) =  24.199999999999996\n",
      "Número de iteraciones =  1187\n",
      "f(x_k) =  8.716636762728045e-07\n",
      "Primeras cuatro entradas de x_k=  [1.00092874 1.00186788]\n",
      "Últimas cuatro entradas de x_k=  [1.00092874 1.00186788]\n",
      "Norma del gradiente ||gk||   =  0.002739083597746638\n",
      "Sí se cumplio el criterio de convergencia\n"
     ]
    }
   ],
   "source": [
    "x0=(-1.2,1.0)\n",
    "n=len(x0)\n",
    "H0 = np.identity(n)\n",
    "tau=(np.sqrt(n))*((epsilon)**(1/3))\n",
    "argumentos_NT=[fn.Rosenbrock,fn.D_Rosenbrock, H0,x0,tau]\n",
    "imprime(fn.Rosenbrock,n,x0,BFGS_modificado,argumentos_NT)"
   ]
  },
  {
   "cell_type": "code",
   "execution_count": 52,
   "metadata": {},
   "outputs": [
    {
     "name": "stdout",
     "output_type": "stream",
     "text": [
      "Dimensión n =  20\n",
      "f(x_0) =  4597.999999999999\n",
      "Número de iteraciones =  17\n",
      "f(x_k) =  403.3903607365128\n",
      "Primeras cuatro entradas de x_k=  [-0.57248447 -0.34107472  0.28432646 -0.34199132]\n",
      "Últimas cuatro entradas de x_k=  [ 0.28432647 -0.34199132  0.28475586  1.37373821]\n",
      "Norma del gradiente ||gk||   =  449.3534243328402\n",
      "Sí se cumplio el criterio de convergencia\n"
     ]
    }
   ],
   "source": [
    "x0=(-1.2,1.0,-1.2,1.0,-1.2,1.0,-1.2,1.0,-1.2,1.0,-1.2,1.0,-1.2,1.0,-1.2,1.0,-1.2,1.0,-1.2,1.0)\n",
    "n=len(x0)\n",
    "H0 = np.identity(n)\n",
    "tau=(np.sqrt(n))*((epsilon)**(1/3))\n",
    "argumentos_NT=[fn.Rosenbrock,fn.D_Rosenbrock, H0,x0,tau]\n",
    "imprime(fn.Rosenbrock,n,x0,BFGS_modificado,argumentos_NT)"
   ]
  },
  {
   "cell_type": "code",
   "execution_count": null,
   "metadata": {},
   "outputs": [
    {
     "name": "stdout",
     "output_type": "stream",
     "text": [
      "Dimensión n =  40\n",
      "f(x_0) =  9680.0\n",
      "Número de iteraciones =  13\n",
      "f(x_k) =  634.2938734073682\n",
      "Primeras cuatro entradas de x_k=  [-0.5850408  -0.35316475  0.27369441 -0.35339376]\n",
      "Últimas cuatro entradas de x_k=  [ 0.27369441 -0.35339376  0.2738004   1.36460289]\n",
      "Norma del gradiente ||gk||   =  552.0669040583429\n",
      "Sí se cumplio el criterio de convergencia\n"
     ]
    }
   ],
   "source": [
    "x0=(-1.2,1.0,-1.2,1.0,-1.2,1.0,-1.2,1.0,-1.2,1.0,-1.2,1.0,-1.2,1.0,-1.2,1.0,-1.2,1.0,-1.2,1.0,-1.2,1.0,-1.2,1.0,-1.2,1.0,-1.2,1.0,-1.2,1.0,-1.2,1.0,-1.2,1.0,-1.2,1.0,-1.2,1.0,-1.2,1.0)\n",
    "n=len(x0)\n",
    "H0 = np.identity(n)\n",
    "tau=(np.sqrt(n))*((epsilon)**(1/3))\n",
    "argumentos_NT=[fn.Rosenbrock,fn.D_Rosenbrock, H0,x0,tau]\n",
    "imprime(fn.Rosenbrock,n,x0,BFGS_modificado,argumentos_NT)"
   ]
  },
  {
   "cell_type": "markdown",
   "metadata": {},
   "source": [
    "No encontró el mínimo para Rosenbrock n=20,40, llegó a un punto que no es el mínimo."
   ]
  },
  {
   "cell_type": "markdown",
   "metadata": {},
   "source": []
  }
 ],
 "metadata": {
  "kernelspec": {
   "display_name": "Python 3",
   "language": "python",
   "name": "python3"
  },
  "language_info": {
   "codemirror_mode": {
    "name": "ipython",
    "version": 3
   },
   "file_extension": ".py",
   "mimetype": "text/x-python",
   "name": "python",
   "nbconvert_exporter": "python",
   "pygments_lexer": "ipython3",
   "version": "3.11.7"
  }
 },
 "nbformat": 4,
 "nbformat_minor": 2
}
