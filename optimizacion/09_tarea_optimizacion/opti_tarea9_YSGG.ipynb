{
 "cells": [
  {
   "cell_type": "markdown",
   "metadata": {},
   "source": [
    "$$\\textbf{Optimización I. Tarea 9}$$\n",
    "$$\\textit{Y. Sarahi García Gozález}$$"
   ]
  },
  {
   "cell_type": "markdown",
   "metadata": {},
   "source": [
    "$\\color{purple}{Librerías \\space }$ <br>"
   ]
  },
  {
   "cell_type": "code",
   "execution_count": 1,
   "metadata": {},
   "outputs": [],
   "source": [
    "import numpy as np\n",
    "import functions as fn #libreria con las funciones Himmelblau,Beale,Rosenbrock,Hartman\n",
    "from math import exp\n",
    "from sklearn.preprocessing import StandardScaler\n",
    "# data splitting\n",
    "from sklearn.model_selection import train_test_split\n",
    "# data modeling\n",
    "from sklearn.metrics import confusion_matrix, ConfusionMatrixDisplay, accuracy_score\n",
    "from sklearn.linear_model import LogisticRegression\n",
    "import pandas as pd\n",
    "\n",
    "import matplotlib.pyplot as plt\n"
   ]
  },
  {
   "cell_type": "code",
   "execution_count": 2,
   "metadata": {},
   "outputs": [
    {
     "name": "stdout",
     "output_type": "stream",
     "text": [
      "Epsilon de la máquina: 2.220446049250313e-16\n"
     ]
    }
   ],
   "source": [
    "#imprimimos el epsilon de la máquina\n",
    "epsilon = np.finfo(float).eps\n",
    "print(\"Epsilon de la máquina:\", epsilon)"
   ]
  },
  {
   "cell_type": "code",
   "execution_count": 7,
   "metadata": {},
   "outputs": [],
   "source": [
    "def imprime(metodo,metodo_args):\n",
    "\n",
    "    '''\n",
    "    Esta función imprime:\n",
    "    - f((x_k)\n",
    "    - el  número $k$ de iteraciones realizadas\n",
    "    - f(x_k)\n",
    "    - la norma de p_k, \n",
    "\n",
    "    '''\n",
    "\n",
    "    xk, fk,pk, k, indicador= metodo(*metodo_args)\n",
    "\n",
    "\n",
    "    print('z_k= ', xk )\n",
    "    print('f(x_0) = ', fk )\n",
    "    print('Número de iteraciones = ', k )\n",
    "    print('Norma del p ||pk||   = ', np.linalg.norm(pk))\n",
    "\n",
    "\n",
    "\n",
    "    if(indicador):\n",
    "        print(\"Sí se cumplio el criterio de convergencia\")\n",
    "\n",
    "    return xk\n"
   ]
  },
  {
   "cell_type": "code",
   "execution_count": 36,
   "metadata": {},
   "outputs": [],
   "source": [
    "#definimos la funcion que genera la matriz A de acuerdo a la instrucción anterior\n",
    "def genera_A1(n):\n",
    "    return np.ones((n,n))+n*np.eye(n)\n",
    "#definimos la funcion que genera la matriz A de acuerdo a la instrucción anterior\n",
    "def genera_A2(n):\n",
    "    A = np.empty([n,n], dtype=float)\n",
    "    for i in range(n):\n",
    "        for j in range(n):\n",
    "            u=0.25*((i-j)**2)\n",
    "            A[i][j]=exp(-1*u)\n",
    "    return A"
   ]
  },
  {
   "cell_type": "code",
   "execution_count": 16,
   "metadata": {},
   "outputs": [
    {
     "name": "stdout",
     "output_type": "stream",
     "text": [
      "Dimensiones de la tabla: (303, 14)\n"
     ]
    },
    {
     "data": {
      "text/html": [
       "<div>\n",
       "<style scoped>\n",
       "    .dataframe tbody tr th:only-of-type {\n",
       "        vertical-align: middle;\n",
       "    }\n",
       "\n",
       "    .dataframe tbody tr th {\n",
       "        vertical-align: top;\n",
       "    }\n",
       "\n",
       "    .dataframe thead th {\n",
       "        text-align: right;\n",
       "    }\n",
       "</style>\n",
       "<table border=\"1\" class=\"dataframe\">\n",
       "  <thead>\n",
       "    <tr style=\"text-align: right;\">\n",
       "      <th></th>\n",
       "      <th>age</th>\n",
       "      <th>sex</th>\n",
       "      <th>cp</th>\n",
       "      <th>trestbps</th>\n",
       "      <th>chol</th>\n",
       "      <th>fbs</th>\n",
       "      <th>restecg</th>\n",
       "      <th>thalach</th>\n",
       "      <th>exang</th>\n",
       "      <th>oldpeak</th>\n",
       "      <th>slope</th>\n",
       "      <th>ca</th>\n",
       "      <th>thal</th>\n",
       "      <th>target</th>\n",
       "    </tr>\n",
       "  </thead>\n",
       "  <tbody>\n",
       "    <tr>\n",
       "      <th>0</th>\n",
       "      <td>63</td>\n",
       "      <td>1</td>\n",
       "      <td>3</td>\n",
       "      <td>145</td>\n",
       "      <td>233</td>\n",
       "      <td>1</td>\n",
       "      <td>0</td>\n",
       "      <td>150</td>\n",
       "      <td>0</td>\n",
       "      <td>2.3</td>\n",
       "      <td>0</td>\n",
       "      <td>0</td>\n",
       "      <td>1</td>\n",
       "      <td>1</td>\n",
       "    </tr>\n",
       "    <tr>\n",
       "      <th>1</th>\n",
       "      <td>37</td>\n",
       "      <td>1</td>\n",
       "      <td>2</td>\n",
       "      <td>130</td>\n",
       "      <td>250</td>\n",
       "      <td>0</td>\n",
       "      <td>1</td>\n",
       "      <td>187</td>\n",
       "      <td>0</td>\n",
       "      <td>3.5</td>\n",
       "      <td>0</td>\n",
       "      <td>0</td>\n",
       "      <td>2</td>\n",
       "      <td>1</td>\n",
       "    </tr>\n",
       "    <tr>\n",
       "      <th>2</th>\n",
       "      <td>41</td>\n",
       "      <td>0</td>\n",
       "      <td>1</td>\n",
       "      <td>130</td>\n",
       "      <td>204</td>\n",
       "      <td>0</td>\n",
       "      <td>0</td>\n",
       "      <td>172</td>\n",
       "      <td>0</td>\n",
       "      <td>1.4</td>\n",
       "      <td>2</td>\n",
       "      <td>0</td>\n",
       "      <td>2</td>\n",
       "      <td>1</td>\n",
       "    </tr>\n",
       "    <tr>\n",
       "      <th>3</th>\n",
       "      <td>56</td>\n",
       "      <td>1</td>\n",
       "      <td>1</td>\n",
       "      <td>120</td>\n",
       "      <td>236</td>\n",
       "      <td>0</td>\n",
       "      <td>1</td>\n",
       "      <td>178</td>\n",
       "      <td>0</td>\n",
       "      <td>0.8</td>\n",
       "      <td>2</td>\n",
       "      <td>0</td>\n",
       "      <td>2</td>\n",
       "      <td>1</td>\n",
       "    </tr>\n",
       "    <tr>\n",
       "      <th>4</th>\n",
       "      <td>57</td>\n",
       "      <td>0</td>\n",
       "      <td>0</td>\n",
       "      <td>120</td>\n",
       "      <td>354</td>\n",
       "      <td>0</td>\n",
       "      <td>1</td>\n",
       "      <td>163</td>\n",
       "      <td>1</td>\n",
       "      <td>0.6</td>\n",
       "      <td>2</td>\n",
       "      <td>0</td>\n",
       "      <td>2</td>\n",
       "      <td>1</td>\n",
       "    </tr>\n",
       "  </tbody>\n",
       "</table>\n",
       "</div>"
      ],
      "text/plain": [
       "   age  sex  cp  trestbps  chol  fbs  restecg  thalach  exang  oldpeak  slope  \\\n",
       "0   63    1   3       145   233    1        0      150      0      2.3      0   \n",
       "1   37    1   2       130   250    0        1      187      0      3.5      0   \n",
       "2   41    0   1       130   204    0        0      172      0      1.4      2   \n",
       "3   56    1   1       120   236    0        1      178      0      0.8      2   \n",
       "4   57    0   0       120   354    0        1      163      1      0.6      2   \n",
       "\n",
       "   ca  thal  target  \n",
       "0   0     1       1  \n",
       "1   0     2       1  \n",
       "2   0     2       1  \n",
       "3   0     2       1  \n",
       "4   0     2       1  "
      ]
     },
     "execution_count": 16,
     "metadata": {},
     "output_type": "execute_result"
    }
   ],
   "source": [
    "# Lectura de los datos\n",
    "data = pd.read_csv('heart.csv')\n",
    "print('Dimensiones de la tabla:', data.shape)\n",
    "data.head()"
   ]
  },
  {
   "cell_type": "code",
   "execution_count": 18,
   "metadata": {},
   "outputs": [
    {
     "name": "stdout",
     "output_type": "stream",
     "text": [
      "w = \n",
      "[ 0.11505553 -0.07527989 -0.86343872  0.79668329 -0.19306509 -0.24740666\n",
      " -0.13375708  0.09199133  0.5056945  -0.47893713 -0.64523259  0.13478362\n",
      " -0.88420603 -0.46002338]\n"
     ]
    }
   ],
   "source": [
    "# Cambiamos la etiqueta 0 por -1\n",
    "data.loc[data['target']==0, 'target'] = -1\n",
    "# Vector de etiquetas\n",
    "y  = data[\"target\"]\n",
    "\n",
    "# Matriz de datos\n",
    "X  = data.drop('target',axis=1)\n",
    "\n",
    "# Se usa el 20% de los datos para crear el conjunto de prueba\n",
    "X_train, X_test, y_train, y_test = train_test_split(X, y, test_size=0.20, random_state = 0)\n",
    "\n",
    "# Se estandariza cada columna de la matriz de datos para evitar que por tener diferentes\n",
    "# rangos de valores cada columna (variable), afecte al algoritmo de optimización\n",
    "scaler = StandardScaler()\n",
    "X_train = scaler.fit_transform(X_train)\n",
    "X_test = scaler.transform(X_test)\n",
    "\n",
    "# Número de muestras del conjunto de entrenamiento\n",
    "ntrain  = X_train.shape[0]\n",
    "# Se agrega una columna de 1's para que el bias b forme pare del vector w\n",
    "X_train = np.hstack((np.ones((ntrain,1)), X_train))\n",
    "\n",
    "# Número de muestras del conjunto de prueba\n",
    "ntest   = X_test.shape[0]\n",
    "# Se agrega una columna de 1's para que el bias b forme pare del vector w\n",
    "X_test  = np.hstack((np.ones((ntest,1)), X_test))\n",
    "\n",
    "# Se convierte los dataframes a una matriz de numpy\n",
    "y_train = y_train.to_numpy()\n",
    "y_test = y_test.to_numpy()\n",
    "\n",
    "# Se entrena el clasificador de regresión logística\n",
    "lr    = LogisticRegression(fit_intercept=False)\n",
    "model = lr.fit(X_train, y_train)\n",
    "\n",
    "# Imprimimos las componentes de w\n",
    "w = np.squeeze(model.coef_)\n",
    "print('w = ')\n",
    "print(w)\n",
    "\n",
    "# Se calcula las predicciones para el conjunto de prueba\n",
    "y_predict = model.predict(X_test)"
   ]
  },
  {
   "cell_type": "code",
   "execution_count": 19,
   "metadata": {},
   "outputs": [
    {
     "name": "stdout",
     "output_type": "stream",
     "text": [
      "\n",
      "Accuracy: 0.8360655737704918 \n",
      "\n"
     ]
    },
    {
     "data": {
      "text/plain": [
       "<sklearn.metrics._plot.confusion_matrix.ConfusionMatrixDisplay at 0x15ac21b10>"
      ]
     },
     "execution_count": 19,
     "metadata": {},
     "output_type": "execute_result"
    },
    {
     "data": {
      "image/png": "[encoded data removed]",
      "text/plain": [
       "<Figure size 640x480 with 2 Axes>"
      ]
     },
     "metadata": {},
     "output_type": "display_data"
    }
   ],
   "source": [
    "# Se mide el desempeño calculando la matriz de confusión y la exactitud\n",
    "conf_matrix = confusion_matrix(y_test, y_predict)\n",
    "acc_score = accuracy_score(y_test, y_predict)\n",
    "print(\"\\nAccuracy:\", acc_score,'\\n')\n",
    "\n",
    "disp = ConfusionMatrixDisplay(confusion_matrix=conf_matrix,\n",
    "                              display_labels=model.classes_)\n",
    "disp.plot()"
   ]
  },
  {
   "cell_type": "markdown",
   "metadata": {},
   "source": [
    "$\\color{purple}{Ejercicio \\space 1}$ <br>"
   ]
  },
  {
   "cell_type": "markdown",
   "metadata": {},
   "source": [
    "1. Muestre que el gradiente de $L(\\mathbf{w})$ está dado por\n",
    "\n",
    "$$ \\nabla_w L(\\mathbf{w}) = - \\sum_{i=1}^m (1 - \\sigma(\\mathbf{x}_i, y_i, \\mathbf{w})) y_i\\mathbf{x}_i\n",
    "+ \\lambda \\mathbf{w}. $$"
   ]
  },
  {
   "cell_type": "markdown",
   "metadata": {},
   "source": [
    "![Ejercicio 1a](1a.jpg)\n"
   ]
  },
  {
   "cell_type": "markdown",
   "metadata": {},
   "source": [
    "2. Programar las funciones\n",
    "\n",
    "$$\\sigma(\\mathbf{X}, \\mathbf{y}, \\mathbf{w}), \\quad\n",
    "L(\\mathbf{w})\\quad \\text{y} \\quad \\nabla_w L(\\mathbf{w}).$$"
   ]
  },
  {
   "cell_type": "code",
   "execution_count": 51,
   "metadata": {},
   "outputs": [],
   "source": [
    "def sigmoid(X, y, w):  \n",
    "    sig = []\n",
    "    for i in range(len(y)):\n",
    "        z = np.dot(X[i] ,w) * y[i]\n",
    "        sig.append(1 / (1 + np.exp(-z)))\n",
    "    return np.array(sig)\n",
    "\n",
    "def L(X, y, w, l): \n",
    "    inversos = np.reciprocal(sigmoid(X, y, w))\n",
    "    s = np.sum(inversos)\n",
    "    return s + l * np.dot(w, w) / 2\n",
    "\n",
    "def D_L(X, y, w, l):\n",
    "    a=1-sigmoid(X, y, w)\n",
    "    a=X.T*a\n",
    "    a=a*y\n",
    "    a=a.T\n",
    "    s=np.sum(a,axis=0)\n",
    "    \n",
    "    return s+l*w"
   ]
  },
  {
   "cell_type": "code",
   "execution_count": 70,
   "metadata": {},
   "outputs": [],
   "source": [
    "# Función para predecir la clase de cada dato (fila) en la matriz X\n",
    "# Devuelve un arreglo del tamaño de la cantidad de filas de X que tiene\n",
    "# las etiquetas -1 o 1  que se predicen para cada dato.\n",
    "# Para calcular las etiquetas, se calcula el vector que tiene las probabilidades\n",
    "# de que los datos pertenezcan a la clase 1. Si la probabilidad es mayor que 0.5,\n",
    "# se asigna la clase 1. En caso contrario se asigna la clase -1.\n",
    "#\n",
    "def predict(X, w):\n",
    "    # Vector de prediciones. Se inicializa como si todas las etiquetas fueran 1\n",
    "    y_pred = np.ones(X.shape[0])\n",
    "    # Vector de probalidades de que los datos pertenezcan a la clase 1\n",
    "    vprob  = sigmoid(X, np.ones(X.shape[0]), w)\n",
    "    # Se obtienen los índices de los datos que tienen una probabilidad menor a 0.5\n",
    "    ii     = np.where(vprob<=0.5)[0]\n",
    "    # Se cambia la etiqueta por -1 para todos los datos con probabilidad menor a 0.5\n",
    "    y_pred[ii] = -1\n",
    "    return y_pred"
   ]
  },
  {
   "cell_type": "markdown",
   "metadata": {},
   "source": [
    "3. Aplique el método de descenso máximo para minimizar la función $L(\\mathbf{w})$."
   ]
  },
  {
   "cell_type": "code",
   "execution_count": 82,
   "metadata": {},
   "outputs": [],
   "source": [
    "\n",
    "def backtracking(alpha_ini,x_k,f,f_k,df,p_k,rho=0.5,c=0.001,iter_max=500):\n",
    "\n",
    "    '''\n",
    "        Esta funcion parte de un tamaño de paso inicial alpha_ini y lo va recortando hasta que\n",
    "        cumple la cond de descenso suficiente\n",
    "\n",
    "        parametros:\n",
    "            valores (float): alpha_ini, rho entre (0,1), f(x_k), Df(x_k) (gradiente en el punto x_k), c_1, \n",
    "            direccion de descenso (np.rray): p_k \n",
    "\n",
    "        returns:\n",
    "            el tamaño de paso a_k\n",
    "            numero de iteraciones realizadas i_k\n",
    "    '''\n",
    "\n",
    "    alpha=alpha_ini #fijamos alpha como el alpha inicial\n",
    "     \n",
    "    for i in range(iter_max):\n",
    "        x_kp=x_k+alpha*p_k\n",
    "        gp=c*np.dot(df(x_k),p_k) #hacemos el producto gradiente por direccion de descenso p\n",
    "    \n",
    "\n",
    "        #si la condicion de descenso se cumple, terminamos\n",
    "        if f(x_kp)<=(f_k + alpha*gp):\n",
    "            return alpha,i,True\n",
    "\n",
    "        alpha=alpha*rho #si no se cumple la cond, hacemos alpha*rho\n",
    "     \n",
    "    return  alpha,iter_max,False\n",
    "\n",
    "def descenso_maximo_backtracking(f,df,x0,alpha_ini,tau,rho=0.5,c=0.001,max_iter=500,max_iter_b=500):\n",
    "    '''\n",
    "    Esta funcion busca el minimo de la funcion f usando la tecnica de backtracking\n",
    "\n",
    "    Parametros: \n",
    "        f: función a optimizar\n",
    "        df: gradiente de f\n",
    "        x_0: valor inicial\n",
    "        tau,N: tolerancia y numero maximo de iteraciones (descenso)\n",
    "        parametros de \n",
    "\n",
    "        NOTA:los argumentos predeterminados son específicos para este ejercicio y n=2\n",
    "    \n",
    "    returns:\n",
    "        x_k: ultimo punto de la sucesión que genera el algoritmo\n",
    "\n",
    "        \n",
    "    '''\n",
    "    n=len(x0)\n",
    "    x_k=x0\n",
    "\n",
    "    f_k=f(x_k)\n",
    "    df_k=df(x_k)\n",
    "\n",
    "\n",
    "    for k in range(max_iter):\n",
    "        #calculmos pk y ak\n",
    "        p_k=-df_k\n",
    "        a_k,i,ind=backtracking(alpha_ini,x_k,f,f_k,df,p_k)\n",
    "   \n",
    "        if not ind:\n",
    "            print('Insuficientes iteraciones Backtracking', a_k)\n",
    "\n",
    "        x_k=x_k+(a_k*p_k)\n",
    "        \n",
    "\n",
    "        if np.linalg.norm(a_k*p_k)<tau:#si se cumple la cond\n",
    "            break #y romepos el ciclo\n",
    "\n",
    "        f_k=f(x_k)\n",
    "        df_k=df(x_k)\n",
    "\n",
    "        \n",
    "    \n",
    "    print(\"Iteraciones: \",k)\n",
    "    return x_k"
   ]
  },
  {
   "cell_type": "markdown",
   "metadata": {},
   "source": [
    "4. Pruebe el algoritmo de optimización usando $\\mathbf{w}_0=(1,1,...,1)$,  el\n",
    "   número de iteraciones máximas $N=500$, la tolerancia para terminar el algoritmo\n",
    "   $\\tau = \\sqrt{ntrain}\\epsilon_m^{1/3}$ y para el algoritmo de backtracking\n",
    "   $\\rho = 0.5, c_1 = 0.001$ $N_b=500$.\n",
    "   "
   ]
  },
  {
   "cell_type": "code",
   "execution_count": 83,
   "metadata": {},
   "outputs": [
    {
     "data": {
      "text/plain": [
       "14"
      ]
     },
     "execution_count": 83,
     "metadata": {},
     "output_type": "execute_result"
    }
   ],
   "source": [
    "len(X_train[0])"
   ]
  },
  {
   "cell_type": "markdown",
   "metadata": {},
   "source": [
    "$\\lambda=0.001$"
   ]
  },
  {
   "cell_type": "code",
   "execution_count": 84,
   "metadata": {},
   "outputs": [
    {
     "name": "stdout",
     "output_type": "stream",
     "text": [
      "Iteraciones:  33\n"
     ]
    }
   ],
   "source": [
    "n=len(X_train[0])\n",
    "w0 = np.ones(n)\n",
    "l = 0.001\n",
    "tol = np.sqrt(n)*(epsilon**(1/3))\n",
    "\n",
    "w =descenso_maximo_backtracking(lambda w: L(X_train, y_train, w,l), lambda w: D_L( X_train, y_train,w, l), w0,1, tol)\n",
    "\n"
   ]
  },
  {
   "cell_type": "code",
   "execution_count": 87,
   "metadata": {},
   "outputs": [
    {
     "data": {
      "text/plain": [
       "array([ 0.11145807, -0.06877469, -0.9333905 ,  0.85046155, -0.20271416,\n",
       "       -0.28170029, -0.1497635 ,  0.09650942,  0.53729735, -0.49273852,\n",
       "       -0.69145085,  0.12941124, -0.93948782, -0.48498889])"
      ]
     },
     "execution_count": 87,
     "metadata": {},
     "output_type": "execute_result"
    }
   ],
   "source": [
    "#el vector w, obtenido\n",
    "w"
   ]
  },
  {
   "cell_type": "code",
   "execution_count": 81,
   "metadata": {},
   "outputs": [],
   "source": [
    "y_predict = predict(X_test, w)"
   ]
  },
  {
   "cell_type": "code",
   "execution_count": 86,
   "metadata": {},
   "outputs": [
    {
     "name": "stdout",
     "output_type": "stream",
     "text": [
      "\n",
      "Accuracy: 0.8524590163934426 \n",
      "\n"
     ]
    },
    {
     "data": {
      "text/plain": [
       "<sklearn.metrics._plot.confusion_matrix.ConfusionMatrixDisplay at 0x14af0aa90>"
      ]
     },
     "execution_count": 86,
     "metadata": {},
     "output_type": "execute_result"
    },
    {
     "data": {
      "image/png": "[encoded data removed]",
      "text/plain": [
       "<Figure size 640x480 with 2 Axes>"
      ]
     },
     "metadata": {},
     "output_type": "display_data"
    }
   ],
   "source": [
    "conf_matrix = confusion_matrix(y_test, y_predict)\n",
    "acc_score = accuracy_score(y_test, y_predict)\n",
    "print(\"\\nAccuracy:\", acc_score,'\\n')\n",
    "\n",
    "disp = ConfusionMatrixDisplay(confusion_matrix=conf_matrix,\n",
    "                              display_labels=model.classes_)\n",
    "disp.plot()"
   ]
  },
  {
   "cell_type": "markdown",
   "metadata": {},
   "source": [
    "$\\lambda=1.0$"
   ]
  },
  {
   "cell_type": "code",
   "execution_count": 88,
   "metadata": {},
   "outputs": [
    {
     "name": "stdout",
     "output_type": "stream",
     "text": [
      "Iteraciones:  36\n"
     ]
    }
   ],
   "source": [
    "n=len(X_train[0])\n",
    "w0 = np.ones(n)\n",
    "l = 1.0\n",
    "tol = np.sqrt(n)*(epsilon**(1.0/3.0))\n",
    "\n",
    "w =descenso_maximo_backtracking(lambda w: L(X_train, y_train, w,l), lambda w: D_L( X_train, y_train,w, l), w0,1, tol)\n"
   ]
  },
  {
   "cell_type": "code",
   "execution_count": 89,
   "metadata": {},
   "outputs": [
    {
     "data": {
      "text/plain": [
       "array([ 0.11473076, -0.07510326, -0.86333463,  0.79656058, -0.19297139,\n",
       "       -0.24737634, -0.13382403,  0.09216929,  0.50578837, -0.4786865 ,\n",
       "       -0.64593817,  0.13433682, -0.88456275, -0.45989822])"
      ]
     },
     "execution_count": 89,
     "metadata": {},
     "output_type": "execute_result"
    }
   ],
   "source": [
    "#el vector w, obtenido\n",
    "w"
   ]
  },
  {
   "cell_type": "code",
   "execution_count": 90,
   "metadata": {},
   "outputs": [],
   "source": [
    "y_predict = predict(X_test, w)"
   ]
  },
  {
   "cell_type": "code",
   "execution_count": 91,
   "metadata": {},
   "outputs": [
    {
     "name": "stdout",
     "output_type": "stream",
     "text": [
      "\n",
      "Accuracy: 0.8360655737704918 \n",
      "\n"
     ]
    },
    {
     "data": {
      "text/plain": [
       "<sklearn.metrics._plot.confusion_matrix.ConfusionMatrixDisplay at 0x14b194b90>"
      ]
     },
     "execution_count": 91,
     "metadata": {},
     "output_type": "execute_result"
    },
    {
     "data": {
      "image/png": "[encoded data removed]",
      "text/plain": [
       "<Figure size 640x480 with 2 Axes>"
      ]
     },
     "metadata": {},
     "output_type": "display_data"
    }
   ],
   "source": [
    "conf_matrix = confusion_matrix(y_test, y_predict)\n",
    "acc_score = accuracy_score(y_test, y_predict)\n",
    "print(\"\\nAccuracy:\", acc_score,'\\n')\n",
    "\n",
    "disp = ConfusionMatrixDisplay(confusion_matrix=conf_matrix,\n",
    "                              display_labels=model.classes_)\n",
    "disp.plot()"
   ]
  },
  {
   "cell_type": "markdown",
   "metadata": {},
   "source": [
    "$\\color{purple}{Ejercicio \\space 2}$ <br>"
   ]
  },
  {
   "cell_type": "code",
   "execution_count": 3,
   "metadata": {},
   "outputs": [
    {
     "data": {
      "text/plain": [
       "[<matplotlib.lines.Line2D at 0x14fdccb50>]"
      ]
     },
     "execution_count": 3,
     "metadata": {},
     "output_type": "execute_result"
    },
    {
     "data": {
      "image/png": "[encoded data removed]",
      "text/plain": [
       "<Figure size 640x480 with 1 Axes>"
      ]
     },
     "metadata": {},
     "output_type": "display_data"
    }
   ],
   "source": [
    "def fnc_h(t, N_max, r, t0):\n",
    "    return N_max / (1 + np.exp(-r * (t - t0)))\n",
    "\n",
    "m = 500\n",
    "rnd_scale = 5e2\n",
    "params_hat = (N_max_hat, r_hat, t0_hat) = (1e4, 0.1, 5)\n",
    "T = np.linspace(0, 100, m)\n",
    "np.random.seed()\n",
    "Y = fnc_h(T, *params_hat) + rnd_scale * np.random.randn(m)\n",
    "\n",
    "plt.plot(T, Y, 'o', markersize=2)\n",
    "plt.plot(T, fnc_h(T, *params_hat), 'r')"
   ]
  },
  {
   "cell_type": "markdown",
   "metadata": {},
   "source": [
    "1. Programe el método de Gauss-Newton de acuerdo con Algoritmo 1 de la Clase 26.\n",
    "   Haga que la función devuelva el último punto $\\mathbf{z}_k$,\n",
    "   el vector $\\mathbf{p}_k$ y el número de iteraciones $k$ realizadas.\n",
    "\n"
   ]
  },
  {
   "cell_type": "code",
   "execution_count": 12,
   "metadata": {},
   "outputs": [],
   "source": [
    "def backtracking1(alpha_ini,x_k,f,f_k,df_k,p_k,rho=0.5,c=0.001,iter_max=500):\n",
    "\n",
    "    '''\n",
    "        modificamos ligeramente el backtracking anterior\n",
    "        para no utilizar Df como función y usar Df_k \n",
    "    '''\n",
    "\n",
    "    alpha=alpha_ini #fijamos alpha como el alpha inicial\n",
    "    for i in range(iter_max):\n",
    "      # condicion de descenso suficiente\n",
    "        if f(x_k+alpha*p_k)<= f(x_k) + c*alpha*(np.dot(df_k, p_k)):\n",
    "          return alpha\n",
    "        alpha=rho*alpha#si no se cumple la cond, hacemos alpha*rho     \n",
    "    return  alpha\n",
    "\n",
    "# Método de Gauss-Newton\n",
    "def gauss_newton(f, R, J, x0,alpha_ini,tol,max_iter=1000):\n",
    "  \n",
    "  x_k = x0\n",
    "  alpha_k = alpha_ini\n",
    "\n",
    "  for k in range(max_iter):\n",
    "    R_k = R(x_k)\n",
    "    J_k = J(x_k)\n",
    "\n",
    "    f_k = f(x_k)\n",
    "    df_k = (J_k.T)@R_k\n",
    "    p_k = np.linalg.solve((J_k.T)@J_k, -df_k)\n",
    "\n",
    "    if np.linalg.norm(p_k) < tol:\n",
    "      return x_k, f_k,p_k, k+1, True\n",
    "    \n",
    "    alpha_k = backtracking1(alpha_ini,x_k,f,f_k,df_k,p_k)\n",
    "\n",
    "    x_k = x_k + alpha_k*p_k\n",
    "\n",
    "\n",
    "  return x_k,f_k, p_k, max_iter, False"
   ]
  },
  {
   "cell_type": "markdown",
   "metadata": {},
   "source": [
    "2. Programe las funciones  $\\mathbf{R}(\\mathbf{z})$, $f(\\mathbf{z})$ y\n",
    "   la función que calcula matriz Jacobiana $\\mathbf{J}(\\mathbf{z})$ de $\\mathbf{R}(\\mathbf{z})$\n",
    "   para el modelo $h(t_i; N_{max}, r, t_0)$.\n"
   ]
  },
  {
   "cell_type": "code",
   "execution_count": 9,
   "metadata": {},
   "outputs": [],
   "source": [
    "def R(z, T, Y):\n",
    "  n = len(T)\n",
    "  #inicializamos en ceros\n",
    "  r = np.zeros(n)\n",
    "  for i in range(n): \n",
    "    r[i] = fnc_h(T[i], z[0], z[1], z[2]) - Y[i]\n",
    "  return r\n",
    "\n",
    "def J(z, T):\n",
    "  #inicializamos en ceros\n",
    "  jacobiana = np.zeros([len(T), 3]) \n",
    "  #rellenamos \n",
    "  for i in range(len(T)):\n",
    "    e = np.exp(-z[1]*(T[i]-z[1]))\n",
    "    jacobiana[i][0]=1/(1+e)\n",
    "    jacobiana[i][1]=z[0]*(T[i]-z[1])*e/(1+e)**2\n",
    "    jacobiana[i][2]=-z[0]*z[1]*e/(1+e)**2\n",
    "  return jacobiana\n",
    "\n",
    "def f(z, T, Y): \n",
    "  r = R(z, T, Y)\n",
    "  return np.dot(r, r)/2.0"
   ]
  },
  {
   "cell_type": "markdown",
   "metadata": {},
   "source": [
    "3. Aplique el método de Gauss-Newton partiendo del punto inicial\n",
    "   $\\mathbf{z}_0 = (1000, 0.2, 0)$, una tolerancia $\\tau=\\epsilon_m^{1/3}$\n",
    "   \n",
    "   Imprima el punto $\\mathbf{z}_k$ que devuelve el algoritmo, el valor\n",
    "   $f(\\mathbf{z}_k)$, el número de iteraciones $k$ realizadas y la norma de $\\mathbf{p}_k$.\n",
    "   \n"
   ]
  },
  {
   "cell_type": "code",
   "execution_count": 13,
   "metadata": {},
   "outputs": [
    {
     "name": "stdout",
     "output_type": "stream",
     "text": [
      "z_k=  [9.76883824e+03 2.90460075e-01 4.00969877e+01]\n",
      "f(x_0) =  5481385729.759441\n",
      "Número de iteraciones =  1000\n",
      "Norma del p ||pk||   =  2731.428471331816\n"
     ]
    }
   ],
   "source": [
    "z0 = np.array([1000.0, 0.2, 0.0])\n",
    "tol = epsilon**(1/3)\n",
    "alpha_ini=1\n",
    "argumentos=[lambda z: f(z, T, Y), lambda z: R(z, T, Y), lambda z: J(z, T), z0,alpha_ini,tol]\n",
    "z1=imprime(gauss_newton,argumentos)"
   ]
  },
  {
   "cell_type": "markdown",
   "metadata": {},
   "source": [
    "\n",
    "   \n",
    "4. Grafique los datos y la curva del modelo usando los valores del punto inicial\n",
    "   $\\mathbf{z}_0$ y del punto $\\mathbf{z}_k$ que devuelve el algoritmo, como lo hicieron en\n",
    "   la ayudantía."
   ]
  },
  {
   "cell_type": "code",
   "execution_count": 14,
   "metadata": {},
   "outputs": [
    {
     "data": {
      "text/plain": [
       "[]"
      ]
     },
     "execution_count": 14,
     "metadata": {},
     "output_type": "execute_result"
    },
    {
     "data": {
      "image/png": "[encoded data removed]",
      "text/plain": [
       "<Figure size 640x480 with 1 Axes>"
      ]
     },
     "metadata": {},
     "output_type": "display_data"
    }
   ],
   "source": [
    "plt.plot(T, Y, 'o', markersize=2)\n",
    "plt.plot(T, fnc_h(T, z1[0], z1[1], z1[2]),'r')\n",
    "plt.grid()\n",
    "plt.plot()"
   ]
  },
  {
   "cell_type": "markdown",
   "metadata": {},
   "source": [
    "No sé porque mi algoritmo no converge a la solución, revisé todo varias veces y creo que está bien. Traté moviendo algunos parámetros pero no se acerca lo suficiente :(\n",
    "\n",
    "No se queda muy lejos, pero aunque aumente el numero de iteraciones queda igual,l aunqur está cerca del valor con que se generaron los datos z_sol=[$9.6\\times10^3$,$0.2$,$3.6$]"
   ]
  },
  {
   "cell_type": "markdown",
   "metadata": {},
   "source": []
  }
 ],
 "metadata": {
  "kernelspec": {
   "display_name": "Python 3",
   "language": "python",
   "name": "python3"
  },
  "language_info": {
   "codemirror_mode": {
    "name": "ipython",
    "version": 3
   },
   "file_extension": ".py",
   "mimetype": "text/x-python",
   "name": "python",
   "nbconvert_exporter": "python",
   "pygments_lexer": "ipython3",
   "version": "3.11.7"
  }
 },
 "nbformat": 4,
 "nbformat_minor": 2
}
