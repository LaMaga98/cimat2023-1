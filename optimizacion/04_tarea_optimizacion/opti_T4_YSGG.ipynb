{
 "cells": [
  {
   "cell_type": "markdown",
   "metadata": {},
   "source": [
    "$$\\textbf{Optimización I. Tarea 4}$$\n",
    "$$\\textit{Y. Sarahi García Gozález}$$"
   ]
  },
  {
   "cell_type": "markdown",
   "metadata": {},
   "source": [
    "$\\color{purple}{Librerías \\space }$ <br>"
   ]
  },
  {
   "cell_type": "code",
   "execution_count": 1,
   "metadata": {},
   "outputs": [],
   "source": [
    "import numpy as np\n",
    "import matplotlib.pyplot as plt\n",
    "from numpy.linalg import norm\n",
    "from math import sqrt"
   ]
  },
  {
   "cell_type": "code",
   "execution_count": 2,
   "metadata": {},
   "outputs": [
    {
     "name": "stdout",
     "output_type": "stream",
     "text": [
      "Tarea realizada en MacOs. \n",
      "Las versiones de las librerías y de python utilizadas fueron:\n",
      "\n",
      "Python version 3.11.7\n",
      "Numpy version 1.26.3\n"
     ]
    }
   ],
   "source": [
    "print(\"Tarea realizada en MacOs. \\nLas versiones de las librerías y de python utilizadas fueron:\\n\")\n",
    "from platform import python_version\n",
    "print(\"Python version\", python_version())\n",
    "print(\"Numpy version\", np.__version__)"
   ]
  },
  {
   "cell_type": "code",
   "execution_count": 3,
   "metadata": {},
   "outputs": [
    {
     "name": "stdout",
     "output_type": "stream",
     "text": [
      "Epsilon de la máquina: 2.220446049250313e-16\n"
     ]
    }
   ],
   "source": [
    "#imprimimos el epsilon de la máquina\n",
    "epsilon = np.finfo(float).eps\n",
    "print(\"Epsilon de la máquina:\", epsilon)"
   ]
  },
  {
   "cell_type": "markdown",
   "metadata": {},
   "source": [
    "$\\color{purple}{Ejercicio \\space 1}$ <br>"
   ]
  },
  {
   "cell_type": "markdown",
   "metadata": {},
   "source": [
    "**Función de Himmelblau:** Para $\\mathbf{x}=(x_1,x_2)$\n",
    "\n",
    "$$ f(\\mathbf{x}) = (x_1^2 + x_2 - 11)^2 + (x_1 + x_2^2 - 7)^2. $$\n",
    "\n",
    "Derivadas de primer orden:\n",
    "$$\\frac{d}{dx_1} f = 2 \\left( 2x_1^3 + (2x_2 - 21)x_1 + x_2^2 - 7 \\right)\n",
    "$$\n",
    "\n",
    "$$\\frac{d}{dx_2} f = 2 \\left( x_1^2 + x_2 + 2x_2(x_2^2 + x_1 - 7) - 11 \\right)\n",
    "$$\n",
    "Derivadas de segundo orden:\n",
    "\n",
    "$$\\frac{d^2 }{dx^2_1}f= 12x_1^2 + 4x_2-42$$\n",
    "\n",
    "$$\\frac{d^2 }{dx^2_2}f= 12x_2^2 +4x_1 - 26$$\n",
    "\n",
    "$$\\frac{d^2 }{dx_1x_2}f=\\frac{d^2 }{dx_2x_1}f= 4(x_1+x_2)$$\n",
    "\n",
    "Hessiana:\n",
    "\\begin{align*}\n",
    "\\nabla^2 f(\\mathbf{x}) &= \\begin{bmatrix}\n",
    "12x_1^2 + 4x_2-42&  & 4x_1 + 4x_2 \\\\\n",
    "4x_1 + 4x_2 &  & 12x_2^2 +4x_1 - 26\n",
    "\\end{bmatrix}\n",
    "\\end{align*}"
   ]
  },
  {
   "cell_type": "code",
   "execution_count": 3,
   "metadata": {},
   "outputs": [],
   "source": [
    "def Himmelblau(x):\n",
    "    x1=x[0]\n",
    "    x2=x[1]\n",
    "    return (x1**2 + x2 - 11)**2 + (x1 + x2**2 - 7)**2\n",
    "\n",
    "\n",
    "def D_Himmelblau(x):\n",
    "    x1=x[0]\n",
    "    x2=x[1]\n",
    "    gx = 4*x1*(x1**2 + x2 - 11) + 2*(x1 + x2**2 - 7)\n",
    "    gy = 2*(x1**2 + x2 - 11) + 4*x2*(x1 + x2**2 - 7)\n",
    "    return np.array([gx, gy])\n",
    "\n",
    "def H_Himmelblau(x):\n",
    "    x1=x[0]\n",
    "    x2=x[1]\n",
    "    hessiana = np.array([[12*(x1**2) + 4*x2 - 42, 4*x1 + 4*x2],\n",
    "                         [4*x1 + 4*x2, 12*(x2**2) + 4*x1 - 26]])\n",
    "    return hessiana\n"
   ]
  },
  {
   "cell_type": "markdown",
   "metadata": {},
   "source": [
    "**Función de Beale :** Para $\\mathbf{x}=(x_1,x_2)$\n",
    "\n",
    "$$ f(\\mathbf{x}) = (1.5-x_1 + x_1x_2)^2 + (2.25 - x_1 + x_1x_2^2)^2 + (2.625 - x_1 + x_1x_2^3)^2.$$\n",
    "\n",
    "\n",
    "Derivadas de primer orden:\n",
    "\n",
    "$$\\frac{d}{dx_1} f = 5.25x_2^3 + 4.5x_2^2 + 3x_2 + 2x_1(x_2^6 + x_2^4 - 2x_2^3 - x_2^2 - 2x_2 + 3) - 12.75\n",
    "$$\n",
    "$$\\frac{d}{dx_2} f = x_1 \\left(15.75x_2^2 + 9x_2 + x_1(6x_2^5 + x_2^3 - x_2^2 - 2x_2 - 2) + 3\\right)\n",
    "$$\n",
    "\n",
    "Derivadas de segudo orden\n",
    "\n",
    "$$\\frac{d^2}{dx^2_1} f= 2(x_2^6 + x_2^4 - 2x_2^3 - x_2^2 - 2x_2 + 3)\n",
    "$$\n",
    "\n",
    "$$\\frac{d^2}{dx^2_2} f= x_1 \\left( 31.5x_2 + x_1(30x_2^4 + 3x_2^2 - 2x_2 - 2) + 9 \\right)\n",
    "$$\n",
    "\n",
    "$$\\frac{d^2}{dx_1x_2} =15.75x_2^2 + 9x_2 + 4x_1(3x_2^5 + 2x_2^3 - 3x_2^2 - x_2 - 1) + 3\n",
    "\n",
    "$$\n",
    "\n",
    "\n",
    "\n",
    "Hessiana\n",
    "\\begin{align*}\n",
    "\\nabla^2 f(\\mathbf{x}) &= \\begin{bmatrix}\n",
    "2(x_2^6 + x_2^4 - 2x_2^3 - x_2^2 - 2x_2 + 3) & | & 15.75x_2^2 + 9x_2 + 4x_1(3x_2^5 + 2x_2^3 - 3x_2^2 - x_2 - 1) + 3 \\\\\n",
    "15.75x_2^2 + 9x_2 + 4x_1(3x_2^5 + 2x_2^3 - 3x_2^2 - x_2 - 1) + 3 & | & x_1\\left( 31.5x_2 + x_1(30x_2^4 + 3x_2^2 - 2x_2 - 2) + 9 \\right)(x_1x_2^2 - x_1 + 2.25)\n",
    "\\end{bmatrix}\n",
    "\\end{align*}\n"
   ]
  },
  {
   "cell_type": "code",
   "execution_count": 5,
   "metadata": {},
   "outputs": [],
   "source": [
    "\n",
    "def Beale(x):\n",
    "    x1=x[0]\n",
    "    x2=x[1]\n",
    "    return (1.5 - x1 + x1*x2)**2 + (2.25 - x1 + x1*(x2**2))**2 + (2.625 - x1 + x1*(x2**3))**2\n",
    "\n",
    "def D_Beale(x):\n",
    "    x1=x[0]\n",
    "    x2=x[1]    \n",
    "    Partial_Beale_dx1 = 2*(1.5 - x1 + x1*x2)*(-1 + x2) + 2*(2.25 - x1 + x1*(x2**2))*(-1 + x2**2) + 2*(2.625 - x1 + x1*(x2**3))*(-1 + x2**3)\n",
    "    Partial_Beale_dx2 = 2*(1.5 - (x[0]) + (x[0])*(x[1]))*((x[0])) + 2*(2.25 - (x[0]) + (x[0])*(x[1])**2)*(2*(x[0])*(x[1])) + 2*(2.625 - (x[0]) + (x[0])*(x[1])**3)*(3*(x[0])*(x[1])**2)\n",
    "    return np.array([Partial_Beale_dx1, Partial_Beale_dx2])\n",
    "\n",
    "def H_Beale(x):\n",
    "    x1=x[0]\n",
    "    x2=x[1] \n",
    "    d_x1x1 = 2 * (x2**6 + x2**4 - 2*x2**3 - x2**2 - 2*x2 + 3)\n",
    "    d_x2x2 = x1 * (31.5*x2 + x1*(30*x2**4 + 3*x2**2 - 2*x2 - 2) + 9)\n",
    "    d_x1x2 = 15.75*x2**2 + 9*x2 + 4*x1*(3*x2**5 + 2*x2**3 - 3*x2**2 - x2 - 1) + 3\n",
    "    return [[d_x1x1, d_x1x2], [d_x1x2, d_x2x2]]"
   ]
  },
  {
   "cell_type": "markdown",
   "metadata": {},
   "source": [
    "**Función de Rosenbrock:** Para $\\mathbf{x}=(x_1,x_2, ..., x_n)$\n",
    "\n",
    "$$ f(\\mathbf{x}) = \\sum_{i=1}^{n-1} \\left[100(x_{i+1} - x_i^2)^2 + (1-x_i)^2 \\right]\n",
    "\\quad n\\geq 2.$$\n",
    "\n"
   ]
  },
  {
   "cell_type": "code",
   "execution_count": 6,
   "metadata": {},
   "outputs": [],
   "source": [
    "\n",
    "def Rosenbrock(x):\n",
    "    n = len(x)\n",
    "    suma = 0\n",
    "    for i in range(n-1):\n",
    "        suma += 100 * (x[i+1] - x[i]**2)**2 + (1 - x[i])**2\n",
    "    return suma\n",
    "\n",
    "def D_Rosenbrock(x):\n",
    "    n = len(x)\n",
    "    gradient = np.zeros(n)\n",
    "    for i in range(n-1):\n",
    "        gradient[i] += -400 * x[i] * (x[i+1] - x[i]**2) - 2 * (1 - x[i])\n",
    "        gradient[i+1] += 200 * (x[i+1] - x[i]**2)\n",
    "    return gradient\n",
    "\n",
    "import numpy as np\n",
    "\n",
    "def H_Rosenbrock(x):\n",
    "    n = len(x)\n",
    "    hessian = np.zeros((n, n))\n",
    "    for i in range(n - 1):\n",
    "        hessian[i, i] += 1200 * x[i]**2 - 400 * x[i + 1] + 2\n",
    "        hessian[i, i + 1] += -400 * x[i]\n",
    "        hessian[i + 1, i] += -400 * x[i]\n",
    "        hessian[i + 1, i + 1] += 200\n",
    "    return hessian\n",
    "\n"
   ]
  },
  {
   "cell_type": "markdown",
   "metadata": {},
   "source": [
    "$\\color{purple}{Ejercicio \\space 2}$ <br>"
   ]
  },
  {
   "cell_type": "code",
   "execution_count": null,
   "metadata": {},
   "outputs": [],
   "source": [
    "def newton_simple():\n",
    "\n",
    "    \n",
    "\n",
    "    \n",
    "    return 0;"
   ]
  },
  {
   "cell_type": "markdown",
   "metadata": {},
   "source": [
    "$\\color{purple}{Ejercicio \\space 3}$ <br>"
   ]
  },
  {
   "cell_type": "code",
   "execution_count": null,
   "metadata": {},
   "outputs": [],
   "source": [
    "def newton_damped():\n",
    "\n",
    "    \n",
    "    return 0;"
   ]
  },
  {
   "cell_type": "markdown",
   "metadata": {},
   "source": [
    "$\\color{purple}{Ejercicio \\space 4}$ <br>"
   ]
  },
  {
   "cell_type": "code",
   "execution_count": null,
   "metadata": {},
   "outputs": [],
   "source": [
    "def newton_hessian_modification():\n",
    "    \n",
    "\n",
    "    return 0;"
   ]
  }
 ],
 "metadata": {
  "kernelspec": {
   "display_name": "Python 3",
   "language": "python",
   "name": "python3"
  },
  "language_info": {
   "codemirror_mode": {
    "name": "ipython",
    "version": 3
   },
   "file_extension": ".py",
   "mimetype": "text/x-python",
   "name": "python",
   "nbconvert_exporter": "python",
   "pygments_lexer": "ipython3",
   "version": "3.11.7"
  }
 },
 "nbformat": 4,
 "nbformat_minor": 2
}
