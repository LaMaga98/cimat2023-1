{
 "cells": [
  {
   "cell_type": "markdown",
   "metadata": {},
   "source": [
    "$$\\textbf{Optimización I. Tarea 6}$$\n",
    "$$\\textit{Y. Sarahi García Gozález}$$"
   ]
  },
  {
   "cell_type": "markdown",
   "metadata": {},
   "source": [
    "$\\color{purple}{Librerías \\space }$ <br>"
   ]
  },
  {
   "cell_type": "code",
   "execution_count": 26,
   "metadata": {},
   "outputs": [],
   "source": [
    "import numpy as np\n",
    "import matplotlib.pyplot as plt\n",
    "import functions as fn #libreria con las funciones Himmelblau,Beale,Rosenbrock,Hartman\n",
    "from math import exp"
   ]
  },
  {
   "cell_type": "code",
   "execution_count": 2,
   "metadata": {},
   "outputs": [
    {
     "name": "stdout",
     "output_type": "stream",
     "text": [
      "Tarea realizada en MacOs. \n",
      "Las versiones de las librerías y de python utilizadas fueron:\n",
      "\n",
      "Python version 3.11.7\n",
      "Numpy version 1.26.3\n"
     ]
    }
   ],
   "source": [
    "print(\"Tarea realizada en MacOs. \\nLas versiones de las librerías y de python utilizadas fueron:\\n\")\n",
    "from platform import python_version\n",
    "print(\"Python version\", python_version())\n",
    "print(\"Numpy version\", np.__version__)"
   ]
  },
  {
   "cell_type": "code",
   "execution_count": 3,
   "metadata": {},
   "outputs": [
    {
     "name": "stdout",
     "output_type": "stream",
     "text": [
      "Epsilon de la máquina: 2.220446049250313e-16\n"
     ]
    }
   ],
   "source": [
    "#imprimimos el epsilon de la máquina\n",
    "epsilon = np.finfo(float).eps\n",
    "print(\"Epsilon de la máquina:\", epsilon)"
   ]
  },
  {
   "cell_type": "code",
   "execution_count": 4,
   "metadata": {},
   "outputs": [],
   "source": [
    "#definicion de funcion para para las graficas dee los contornos\n",
    "\n",
    "def contornosFnc2D(fncf, puntos, xleft, xright, ybottom, ytop, levels):\n",
    "    # Crea una discretización uniforme del intervalo [xleft, xright]\n",
    "    ax = np.linspace(xleft, xright, 250)\n",
    "    # Crea una discretización uniforme del intervalo [ybottom, ytop]\n",
    "    ay = np.linspace(ybottom, ytop, 200)\n",
    "    # La matriz mX que tiene las abscisas \n",
    "    mX, mY = np.meshgrid(ax, ay)\n",
    "    # Se crea el arreglo mZ con los valores de la función en cada nodo\n",
    "    mZ = mX.copy()\n",
    "    for i, y in enumerate(ay):\n",
    "        for j, x in enumerate(ax):\n",
    "            mZ[i,j] = fncf(np.array([x, y]))\n",
    "    # Grafica de las curvas de nivel\n",
    "    fig, ax = plt.subplots()\n",
    "    CS = ax.contourf(mX, mY, mZ, levels, cmap='coolwarm')\n",
    "    plt.colorbar(CS, ax=ax)\n",
    "    # Grafica los puntos dados\n",
    "    puntos_x = [p[0] for p in puntos]\n",
    "    puntos_y = [p[1] for p in puntos]\n",
    "    ax.plot(puntos_x, puntos_y, 'r-',label=\"Sucesión\")\n",
    "    ax.plot(puntos_x[0], puntos_y[0], 'g*',label=\"punto inicial\")\n",
    "    ax.plot(puntos_x[-1], puntos_y[-1], 'b*',label=\"mínimo encontrado\")\n",
    "     # Grafica los puntos como puntos rojos\n",
    "    ax.set_xlabel('x1')\n",
    "    ax.set_ylabel('x2')\n",
    "    ax.set_title('Contornos de la función sucesión')\n",
    "    plt.legend()\n",
    "    plt.show()"
   ]
  },
  {
   "cell_type": "code",
   "execution_count": 5,
   "metadata": {},
   "outputs": [],
   "source": [
    "def imprime(f,D_f,metodo,metodo_args):\n",
    "\n",
    "    '''\n",
    "    Esta función imprime el número de iteraciones y el punto de convergencia del método de optimizacion \n",
    "    \"metodo\" que se aplica a la funcion f. Además imrpime f y la norma de su gradiente evaluadas en \n",
    "    el punto de convergencia de metodo.\n",
    "\n",
    "    En el caso de que la funcion f sea de R2 a R, imprime sus contornos de nivel y la sucesion\n",
    "    de puntos generada por metodo.\n",
    "    '''\n",
    "\n",
    "    xk, indicador, k,m = metodo(*metodo_args)\n",
    "\n",
    "    print('It = ', k)\n",
    "    print('x_k       = ', xk)\n",
    "    print('f(x_k)    = ', f(xk))\n",
    "    print('||gk||   = ', np.linalg.norm(D_f(xk)))\n",
    "\n",
    "\n",
    "    if(indicador):\n",
    "        print(\"Sí se cumplio el criterio de convergencia\")\n",
    "    if m is not None:\n",
    "        # Usamos list comprehension para crear la lista de puntos\n",
    "        sucesion = [[fila[0], fila[1]] for fila in m[:k]]\n",
    "\n",
    "        contornosFnc2D(f, sucesion,xleft=-5.5, xright=5.5, ybottom=-5.5, ytop=5.5,\n",
    "                   levels=[0.5, 5, 10, 25, 50, 100, 150, 250, 400])"
   ]
  },
  {
   "cell_type": "code",
   "execution_count": 6,
   "metadata": {},
   "outputs": [],
   "source": [
    "def imprime_1(metodo,metodo_args):\n",
    "\n",
    "    '''\n",
    "    Esta función imprime:\n",
    "    - la dimensión $n$,\n",
    "    - el  número $k$ de iteraciones realizadas,\n",
    "    - las primeras y últimas 4 entradas del punto $\\mathbf{x}_k$ que devuelve el algoritmo,\n",
    "    - la norma del r_k, \n",
    "    - la variable $bres$ para saber si el algoritmo puedo converger.\n",
    "\n",
    "    '''\n",
    "\n",
    "    n,xk,rk,k,indicador= metodo(*metodo_args)\n",
    "\n",
    "    \n",
    "    print('Dimensión de A = ', n )\n",
    "    print('Número de iteraciones = ', k )\n",
    "    print('Primeras cuatro entradas de x_k= ', xk[:4])\n",
    "    print('Últimas cuatro entradas de x_k= ', xk[-4:])\n",
    "    print('Norma residual ||rk||   = ', np.linalg.norm(rk))\n",
    "\n",
    "\n",
    "    if(indicador):\n",
    "        print(\"Sí se cumplio el criterio de convergencia\")\n"
   ]
  },
  {
   "cell_type": "code",
   "execution_count": 70,
   "metadata": {},
   "outputs": [],
   "source": [
    "def imprime_2(f,n,x0,metodo,metodo_args):\n",
    "\n",
    "    '''\n",
    "    Esta función imprime:\n",
    "    - el último punto  $x_k$,\n",
    "    - el gradiente evaluado en el último punto  $x_k$,\n",
    "    - el  número $k$ de iteraciones realizadas,\n",
    "    - número de veces que se aplica el reinicio\n",
    "    - la variable $bres$ para saber si el algoritmo puedo converger.\n",
    "\n",
    "    '''\n",
    "\n",
    "    xk,gk,k,br,indicador= metodo(*metodo_args)\n",
    "    print('Dimensión de x0, n = ',n)\n",
    "    print('f(x_0) = ',f(x0))\n",
    "    print('Número de iteraciones = ', k ) \n",
    "    print('f(x_k)= ', f(xk))\n",
    "    if n==2:\n",
    "        print('x_k= ', xk)\n",
    "    else:\n",
    "        print('Primeras cuatro entradas de x_k= ', xk[:4])\n",
    "        print('Últimas cuatro entradas de x_k= ', xk[-4:])\n",
    "\n",
    "    print('Norma del gradiente en x_k= ', np.linalg.norm(gk) )\n",
    "    print('Contador br = ', br)\n",
    "\n",
    "\n",
    "    if(indicador):\n",
    "        print(\"Sí se cumplio el criterio de convergencia\")"
   ]
  },
  {
   "cell_type": "markdown",
   "metadata": {},
   "source": [
    "$\\color{purple}{Ejercicio \\space 1}$ <br>"
   ]
  },
  {
   "cell_type": "code",
   "execution_count": 10,
   "metadata": {},
   "outputs": [],
   "source": [
    "def gradiente_conjugado_lineal(x_0,A,b,max_iter,tol):\n",
    "    n=np.shape(A)[0]\n",
    "    bres=False\n",
    "    r_k=(A@x_0)-b\n",
    "    p_k=-r_k\n",
    "    x_k=x_0\n",
    "    for k in range(max_iter):\n",
    "        r=np.linalg.norm(r_k)\n",
    "        if r<tol:\n",
    "            bres=True\n",
    "            return n,x_k,r_k,k,bres\n",
    "\n",
    "\n",
    "        Ap=A@p_k\n",
    "\n",
    "        alpha_k=(r**2)/(np.dot(p_k.T,Ap))  \n",
    "\n",
    "        x_k=x_k+alpha_k*p_k\n",
    "\n",
    "        r_k=r_k+alpha_k*Ap   \n",
    "\n",
    "        beta_k=np.linalg.norm(r_k)**2/(r**2)\n",
    "        \n",
    "        p_k=-r_k+beta_k*p_k\n",
    "\n",
    "    return n,x_k,r_k,k,bres"
   ]
  },
  {
   "cell_type": "markdown",
   "metadata": {},
   "source": [
    "* Pruebe el algoritmo para resolver el sistema de ecuaciones \n",
    "\n",
    "$$ \\mathbf{A}_1\\mathbf{x}=\\mathbf{b}_1$$\n",
    "\n",
    "donde\n",
    "\n",
    "$$ \\mathbf{A}_1 = n\\mathbf{I} + \\mathbf{1} = \n",
    "\\left[\\begin{array}{llll} n      & 0      & \\cdots & 0 \\\\\n",
    "                       0      & n      & \\cdots & 0 \\\\ \n",
    "                       \\vdots & \\vdots & \\ddots & \\vdots \\\\\n",
    "                       0      & 0      & \\cdots & n \\end{array}\\right]\n",
    "+ \\left[\\begin{array}{llll} 1    & 1      & \\cdots & 1 \\\\\n",
    "                       1      & 1      & \\cdots & 1 \\\\ \n",
    "                       \\vdots & \\vdots & \\ddots & \\vdots \\\\\n",
    "                       1      & 1      & \\cdots & 1 \\end{array}\\right],  \\qquad\n",
    "\\mathbf{b}_1 = \\left[\\begin{array}{l} 1 \\\\ 1 \\\\ \\vdots \\\\ 1 \\end{array}\\right], $$"
   ]
  },
  {
   "cell_type": "code",
   "execution_count": 11,
   "metadata": {},
   "outputs": [],
   "source": [
    "#definimos la funcion que genera la matriz A de acuerdo a la instrucción anterior\n",
    "def genera_A1(n):\n",
    "    return np.ones((n,n))+n*np.eye(n)\n"
   ]
  },
  {
   "cell_type": "markdown",
   "metadata": {},
   "source": [
    "$n=10$"
   ]
  },
  {
   "cell_type": "code",
   "execution_count": 12,
   "metadata": {},
   "outputs": [
    {
     "name": "stdout",
     "output_type": "stream",
     "text": [
      "Dimensión de A =  10\n",
      "Número de iteraciones =  1\n",
      "Primeras cuatro entradas de x_k=  [0.05 0.05 0.05 0.05]\n",
      "Últimas cuatro entradas de x_k=  [0.05 0.05 0.05 0.05]\n",
      "Norma residual ||rk||   =  7.021666937153402e-16\n",
      "Sí se cumplio el criterio de convergencia\n"
     ]
    }
   ],
   "source": [
    "n=10\n",
    "tau=(np.sqrt(n))*((epsilon)**(1/3))\n",
    "A=genera_A1(n)\n",
    "x0=np.zeros(n)\n",
    "b=np.ones(n)\n",
    "argumentos_GCL=[x0,A,b,n,tau]\n",
    "imprime_1(gradiente_conjugado_lineal,argumentos_GCL)"
   ]
  },
  {
   "cell_type": "markdown",
   "metadata": {},
   "source": [
    "$n=100$"
   ]
  },
  {
   "cell_type": "code",
   "execution_count": 13,
   "metadata": {},
   "outputs": [
    {
     "name": "stdout",
     "output_type": "stream",
     "text": [
      "Dimensión de A =  100\n",
      "Número de iteraciones =  1\n",
      "Primeras cuatro entradas de x_k=  [0.005 0.005 0.005 0.005]\n",
      "Últimas cuatro entradas de x_k=  [0.005 0.005 0.005 0.005]\n",
      "Norma residual ||rk||   =  0.0\n",
      "Sí se cumplio el criterio de convergencia\n"
     ]
    }
   ],
   "source": [
    "n=100\n",
    "tau=(np.sqrt(n))*((epsilon)**(1/3))\n",
    "A=genera_A1(n)\n",
    "x0=np.zeros(n)\n",
    "b=np.ones(n)\n",
    "argumentos_GCL=[x0,A,b,n,tau]\n",
    "imprime_1(gradiente_conjugado_lineal,argumentos_GCL)"
   ]
  },
  {
   "cell_type": "markdown",
   "metadata": {},
   "source": [
    "$n=1000$"
   ]
  },
  {
   "cell_type": "code",
   "execution_count": 14,
   "metadata": {},
   "outputs": [
    {
     "name": "stdout",
     "output_type": "stream",
     "text": [
      "Dimensión de A =  1000\n",
      "Número de iteraciones =  1\n",
      "Primeras cuatro entradas de x_k=  [0.0005 0.0005 0.0005 0.0005]\n",
      "Últimas cuatro entradas de x_k=  [0.0005 0.0005 0.0005 0.0005]\n",
      "Norma residual ||rk||   =  0.0\n",
      "Sí se cumplio el criterio de convergencia\n"
     ]
    }
   ],
   "source": [
    "n=1000\n",
    "tau=(np.sqrt(n))*((epsilon)**(1/3))\n",
    "A=genera_A1(n)\n",
    "x0=np.zeros(n)\n",
    "b=np.ones(n)\n",
    "argumentos_GCL=[x0,A,b,n,tau]\n",
    "imprime_1(gradiente_conjugado_lineal,argumentos_GCL)"
   ]
  },
  {
   "cell_type": "markdown",
   "metadata": {},
   "source": [
    "* También aplique el algoritmo para resolver el sistema \n",
    "\n",
    "$$ \\mathbf{A}_2\\mathbf{x}=\\mathbf{b}_2$$\n",
    "\n",
    "donde  $\\mathbf{A}_2 = [a_{ij}]$ con\n",
    "\n",
    "$$ a_{ij} = exp\\left(-0.25(i-j)^2 \\right),  \\qquad\n",
    "\\mathbf{b}_2 = \\left[\\begin{array}{l} 1 \\\\ 1 \\\\ \\vdots \\\\ 1 \\end{array}\\right] $$\n"
   ]
  },
  {
   "cell_type": "code",
   "execution_count": 15,
   "metadata": {},
   "outputs": [],
   "source": [
    "#definimos la funcion que genera la matriz A de acuerdo a la instrucción anterior\n",
    "def genera_A2(n):\n",
    "    A = np.empty([n,n], dtype=float)\n",
    "    for i in range(n):\n",
    "        for j in range(n):\n",
    "            u=0.25*((i-j)**2)\n",
    "            A[i][j]=exp(-1*u)\n",
    "    return A"
   ]
  },
  {
   "cell_type": "markdown",
   "metadata": {},
   "source": [
    "$n=10$"
   ]
  },
  {
   "cell_type": "code",
   "execution_count": 16,
   "metadata": {},
   "outputs": [
    {
     "name": "stdout",
     "output_type": "stream",
     "text": [
      "Dimensión de A =  10\n",
      "Número de iteraciones =  5\n",
      "Primeras cuatro entradas de x_k=  [ 1.36909916 -1.16637682  1.60908281 -0.61339053]\n",
      "Últimas cuatro entradas de x_k=  [-0.61339053  1.60908281 -1.16637682  1.36909916]\n",
      "Norma residual ||rk||   =  1.1100446976946785e-11\n",
      "Sí se cumplio el criterio de convergencia\n"
     ]
    }
   ],
   "source": [
    "n=10\n",
    "tau=(np.sqrt(n))*((epsilon)**(1/3))\n",
    "A=genera_A2(n)\n",
    "x0=np.zeros(n)\n",
    "b=np.ones(n)\n",
    "argumentos_GCL=[x0,A,b,n,tau]\n",
    "imprime_1(gradiente_conjugado_lineal,argumentos_GCL)"
   ]
  },
  {
   "cell_type": "markdown",
   "metadata": {},
   "source": [
    "$n=100$"
   ]
  },
  {
   "cell_type": "code",
   "execution_count": 17,
   "metadata": {},
   "outputs": [
    {
     "name": "stdout",
     "output_type": "stream",
     "text": [
      "Dimensión de A =  100\n",
      "Número de iteraciones =  99\n",
      "Primeras cuatro entradas de x_k=  [ 1.44627188 -1.41632661  2.11046439 -1.42498422]\n",
      "Últimas cuatro entradas de x_k=  [-1.42498188  2.11044446 -1.41633544  1.44629683]\n",
      "Norma residual ||rk||   =  8.691499885210018e-05\n"
     ]
    }
   ],
   "source": [
    "n=100\n",
    "tau=(np.sqrt(n))*((epsilon)**(1/3))\n",
    "A=genera_A2(n)\n",
    "x0=np.zeros(n)\n",
    "b=np.ones(n)\n",
    "argumentos_GCL=[x0,A,b,n,tau]\n",
    "imprime_1(gradiente_conjugado_lineal,argumentos_GCL)"
   ]
  },
  {
   "cell_type": "markdown",
   "metadata": {},
   "source": [
    "$n=1000$"
   ]
  },
  {
   "cell_type": "code",
   "execution_count": 18,
   "metadata": {},
   "outputs": [
    {
     "name": "stdout",
     "output_type": "stream",
     "text": [
      "Dimensión de A =  1000\n",
      "Número de iteraciones =  262\n",
      "Primeras cuatro entradas de x_k=  [ 1.44628824 -1.41635954  2.1105181  -1.42507231]\n",
      "Últimas cuatro entradas de x_k=  [-1.42507231  2.1105181  -1.41635954  1.44628824]\n",
      "Norma residual ||rk||   =  0.0001876613547018017\n",
      "Sí se cumplio el criterio de convergencia\n"
     ]
    }
   ],
   "source": [
    "n=1000\n",
    "tau=(np.sqrt(n))*((epsilon)**(1/3))\n",
    "A=genera_A2(n)\n",
    "x0=np.zeros(n)\n",
    "b=np.ones(n)\n",
    "argumentos_GCL=[x0,A,b,n,tau]\n",
    "imprime_1(gradiente_conjugado_lineal,argumentos_GCL)"
   ]
  },
  {
   "cell_type": "markdown",
   "metadata": {},
   "source": [
    "$\\color{purple}{Ejercicio \\space 2}$ <br>"
   ]
  },
  {
   "cell_type": "code",
   "execution_count": 72,
   "metadata": {},
   "outputs": [],
   "source": [
    "def backtracking(x_k, f, df, p_k, rho=0.5, iter_max=500, c1=0.001, c2=0.01,alpha_ini=1):\n",
    "\n",
    "    alpha = alpha_ini\n",
    "    \n",
    "\n",
    "    for i in range(iter_max):\n",
    "        x_kp = x_k + alpha * p_k\n",
    "        gp = np.dot(df(x_k), p_k)\n",
    "\n",
    "        # Condiciones de Wolfe\n",
    "        if f(x_kp) <= f(x_k) + c1 * alpha * gp and np.dot(df(x_kp), p_k) <= -c2 * gp:\n",
    "            return alpha, i, True\n",
    "        \n",
    "\n",
    "        alpha = alpha * rho\n",
    "\n",
    "    return alpha, i, False"
   ]
  },
  {
   "cell_type": "code",
   "execution_count": 89,
   "metadata": {},
   "outputs": [],
   "source": [
    "def gradiente_conjugado_no_lineal(x_0,f,D_f,max_iter,tol):\n",
    "    reinicios=0\n",
    "    bres=False\n",
    "    x_k=x_0\n",
    "    f_k=f(x_k)\n",
    "    g_k=D_f(x_k)\n",
    "    d_k=-g_k\n",
    "\n",
    "    for k in range(max_iter):\n",
    "        g=np.linalg.norm(g_k)\n",
    "        if g<tol:\n",
    "            bres=True\n",
    "            return x_k,g_k,k,reinicios,bres\n",
    "   \n",
    "        alpha_k,_,_=backtracking(x_k,f,D_f,d_k)\n",
    "        x_k=x_k+alpha_k*d_k\n",
    "        g_old=g_k\n",
    "        g_k=D_f(x_k)\n",
    "\n",
    "        if np.abs(np.dot(g_k,g_old))<0.2*np.dot(g_k,g_k):\n",
    "            beta_k=(np.linalg.norm(g_k)**2)/(np.linalg.norm(g_old)**2) \n",
    "        else:\n",
    "            beta_k=0\n",
    "            reinicios=reinicios+1\n",
    "            \n",
    "        d_k=-g_k+beta_k*d_k\n",
    "\n",
    "    return x_k,g_k,k,reinicios,bres"
   ]
  },
  {
   "cell_type": "markdown",
   "metadata": {},
   "source": [
    "**Función cuadrática con A1**"
   ]
  },
  {
   "cell_type": "markdown",
   "metadata": {},
   "source": [
    "$n=10$"
   ]
  },
  {
   "cell_type": "code",
   "execution_count": 101,
   "metadata": {},
   "outputs": [
    {
     "name": "stdout",
     "output_type": "stream",
     "text": [
      "Dimensión de x0, n =  10\n",
      "f(x_0) =  0.0\n",
      "Número de iteraciones =  13\n",
      "f(x_k)=  -0.24999999999789743\n",
      "Primeras cuatro entradas de x_k=  [0.04999985 0.04999985 0.04999985 0.04999985]\n",
      "Últimas cuatro entradas de x_k=  [0.04999985 0.04999985 0.04999985 0.04999985]\n",
      "Norma del gradiente en x_k=  9.17078433484245e-06\n",
      "Contador br =  13\n",
      "Sí se cumplio el criterio de convergencia\n"
     ]
    }
   ],
   "source": [
    "n=10\n",
    "tau=(np.sqrt(n))*((epsilon)**(1/3))\n",
    "A=genera_A1(n)\n",
    "b=np.ones(n)\n",
    "x0=np.zeros(n)\n",
    "#definimos la funcion cuadratica y su gradiente como inline functions\n",
    "cuadratica = lambda x: 0.5 * np.dot(x.T, np.dot(A, x)) - np.dot(b.T, x)\n",
    "D_cuadratica = lambda x: 0.5 * (np.dot(A.T, x) + np.dot(A, x)) - b\n",
    "N=5000\n",
    "argumentos_GCNL=[x0,cuadratica,D_cuadratica,N,tau]\n",
    "imprime_2(cuadratica,n,x0,gradiente_conjugado_no_lineal,argumentos_GCNL)"
   ]
  },
  {
   "cell_type": "markdown",
   "metadata": {},
   "source": [
    "$n=100$"
   ]
  },
  {
   "cell_type": "code",
   "execution_count": 103,
   "metadata": {},
   "outputs": [
    {
     "name": "stdout",
     "output_type": "stream",
     "text": [
      "Dimensión de x0, n =  100\n",
      "f(x_0) =  0.0\n",
      "Número de iteraciones =  8\n",
      "f(x_k)=  -0.24999999999312786\n",
      "Primeras cuatro entradas de x_k=  [0.00499997 0.00499997 0.00499997 0.00499997]\n",
      "Últimas cuatro entradas de x_k=  [0.00499997 0.00499997 0.00499997 0.00499997]\n",
      "Norma del gradiente en x_k=  5.2430559662752785e-05\n",
      "Contador br =  8\n",
      "Sí se cumplio el criterio de convergencia\n"
     ]
    }
   ],
   "source": [
    "n=100\n",
    "tau=(np.sqrt(n))*((epsilon)**(1/3))\n",
    "A=genera_A1(n)\n",
    "b=np.ones(n)\n",
    "x0=np.zeros(n)\n",
    "#definimos la funcion cuadratica y su gradiente como inline functions\n",
    "cuadratica = lambda x: 0.5 * np.dot(x.T, np.dot(A, x)) - np.dot(b.T, x)\n",
    "D_cuadratica = lambda x: 0.5 * (np.dot(A.T, x) + np.dot(A, x)) - b\n",
    "N=5000\n",
    "argumentos_GCNL=[x0,cuadratica,D_cuadratica,N,tau]\n",
    "imprime_2(cuadratica,n,x0,gradiente_conjugado_no_lineal,argumentos_GCNL)"
   ]
  },
  {
   "cell_type": "markdown",
   "metadata": {},
   "source": [
    "$n=1000$"
   ]
  },
  {
   "cell_type": "code",
   "execution_count": 104,
   "metadata": {},
   "outputs": [
    {
     "name": "stdout",
     "output_type": "stream",
     "text": [
      "Dimensión de x0, n =  1000\n",
      "f(x_0) =  0.0\n",
      "Número de iteraciones =  4\n",
      "f(x_k)=  -0.24999999999997527\n",
      "Primeras cuatro entradas de x_k=  [0.0005 0.0005 0.0005 0.0005]\n",
      "Últimas cuatro entradas de x_k=  [0.0005 0.0005 0.0005 0.0005]\n",
      "Norma del gradiente en x_k=  9.542125853659165e-06\n",
      "Contador br =  4\n",
      "Sí se cumplio el criterio de convergencia\n"
     ]
    }
   ],
   "source": [
    "n=1000\n",
    "tau=(np.sqrt(n))*((epsilon)**(1/3))\n",
    "A=genera_A1(n)\n",
    "b=np.ones(n)\n",
    "x0=np.zeros(n)\n",
    "#definimos la funcion cuadratica y su gradiente como inline functions\n",
    "cuadratica = lambda x: 0.5 * np.dot(x.T, np.dot(A, x)) - np.dot(b.T, x)\n",
    "D_cuadratica = lambda x: 0.5 * (np.dot(A.T, x) + np.dot(A, x)) - b\n",
    "N=5000\n",
    "argumentos_GCNL=[x0,cuadratica,D_cuadratica,N,tau]\n",
    "imprime_2(cuadratica,n,x0,gradiente_conjugado_no_lineal,argumentos_GCNL)"
   ]
  },
  {
   "cell_type": "markdown",
   "metadata": {},
   "source": [
    "**Función cuadrática con A2**"
   ]
  },
  {
   "cell_type": "code",
   "execution_count": 107,
   "metadata": {},
   "outputs": [
    {
     "name": "stdout",
     "output_type": "stream",
     "text": [
      "Dimensión de x0, n =  10\n",
      "f(x_0) =  0.0\n",
      "Número de iteraciones =  656\n",
      "f(x_k)=  -1.79342078383908\n",
      "Primeras cuatro entradas de x_k=  [ 1.36883518 -1.16571247  1.60818359 -0.61261601]\n",
      "Últimas cuatro entradas de x_k=  [-0.61261601  1.60818359 -1.16571247  1.36883518]\n",
      "Norma del gradiente en x_k=  1.9081736803415713e-05\n",
      "Contador br =  478\n",
      "Sí se cumplio el criterio de convergencia\n"
     ]
    }
   ],
   "source": [
    "n=10\n",
    "tau=(np.sqrt(n))*((epsilon)**(1/3))\n",
    "A=genera_A2(n)\n",
    "b=np.ones(n)\n",
    "x0=np.zeros(n)\n",
    "#definimos la funcion cuadratica y su gradiente como inline functions\n",
    "cuadratica = lambda x: 0.5 * np.dot(x.T, np.dot(A, x)) - np.dot(b.T, x)\n",
    "D_cuadratica = lambda x: 0.5 * (np.dot(A.T, x) + np.dot(A, x)) - b\n",
    "N=5000\n",
    "argumentos_GCNL=[x0,cuadratica,D_cuadratica,N,tau]\n",
    "imprime_2(cuadratica,n,x0,gradiente_conjugado_no_lineal,argumentos_GCNL)"
   ]
  },
  {
   "cell_type": "code",
   "execution_count": 108,
   "metadata": {},
   "outputs": [
    {
     "name": "stdout",
     "output_type": "stream",
     "text": [
      "Dimensión de x0, n =  100\n",
      "f(x_0) =  0.0\n",
      "Número de iteraciones =  4999\n",
      "f(x_k)=  -14.494326547188079\n",
      "Primeras cuatro entradas de x_k=  [ 1.44518005 -1.41288126  2.10384349 -1.41483562]\n",
      "Últimas cuatro entradas de x_k=  [-1.41483562  2.10384349 -1.41288125  1.44518005]\n",
      "Norma del gradiente en x_k=  7.262791714504865e-05\n",
      "Contador br =  3917\n"
     ]
    }
   ],
   "source": [
    "n=100\n",
    "tau=(np.sqrt(n))*((epsilon)**(1/3))\n",
    "A=genera_A2(n)\n",
    "b=np.ones(n)\n",
    "x0=np.zeros(n)\n",
    "#definimos la funcion cuadratica y su gradiente como inline functions\n",
    "cuadratica = lambda x: 0.5 * np.dot(x.T, np.dot(A, x)) - np.dot(b.T, x)\n",
    "D_cuadratica = lambda x: 0.5 * (np.dot(A.T, x) + np.dot(A, x)) - b\n",
    "N=5000\n",
    "argumentos_GCNL=[x0,cuadratica,D_cuadratica,N,tau]\n",
    "imprime_2(cuadratica,n,x0,gradiente_conjugado_no_lineal,argumentos_GCNL)"
   ]
  },
  {
   "cell_type": "code",
   "execution_count": 109,
   "metadata": {},
   "outputs": [
    {
     "name": "stdout",
     "output_type": "stream",
     "text": [
      "Dimensión de x0, n =  1000\n",
      "f(x_0) =  0.0\n",
      "Número de iteraciones =  3416\n",
      "f(x_k)=  -141.43695685424564\n",
      "Primeras cuatro entradas de x_k=  [ 1.44287243 -1.40569481  2.09014145 -1.39405493]\n",
      "Últimas cuatro entradas de x_k=  [-1.39405493  2.09014145 -1.40569481  1.44287243]\n",
      "Norma del gradiente en x_k=  0.00019133642012863605\n",
      "Contador br =  2664\n",
      "Sí se cumplio el criterio de convergencia\n"
     ]
    }
   ],
   "source": [
    "n=1000\n",
    "tau=(np.sqrt(n))*((epsilon)**(1/3))\n",
    "A=genera_A2(n)\n",
    "b=np.ones(n)\n",
    "x0=np.zeros(n)\n",
    "#definimos la funcion cuadratica y su gradiente como inline functions\n",
    "cuadratica = lambda x: 0.5 * np.dot(x.T, np.dot(A, x)) - np.dot(b.T, x)\n",
    "D_cuadratica = lambda x: 0.5 * (np.dot(A.T, x) + np.dot(A, x)) - b\n",
    "N=5000\n",
    "argumentos_GCNL=[x0,cuadratica,D_cuadratica,N,tau]\n",
    "imprime_2(cuadratica,n,x0,gradiente_conjugado_no_lineal,argumentos_GCNL)"
   ]
  },
  {
   "cell_type": "markdown",
   "metadata": {},
   "source": [
    "**Función de Beale**"
   ]
  },
  {
   "cell_type": "code",
   "execution_count": 74,
   "metadata": {},
   "outputs": [
    {
     "name": "stdout",
     "output_type": "stream",
     "text": [
      "Dimensión de x0, n =  2\n",
      "f(x_0) =  3347.203125\n",
      "Número de iteraciones =  50\n",
      "f(x_k)=  6.0010502635901e-11\n",
      "x_k=  [2.99998068 0.4999951 ]\n",
      "Norma del gradiente en x_k=  7.033545029879855e-06\n",
      "Contador br =  38\n",
      "Sí se cumplio el criterio de convergencia\n"
     ]
    }
   ],
   "source": [
    "x0=(2,3)\n",
    "n=2\n",
    "tau=(np.sqrt(n))*((epsilon)**(1/3))\n",
    "N=5000\n",
    "argumentos_GCNL=[x0,fn.Beale,fn.D_Beale,N,tau]\n",
    "imprime_2(fn.Beale,n,x0,gradiente_conjugado_no_lineal,argumentos_GCNL)\n"
   ]
  },
  {
   "cell_type": "markdown",
   "metadata": {},
   "source": [
    "**Función de Himmelblau** "
   ]
  },
  {
   "cell_type": "code",
   "execution_count": 75,
   "metadata": {},
   "outputs": [
    {
     "name": "stdout",
     "output_type": "stream",
     "text": [
      "Dimensión de x0, n =  2\n",
      "f(x_0) =  130\n",
      "Número de iteraciones =  24\n",
      "f(x_k)=  8.869121880997688e-14\n",
      "x_k=  [ 3.58442835 -1.84812646]\n",
      "Norma del gradiente en x_k=  2.8453157735627747e-06\n",
      "Contador br =  20\n",
      "Sí se cumplio el criterio de convergencia\n"
     ]
    }
   ],
   "source": [
    "x0=(2,4)\n",
    "n=2\n",
    "tau=(np.sqrt(n))*((epsilon)**(1/3))\n",
    "N=5000\n",
    "argumentos_GCNL=[x0,fn.Himmelblau,fn.D_Himmelblau,N,tau]\n",
    "imprime_2(fn.Himmelblau,n,x0,gradiente_conjugado_no_lineal,argumentos_GCNL)\n"
   ]
  },
  {
   "cell_type": "markdown",
   "metadata": {},
   "source": [
    "**Función de Rosenbrock**"
   ]
  },
  {
   "cell_type": "code",
   "execution_count": 81,
   "metadata": {},
   "outputs": [
    {
     "name": "stdout",
     "output_type": "stream",
     "text": [
      "Dimensión de x0, n =  (2,)\n",
      "f(x_0) =  24.199999999999996\n",
      "Número de iteraciones =  77\n",
      "f(x_k)=  4.0522579708831516e-12\n",
      "Primeras cuatro entradas de x_k=  [1.00000201 1.00000403]\n",
      "Últimas cuatro entradas de x_k=  [1.00000201 1.00000403]\n",
      "Norma del gradiente en x_k=  1.999152260463426e-06\n",
      "Contador br =  55\n",
      "Sí se cumplio el criterio de convergencia\n"
     ]
    }
   ],
   "source": [
    "x0=(-1.2,1.0)\n",
    "n=np.shape(x0)\n",
    "tau=(np.sqrt(n))*((epsilon)**(1/3))\n",
    "N=5000\n",
    "argumentos_GCNL=[x0,fn.Rosenbrock,fn.D_Rosenbrock,N,tau]\n",
    "imprime_2(fn.Rosenbrock,n,x0,gradiente_conjugado_no_lineal,argumentos_GCNL)\n"
   ]
  },
  {
   "cell_type": "code",
   "execution_count": 84,
   "metadata": {},
   "outputs": [
    {
     "name": "stdout",
     "output_type": "stream",
     "text": [
      "Dimensión de x0, n =  (20,)\n",
      "f(x_0) =  4597.999999999999\n",
      "Número de iteraciones =  694\n",
      "f(x_k)=  4.612333027811992e-10\n",
      "Primeras cuatro entradas de x_k=  [1.         1.         0.99999999 0.99999999]\n",
      "Últimas cuatro entradas de x_k=  [0.99999537 0.99999073 0.99998141 0.99996273]\n",
      "Norma del gradiente en x_k=  2.3941228825155865e-05\n",
      "Contador br =  413\n",
      "Sí se cumplio el criterio de convergencia\n"
     ]
    }
   ],
   "source": [
    "x0=(-1.2,1.0,-1.2,1.0,-1.2,1.0,-1.2,1.0,-1.2,1.0,-1.2,1.0,-1.2,1.0,-1.2,1.0,-1.2,1.0,-1.2,1.0)\n",
    "n=np.shape(x0)\n",
    "tau=(np.sqrt(n))*((epsilon)**(1/3))\n",
    "N=5000\n",
    "argumentos_GCNL=[x0,fn.Rosenbrock,fn.D_Rosenbrock,N,tau]\n",
    "imprime_2(fn.Rosenbrock,n,x0,gradiente_conjugado_no_lineal,argumentos_GCNL)\n"
   ]
  },
  {
   "cell_type": "code",
   "execution_count": 85,
   "metadata": {},
   "outputs": [
    {
     "name": "stdout",
     "output_type": "stream",
     "text": [
      "Dimensión de x0, n =  (40,)\n",
      "f(x_0) =  9680.0\n",
      "Número de iteraciones =  1058\n",
      "f(x_k)=  9.665203846222312e-10\n",
      "Primeras cuatro entradas de x_k=  [1. 1. 1. 1.]\n",
      "Últimas cuatro entradas de x_k=  [0.9999933  0.99998658 0.99997309 0.99994605]\n",
      "Norma del gradiente en x_k=  3.6157029207687395e-05\n",
      "Contador br =  624\n",
      "Sí se cumplio el criterio de convergencia\n"
     ]
    }
   ],
   "source": [
    "x0=(-1.2,1.0,-1.2,1.0,-1.2,1.0,-1.2,1.0,-1.2,1.0,-1.2,1.0,-1.2,1.0,-1.2,1.0,-1.2,1.0,-1.2,1.0,-1.2,1.0,-1.2,1.0,-1.2,1.0,-1.2,1.0,-1.2,1.0,-1.2,1.0,-1.2,1.0,-1.2,1.0,-1.2,1.0,-1.2,1.0)\n",
    "n=np.shape(x0)\n",
    "tau=(np.sqrt(n))*((epsilon)**(1/3))\n",
    "N=5000\n",
    "argumentos_GCNL=[x0,fn.Rosenbrock,fn.D_Rosenbrock,N,tau]\n",
    "imprime_2(fn.Rosenbrock,n,x0,gradiente_conjugado_no_lineal,argumentos_GCNL)\n"
   ]
  },
  {
   "cell_type": "markdown",
   "metadata": {},
   "source": [
    "$\\color{purple}{Ejercicio \\space 3}$ <br>"
   ]
  },
  {
   "cell_type": "code",
   "execution_count": 87,
   "metadata": {},
   "outputs": [],
   "source": [
    "def gradiente_conjugado_no_lineal_HS(x_0,f,D_f,max_iter,tol):\n",
    "    reinicios=0\n",
    "    bres=False\n",
    "    x_k=x_0\n",
    "    f_k=f(x_k)\n",
    "    g_k=D_f(x_k)\n",
    "    d_k=-g_k\n",
    "\n",
    "    for k in range(max_iter):\n",
    "        g=np.linalg.norm(g_k)\n",
    "        if g<tol:\n",
    "            bres=True\n",
    "            return x_k,g_k,k,reinicios,bres\n",
    "   \n",
    "        alpha_k,_,_=backtracking(x_k,f,D_f,d_k)\n",
    "        x_k=x_k+alpha_k*d_k\n",
    "        g_old=g_k\n",
    "        g_k=D_f(x_k)\n",
    "        y_k=g_k-g_old\n",
    "\n",
    "        if np.abs(np.dot(g_k,g_old))<0.2*np.dot(g_k,g_k):\n",
    "            beta_k=(np.dot(g_k,y_k))/(np.dot(d_k,y_k)) \n",
    "        else:\n",
    "            beta_k=0\n",
    "            reinicios=reinicios+1\n",
    "            \n",
    "        d_k=-g_k+beta_k*d_k\n",
    "\n",
    "    return x_k,g_k,k,reinicios,bres"
   ]
  },
  {
   "cell_type": "markdown",
   "metadata": {},
   "source": [
    "**Funciones cuadráticas con A1**"
   ]
  },
  {
   "cell_type": "markdown",
   "metadata": {},
   "source": [
    "$n=10$"
   ]
  },
  {
   "cell_type": "code",
   "execution_count": 102,
   "metadata": {},
   "outputs": [
    {
     "name": "stdout",
     "output_type": "stream",
     "text": [
      "Dimensión de x0, n =  10\n",
      "f(x_0) =  0.0\n",
      "Número de iteraciones =  13\n",
      "f(x_k)=  -0.24999999999789743\n",
      "Primeras cuatro entradas de x_k=  [0.04999985 0.04999985 0.04999985 0.04999985]\n",
      "Últimas cuatro entradas de x_k=  [0.04999985 0.04999985 0.04999985 0.04999985]\n",
      "Norma del gradiente en x_k=  9.17078433484245e-06\n",
      "Contador br =  13\n",
      "Sí se cumplio el criterio de convergencia\n"
     ]
    }
   ],
   "source": [
    "n=10\n",
    "tau=(np.sqrt(n))*((epsilon)**(1/3))\n",
    "A=genera_A1(n)\n",
    "b=np.ones(n)\n",
    "x0=np.zeros(n)\n",
    "#definimos la funcion cuadratica y su gradiente como inline functions\n",
    "cuadratica = lambda x: 0.5 * np.dot(x.T, np.dot(A, x)) - np.dot(b.T, x)\n",
    "D_cuadratica = lambda x: 0.5 * (np.dot(A.T, x) + np.dot(A, x)) - b\n",
    "N=5000\n",
    "argumentos_GCNL=[x0,cuadratica,D_cuadratica,N,tau]\n",
    "imprime_2(cuadratica,n,x0,gradiente_conjugado_no_lineal_HS,argumentos_GCNL)"
   ]
  },
  {
   "cell_type": "markdown",
   "metadata": {},
   "source": [
    "$n=100$"
   ]
  },
  {
   "cell_type": "code",
   "execution_count": 105,
   "metadata": {},
   "outputs": [
    {
     "name": "stdout",
     "output_type": "stream",
     "text": [
      "Dimensión de x0, n =  100\n",
      "f(x_0) =  0.0\n",
      "Número de iteraciones =  8\n",
      "f(x_k)=  -0.24999999999312786\n",
      "Primeras cuatro entradas de x_k=  [0.00499997 0.00499997 0.00499997 0.00499997]\n",
      "Últimas cuatro entradas de x_k=  [0.00499997 0.00499997 0.00499997 0.00499997]\n",
      "Norma del gradiente en x_k=  5.2430559662752785e-05\n",
      "Contador br =  8\n",
      "Sí se cumplio el criterio de convergencia\n"
     ]
    }
   ],
   "source": [
    "n=100\n",
    "tau=(np.sqrt(n))*((epsilon)**(1/3))\n",
    "A=genera_A1(n)\n",
    "b=np.ones(n)\n",
    "x0=np.zeros(n)\n",
    "#definimos la funcion cuadratica y su gradiente como inline functions\n",
    "cuadratica = lambda x: 0.5 * np.dot(x.T, np.dot(A, x)) - np.dot(b.T, x)\n",
    "D_cuadratica = lambda x: 0.5 * (np.dot(A.T, x) + np.dot(A, x)) - b\n",
    "N=5000\n",
    "argumentos_GCNL=[x0,cuadratica,D_cuadratica,N,tau]\n",
    "imprime_2(cuadratica,n,x0,gradiente_conjugado_no_lineal_HS,argumentos_GCNL)"
   ]
  },
  {
   "cell_type": "markdown",
   "metadata": {},
   "source": [
    "$n=1000$"
   ]
  },
  {
   "cell_type": "code",
   "execution_count": 106,
   "metadata": {},
   "outputs": [
    {
     "name": "stdout",
     "output_type": "stream",
     "text": [
      "Dimensión de x0, n =  1000\n",
      "f(x_0) =  0.0\n",
      "Número de iteraciones =  4\n",
      "f(x_k)=  -0.24999999999997527\n",
      "Primeras cuatro entradas de x_k=  [0.0005 0.0005 0.0005 0.0005]\n",
      "Últimas cuatro entradas de x_k=  [0.0005 0.0005 0.0005 0.0005]\n",
      "Norma del gradiente en x_k=  9.542125853659165e-06\n",
      "Contador br =  4\n",
      "Sí se cumplio el criterio de convergencia\n"
     ]
    }
   ],
   "source": [
    "n=1000\n",
    "tau=(np.sqrt(n))*((epsilon)**(1/3))\n",
    "A=genera_A1(n)\n",
    "b=np.ones(n)\n",
    "x0=np.zeros(n)\n",
    "#definimos la funcion cuadratica y su gradiente como inline functions\n",
    "cuadratica = lambda x: 0.5 * np.dot(x.T, np.dot(A, x)) - np.dot(b.T, x)\n",
    "D_cuadratica = lambda x: 0.5 * (np.dot(A.T, x) + np.dot(A, x)) - b\n",
    "N=5000\n",
    "argumentos_GCNL=[x0,cuadratica,D_cuadratica,N,tau]\n",
    "imprime_2(cuadratica,n,x0,gradiente_conjugado_no_lineal_HS,argumentos_GCNL)"
   ]
  },
  {
   "cell_type": "markdown",
   "metadata": {},
   "source": [
    "**Funciones cuadráticas con A2**"
   ]
  },
  {
   "cell_type": "code",
   "execution_count": 110,
   "metadata": {},
   "outputs": [
    {
     "name": "stdout",
     "output_type": "stream",
     "text": [
      "Dimensión de x0, n =  10\n",
      "f(x_0) =  0.0\n",
      "Número de iteraciones =  754\n",
      "f(x_k)=  -1.7934207876762953\n",
      "Primeras cuatro entradas de x_k=  [ 1.36886346 -1.16578522  1.60828044 -0.61270105]\n",
      "Últimas cuatro entradas de x_k=  [-0.61270105  1.60828044 -1.16578522  1.36886346]\n",
      "Norma del gradiente en x_k=  1.7196073436070605e-05\n",
      "Contador br =  584\n",
      "Sí se cumplio el criterio de convergencia\n"
     ]
    }
   ],
   "source": [
    "n=10\n",
    "tau=(np.sqrt(n))*((epsilon)**(1/3))\n",
    "A=genera_A2(n)\n",
    "b=np.ones(n)\n",
    "x0=np.zeros(n)\n",
    "#definimos la funcion cuadratica y su gradiente como inline functions\n",
    "cuadratica = lambda x: 0.5 * np.dot(x.T, np.dot(A, x)) - np.dot(b.T, x)\n",
    "D_cuadratica = lambda x: 0.5 * (np.dot(A.T, x) + np.dot(A, x)) - b\n",
    "N=5000\n",
    "argumentos_GCNL=[x0,cuadratica,D_cuadratica,N,tau]\n",
    "imprime_2(cuadratica,n,x0,gradiente_conjugado_no_lineal_HS,argumentos_GCNL)"
   ]
  },
  {
   "cell_type": "code",
   "execution_count": 111,
   "metadata": {},
   "outputs": [
    {
     "name": "stdout",
     "output_type": "stream",
     "text": [
      "Dimensión de x0, n =  100\n",
      "f(x_0) =  0.0\n",
      "Número de iteraciones =  4999\n",
      "f(x_k)=  -14.494326214738267\n",
      "Primeras cuatro entradas de x_k=  [ 1.44513466 -1.41273989  2.10357233 -1.41442268]\n",
      "Últimas cuatro entradas de x_k=  [-1.41442268  2.10357233 -1.41273989  1.44513466]\n",
      "Norma del gradiente en x_k=  7.578182799782151e-05\n",
      "Contador br =  3769\n"
     ]
    }
   ],
   "source": [
    "n=100\n",
    "tau=(np.sqrt(n))*((epsilon)**(1/3))\n",
    "A=genera_A2(n)\n",
    "b=np.ones(n)\n",
    "x0=np.zeros(n)\n",
    "#definimos la funcion cuadratica y su gradiente como inline functions\n",
    "cuadratica = lambda x: 0.5 * np.dot(x.T, np.dot(A, x)) - np.dot(b.T, x)\n",
    "D_cuadratica = lambda x: 0.5 * (np.dot(A.T, x) + np.dot(A, x)) - b\n",
    "N=5000\n",
    "argumentos_GCNL=[x0,cuadratica,D_cuadratica,N,tau]\n",
    "imprime_2(cuadratica,n,x0,gradiente_conjugado_no_lineal_HS,argumentos_GCNL)"
   ]
  },
  {
   "cell_type": "code",
   "execution_count": 112,
   "metadata": {},
   "outputs": [
    {
     "name": "stdout",
     "output_type": "stream",
     "text": [
      "Dimensión de x0, n =  1000\n",
      "f(x_0) =  0.0\n",
      "Número de iteraciones =  3463\n",
      "f(x_k)=  -141.4369563585438\n",
      "Primeras cuatro entradas de x_k=  [ 1.44284074 -1.40558695  2.089946   -1.39375064]\n",
      "Últimas cuatro entradas de x_k=  [-1.39375064  2.089946   -1.40558695  1.44284074]\n",
      "Norma del gradiente en x_k=  0.00019135949030101222\n",
      "Contador br =  2618\n",
      "Sí se cumplio el criterio de convergencia\n"
     ]
    }
   ],
   "source": [
    "n=1000\n",
    "tau=(np.sqrt(n))*((epsilon)**(1/3))\n",
    "A=genera_A2(n)\n",
    "b=np.ones(n)\n",
    "x0=np.zeros(n)\n",
    "#definimos la funcion cuadratica y su gradiente como inline functions\n",
    "cuadratica = lambda x: 0.5 * np.dot(x.T, np.dot(A, x)) - np.dot(b.T, x)\n",
    "D_cuadratica = lambda x: 0.5 * (np.dot(A.T, x) + np.dot(A, x)) - b\n",
    "N=5000\n",
    "argumentos_GCNL=[x0,cuadratica,D_cuadratica,N,tau]\n",
    "imprime_2(cuadratica,n,x0,gradiente_conjugado_no_lineal_HS,argumentos_GCNL)"
   ]
  },
  {
   "cell_type": "markdown",
   "metadata": {},
   "source": [
    "**Función de Beale**"
   ]
  },
  {
   "cell_type": "code",
   "execution_count": 90,
   "metadata": {},
   "outputs": [
    {
     "name": "stdout",
     "output_type": "stream",
     "text": [
      "Dimensión de x0, n =  2\n",
      "f(x_0) =  3347.203125\n",
      "Número de iteraciones =  25\n",
      "f(x_k)=  7.076693020301564e-11\n",
      "x_k=  [2.99997901 0.49999469]\n",
      "Norma del gradiente en x_k=  7.385377876071349e-06\n",
      "Contador br =  18\n",
      "Sí se cumplio el criterio de convergencia\n"
     ]
    }
   ],
   "source": [
    "x0=(2,3)\n",
    "n=2\n",
    "tau=(np.sqrt(n))*((epsilon)**(1/3))\n",
    "N=5000\n",
    "argumentos_GCNL=[x0,fn.Beale,fn.D_Beale,N,tau]\n",
    "imprime_2(fn.Beale,n,x0,gradiente_conjugado_no_lineal_HS,argumentos_GCNL)\n"
   ]
  },
  {
   "cell_type": "markdown",
   "metadata": {},
   "source": [
    "**Función de Himmelblau** "
   ]
  },
  {
   "cell_type": "code",
   "execution_count": 91,
   "metadata": {},
   "outputs": [
    {
     "name": "stdout",
     "output_type": "stream",
     "text": [
      "Dimensión de x0, n =  2\n",
      "f(x_0) =  130\n",
      "Número de iteraciones =  22\n",
      "f(x_k)=  7.317880926980324e-13\n",
      "x_k=  [ 3.5844283  -1.84812631]\n",
      "Norma del gradiente en x_k=  6.824300082945526e-06\n",
      "Contador br =  19\n",
      "Sí se cumplio el criterio de convergencia\n"
     ]
    }
   ],
   "source": [
    "x0=(2,4)\n",
    "n=2\n",
    "tau=(np.sqrt(n))*((epsilon)**(1/3))\n",
    "N=5000\n",
    "argumentos_GCNL=[x0,fn.Himmelblau,fn.D_Himmelblau,N,tau]\n",
    "imprime_2(fn.Himmelblau,n,x0,gradiente_conjugado_no_lineal_HS,argumentos_GCNL)\n"
   ]
  },
  {
   "cell_type": "markdown",
   "metadata": {},
   "source": [
    "**Función de Rosenbrock**"
   ]
  },
  {
   "cell_type": "code",
   "execution_count": 92,
   "metadata": {},
   "outputs": [
    {
     "name": "stdout",
     "output_type": "stream",
     "text": [
      "Dimensión de x0, n =  (2,)\n",
      "f(x_0) =  24.199999999999996\n",
      "Número de iteraciones =  50\n",
      "f(x_k)=  1.655294559448486e-11\n",
      "Primeras cuatro entradas de x_k=  [1.00000407 1.00000815]\n",
      "Últimas cuatro entradas de x_k=  [1.00000407 1.00000815]\n",
      "Norma del gradiente en x_k=  3.6497301985052404e-06\n",
      "Contador br =  38\n",
      "Sí se cumplio el criterio de convergencia\n"
     ]
    }
   ],
   "source": [
    "x0=(-1.2,1.0)\n",
    "n=np.shape(x0)\n",
    "tau=(np.sqrt(n))*((epsilon)**(1/3))\n",
    "N=5000\n",
    "argumentos_GCNL=[x0,fn.Rosenbrock,fn.D_Rosenbrock,N,tau]\n",
    "imprime_2(fn.Rosenbrock,n,x0,gradiente_conjugado_no_lineal_HS,argumentos_GCNL)\n"
   ]
  },
  {
   "cell_type": "code",
   "execution_count": 97,
   "metadata": {},
   "outputs": [
    {
     "name": "stdout",
     "output_type": "stream",
     "text": [
      "Dimensión de x0, n =  (20,)\n",
      "f(x_0) =  4597.999999999999\n",
      "Número de iteraciones =  390\n",
      "f(x_k)=  2.159244904522652e-10\n",
      "Primeras cuatro entradas de x_k=  [1.00000001 1.00000001 1.         1.        ]\n",
      "Últimas cuatro entradas de x_k=  [0.99999686 0.99999367 0.9999873  0.99997451]\n",
      "Norma del gradiente en x_k=  2.3651325537511567e-05\n",
      "Contador br =  238\n",
      "Sí se cumplio el criterio de convergencia\n"
     ]
    }
   ],
   "source": [
    "x0=(-1.2,1.0,-1.2,1.0,-1.2,1.0,-1.2,1.0,-1.2,1.0,-1.2,1.0,-1.2,1.0,-1.2,1.0,-1.2,1.0,-1.2,1.0)\n",
    "n=np.shape(x0)\n",
    "tau=(np.sqrt(n))*((epsilon)**(1/3))\n",
    "N=5000\n",
    "argumentos_GCNL=[x0,fn.Rosenbrock,fn.D_Rosenbrock,N,tau]\n",
    "imprime_2(fn.Rosenbrock,n,x0,gradiente_conjugado_no_lineal_HS,argumentos_GCNL)\n"
   ]
  },
  {
   "cell_type": "code",
   "execution_count": 96,
   "metadata": {},
   "outputs": [
    {
     "name": "stdout",
     "output_type": "stream",
     "text": [
      "Dimensión de x0, n =  (40,)\n",
      "f(x_0) =  9680.0\n",
      "Número de iteraciones =  742\n",
      "f(x_k)=  1.0815875655240946e-10\n",
      "Primeras cuatro entradas de x_k=  [1.         1.00000001 1.00000001 1.00000001]\n",
      "Últimas cuatro entradas de x_k=  [0.99999779 0.99999556 0.99999108 0.99998212]\n",
      "Norma del gradiente en x_k=  3.179932713897736e-05\n",
      "Contador br =  451\n",
      "Sí se cumplio el criterio de convergencia\n"
     ]
    }
   ],
   "source": [
    "x0=(-1.2,1.0,-1.2,1.0,-1.2,1.0,-1.2,1.0,-1.2,1.0,-1.2,1.0,-1.2,1.0,-1.2,1.0,-1.2,1.0,-1.2,1.0,-1.2,1.0,-1.2,1.0,-1.2,1.0,-1.2,1.0,-1.2,1.0,-1.2,1.0,-1.2,1.0,-1.2,1.0,-1.2,1.0,-1.2,1.0)\n",
    "n=np.shape(x0)\n",
    "tau=(np.sqrt(n))*((epsilon)**(1/3))\n",
    "N=5000\n",
    "argumentos_GCNL=[x0,fn.Rosenbrock,fn.D_Rosenbrock,N,tau]\n",
    "imprime_2(fn.Rosenbrock,n,x0,gradiente_conjugado_no_lineal_HS,argumentos_GCNL)\n"
   ]
  },
  {
   "cell_type": "markdown",
   "metadata": {},
   "source": [
    "Resumen comparativo entre gradiente conjugado no lineal usando FR y HS"
   ]
  },
  {
   "cell_type": "markdown",
   "metadata": {},
   "source": [
    "    Respecto a las iteraciones:\n",
    "*   B necesitó la mitad de iteraciones usando Hestenes-Stiefel en lugar de Fletcher-Reeves.\n",
    "*   H necesitó dos iteraciones usando Hestenes-Stiefel en lugar de Fletcher-Reeves.\n",
    "*   R necesitó un tercio menos para dos dim y al rededor la mitad de iteraciones para 20 Y 40 dim usando Hestenes-Stiefel en lugar de Fletcher-Reeves.\n"
   ]
  },
  {
   "cell_type": "markdown",
   "metadata": {},
   "source": [
    "    Respecto a los reinicios:\n",
    "\n",
    "*   B necesitó 10 reinicios usando Hestenes-Stiefel en lugar de Fletcher-Reeves.\n",
    "*   H necesitó 1 reinicios usando Hestenes-Stiefel en lugar de \n",
    "*   R necesitó 15 reinicios menos para dos dim y al rededor de 200 reinicios para 20 Y 40 dim usando Hestenes-Stiefel en lugar de Fletcher-Reeves.\n"
   ]
  },
  {
   "cell_type": "markdown",
   "metadata": {},
   "source": [
    "Sí hay una difencia en la cantidad de iteraciones (y de reinicios) que se obtienen usando la fórmula de HS respecto a usar FR. En general HS ahorra hasta la mitad de iteraciones en casi todos los casos. También se requieren unos pocos menos reinicios. \n",
    "\n"
   ]
  }
 ],
 "metadata": {
  "kernelspec": {
   "display_name": "Python 3",
   "language": "python",
   "name": "python3"
  },
  "language_info": {
   "codemirror_mode": {
    "name": "ipython",
    "version": 3
   },
   "file_extension": ".py",
   "mimetype": "text/x-python",
   "name": "python",
   "nbconvert_exporter": "python",
   "pygments_lexer": "ipython3",
   "version": "3.11.7"
  }
 },
 "nbformat": 4,
 "nbformat_minor": 2
}
