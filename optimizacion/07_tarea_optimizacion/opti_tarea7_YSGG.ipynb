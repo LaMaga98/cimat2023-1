{
 "cells": [
  {
   "cell_type": "markdown",
   "metadata": {},
   "source": [
    "$$\\textbf{Optimización I. Tarea 7}$$\n",
    "$$\\textit{Y. Sarahi García Gozález}$$"
   ]
  },
  {
   "cell_type": "markdown",
   "metadata": {},
   "source": [
    "$\\color{purple}{Librerías \\space }$ <br>"
   ]
  },
  {
   "cell_type": "code",
   "execution_count": 109,
   "metadata": {},
   "outputs": [],
   "source": [
    "import numpy as np\n",
    "import matplotlib.pyplot as plt\n",
    "import functions as fn #libreria con las funciones Himmelblau,Beale,Rosenbrock,Hartman\n",
    "from math import exp\n",
    "import autograd.numpy as np  # Thinly-wrapped numpy\n",
    "from autograd import grad  "
   ]
  },
  {
   "cell_type": "code",
   "execution_count": 86,
   "metadata": {},
   "outputs": [
    {
     "name": "stdout",
     "output_type": "stream",
     "text": [
      "Tarea realizada en MacOs. \n",
      "Las versiones de las librerías y de python utilizadas fueron:\n",
      "\n",
      "Python version 3.11.7\n",
      "Numpy version 1.26.3\n"
     ]
    }
   ],
   "source": [
    "print(\"Tarea realizada en MacOs. \\nLas versiones de las librerías y de python utilizadas fueron:\\n\")\n",
    "from platform import python_version\n",
    "print(\"Python version\", python_version())\n",
    "print(\"Numpy version\", np.__version__)"
   ]
  },
  {
   "cell_type": "code",
   "execution_count": 87,
   "metadata": {},
   "outputs": [
    {
     "name": "stdout",
     "output_type": "stream",
     "text": [
      "Epsilon de la máquina: 2.220446049250313e-16\n"
     ]
    }
   ],
   "source": [
    "#imprimimos el epsilon de la máquina\n",
    "epsilon = np.finfo(float).eps\n",
    "print(\"Epsilon de la máquina:\", epsilon)"
   ]
  },
  {
   "cell_type": "code",
   "execution_count": 88,
   "metadata": {},
   "outputs": [],
   "source": [
    "#definicion de funcion para para las graficas dee los contornos\n",
    "\n",
    "def contornosFnc2D(fncf, puntos, xleft, xright, ybottom, ytop, levels):\n",
    "    # Crea una discretización uniforme del intervalo [xleft, xright]\n",
    "    ax = np.linspace(xleft, xright, 250)\n",
    "    # Crea una discretización uniforme del intervalo [ybottom, ytop]\n",
    "    ay = np.linspace(ybottom, ytop, 200)\n",
    "    # La matriz mX que tiene las abscisas \n",
    "    mX, mY = np.meshgrid(ax, ay)\n",
    "    # Se crea el arreglo mZ con los valores de la función en cada nodo\n",
    "    mZ = mX.copy()\n",
    "    for i, y in enumerate(ay):\n",
    "        for j, x in enumerate(ax):\n",
    "            mZ[i,j] = fncf(np.array([x, y]))\n",
    "    # Grafica de las curvas de nivel\n",
    "    fig, ax = plt.subplots()\n",
    "    CS = ax.contourf(mX, mY, mZ, levels, cmap='coolwarm')\n",
    "    plt.colorbar(CS, ax=ax)\n",
    "    # Grafica los puntos dados\n",
    "    puntos_x = [p[0] for p in puntos]\n",
    "    puntos_y = [p[1] for p in puntos]\n",
    "    ax.plot(puntos_x, puntos_y, 'r-',label=\"Sucesión\")\n",
    "    ax.plot(puntos_x[0], puntos_y[0], 'g*',label=\"punto inicial\")\n",
    "    ax.plot(puntos_x[-1], puntos_y[-1], 'b*',label=\"mínimo encontrado\")\n",
    "     # Grafica los puntos como puntos rojos\n",
    "    ax.set_xlabel('x1')\n",
    "    ax.set_ylabel('x2')\n",
    "    ax.set_title('Contornos de la función sucesión')\n",
    "    plt.legend()\n",
    "    plt.show()"
   ]
  },
  {
   "cell_type": "code",
   "execution_count": 89,
   "metadata": {},
   "outputs": [],
   "source": [
    "def imprime(f,n,x0,metodo,metodo_args):\n",
    "\n",
    "    '''\n",
    "    Esta función imprime:\n",
    "    - la dimensión $n$,\n",
    "    - f(x_0)\n",
    "    - el  número $k$ de iteraciones realizadas\n",
    "    - f(x_k)\n",
    "    - las primeras y últimas 4 entradas del punto $\\mathbf{x}_k$ que devuelve el algoritmo,\n",
    "    - la norma del gradiente g_k, \n",
    "    - promedio de iteraciones del algoritmo 1\n",
    "    - la variable $bres$ para saber si el algoritmo puedo converger.\n",
    "\n",
    "    '''\n",
    "\n",
    "    xk,fk,gk,k,iteraciones,indicador= metodo(*metodo_args)\n",
    "\n",
    "    prom=np.mean(iteraciones)\n",
    "\n",
    "    print('Dimensión n = ', n )\n",
    "    print('f(x_0) = ', f(x0) )\n",
    "    print('Número de iteraciones = ', k )\n",
    "    print('f(x_k) = ', fk )\n",
    "    print('Primeras cuatro entradas de x_k= ', xk[:4])\n",
    "    print('Últimas cuatro entradas de x_k= ', xk[-4:])\n",
    "    print('Norma del gradiente ||gk||   = ', np.linalg.norm(gk))\n",
    "    print('Iteraciones promedio  = ', prom)\n",
    "\n",
    "\n",
    "    if(indicador):\n",
    "        print(\"Sí se cumplio el criterio de convergencia\")\n"
   ]
  },
  {
   "cell_type": "code",
   "execution_count": 90,
   "metadata": {},
   "outputs": [],
   "source": [
    "#definimos la funcion que genera la matriz A de acuerdo a la instrucción anterior\n",
    "def genera_A1(n):\n",
    "    return np.ones((n,n))+n*np.eye(n)\n",
    "#definimos la funcion que genera la matriz A de acuerdo a la instrucción anterior\n",
    "def genera_A2(n):\n",
    "    A = np.empty([n,n], dtype=float)\n",
    "    for i in range(n):\n",
    "        for j in range(n):\n",
    "            u=0.25*((i-j)**2)\n",
    "            A[i][j]=exp(-1*u)\n",
    "    return A"
   ]
  },
  {
   "cell_type": "markdown",
   "metadata": {},
   "source": [
    "$\\color{purple}{Ejercicio \\space 1}$ <br>"
   ]
  },
  {
   "cell_type": "code",
   "execution_count": 91,
   "metadata": {},
   "outputs": [],
   "source": [
    "def grad_des_newton(Df_k,Hf_k,n,tol):\n",
    "    iteraciones=0\n",
    "\n",
    "    zk=0\n",
    "    rk=Df_k\n",
    "    dk=-rk\n",
    "    \n",
    "    for k in range(n):\n",
    "        m=np.dot(dk,Hf_k@dk)\n",
    "        if(m)<=0:\n",
    "            if k==0:\n",
    "                return dk, k\n",
    "            else:\n",
    "                return zk, k\n",
    "        \n",
    "        r=np.linalg.norm(rk) #norma del gradiente\n",
    "\n",
    "\n",
    "        alpha_k=(r**2)/m\n",
    "        z_old=zk\n",
    "        zk=zk+alpha_k*dk #actualiamos z\n",
    "        rk=rk+alpha_k*((Hf_k@dk)) #actualizamos r\n",
    "\n",
    "        r_new=np.linalg.norm(rk) #norma del gradiente actualizado\n",
    "        beta_k=((r_new)**2)/(r**2)\n",
    "        dk=-rk+beta_k*dk\n",
    "\n",
    "        if r_new<tol:\n",
    "            return zk,k\n",
    "        \n",
    "        iteraciones=iteraciones+1\n",
    "\n",
    "    return z_old, iteraciones\n",
    "\n",
    "def backtracking(alpha_ini,x_k,f,f_k,df,p_k,rho=0.5,c=0.001,iter_max=500):\n",
    "\n",
    "    '''\n",
    "        Esta funcion parte de un tamaño de paso inicial alpha_ini y lo va recortando hasta que\n",
    "        cumple la cond de descenso suficiente\n",
    "\n",
    "        parametros:\n",
    "            valores (float): alpha_ini, rho entre (0,1), f(x_k), Df(x_k) (gradiente en el punto x_k), c_1, \n",
    "            direccion de descenso (np.rray): p_k \n",
    "\n",
    "        returns:\n",
    "            el tamaño de paso a_k\n",
    "            numero de iteraciones realizadas i_k\n",
    "    '''\n",
    "\n",
    "    alpha=alpha_ini #fijamos alpha como el alpha inicial\n",
    "     \n",
    "    for i in range(iter_max):\n",
    "        x_kp=x_k+alpha*p_k\n",
    "        gp=c*np.dot(df(x_k),p_k) #hacemos el producto gradiente por direccion de descenso p\n",
    "    \n",
    "\n",
    "        #si la condicion de descenso se cumple, terminamos\n",
    "        if f(x_kp)<=(f_k + alpha*gp):\n",
    "            return alpha\n",
    "\n",
    "        alpha=alpha*rho #si no se cumple la cond, hacemos alpha*rho\n",
    "     \n",
    "    return  alpha\n",
    "\n",
    "\n"
   ]
  },
  {
   "cell_type": "code",
   "execution_count": 92,
   "metadata": {},
   "outputs": [],
   "source": [
    "def Newton_truncado(f,Df,Hf,x0,tol,max_iter=5000):\n",
    "    iteraciones=[]\n",
    "    xk=x0\n",
    "    \n",
    "    for k in range(max_iter):\n",
    "        #inicializamos xk y el gradiente en xk  \n",
    "        gk=Df(xk)\n",
    "\n",
    "        #norma del gradiente\n",
    "        g=np.linalg.norm(gk)\n",
    "        if g<tol: #condicion de paro\n",
    "            return xk,f(xk),gk,k,iteraciones,True\n",
    "\n",
    "        Hk=Hf(xk) #hessiana\n",
    "\n",
    "        #calculamos la tolerancia para el algortimo 1\n",
    "        tolerancia=min(0.5,np.sqrt(g))*g \n",
    "\n",
    "        #llamamos al algoritmo 1 que regresa pk y el num me iteraciones i\n",
    "        pk,i=grad_des_newton(gk,Hk,len(x0),tolerancia)   \n",
    "        iteraciones.append(i) #agregamos el num de iteraciones a una lista\n",
    "\n",
    "        #calculamos alpha\n",
    "        alpha_k=backtracking(1,xk,f,f(xk),Df,pk)\n",
    "        #calculamos el siguiente xk\n",
    "        xk=xk+alpha_k*pk\n",
    "\n",
    "    return xk,f(xk),gk,k,iteraciones,False"
   ]
  },
  {
   "cell_type": "markdown",
   "metadata": {},
   "source": [
    "**Función cuadrática con A1**"
   ]
  },
  {
   "cell_type": "markdown",
   "metadata": {},
   "source": [
    "$n=10$"
   ]
  },
  {
   "cell_type": "code",
   "execution_count": 93,
   "metadata": {},
   "outputs": [
    {
     "name": "stdout",
     "output_type": "stream",
     "text": [
      "Dimensión n =  10\n",
      "f(x_0) =  0.0\n",
      "Número de iteraciones =  1\n",
      "f(x_k) =  -0.25\n",
      "Primeras cuatro entradas de x_k=  [0.05 0.05 0.05 0.05]\n",
      "Últimas cuatro entradas de x_k=  [0.05 0.05 0.05 0.05]\n",
      "Norma del gradiente ||gk||   =  1.041481514324134e-15\n",
      "Iteraciones promedio  =  0.0\n",
      "Sí se cumplio el criterio de convergencia\n"
     ]
    }
   ],
   "source": [
    "n=10\n",
    "tau=(np.sqrt(n))*((epsilon)**(1/3))\n",
    "A=genera_A1(n)\n",
    "b=np.ones(n)\n",
    "x0=np.zeros(n)\n",
    "#definimos la funcion cuadratica, su gradiente y su Hessiana como inline functions\n",
    "cuadratica = lambda x: 0.5 * np.dot(x.T, np.dot(A, x)) - np.dot(b.T, x)\n",
    "D_cuadratica = lambda x: 0.5 * (np.dot(A.T, x) + np.dot(A, x)) - b\n",
    "H_cuadratica = lambda x: A\n",
    "\n",
    "argumentos_NT=[cuadratica,D_cuadratica,H_cuadratica,x0,tau]\n",
    "imprime(cuadratica,n,x0,Newton_truncado,argumentos_NT)"
   ]
  },
  {
   "cell_type": "markdown",
   "metadata": {},
   "source": [
    "$n=100$"
   ]
  },
  {
   "cell_type": "code",
   "execution_count": 94,
   "metadata": {},
   "outputs": [
    {
     "name": "stdout",
     "output_type": "stream",
     "text": [
      "Dimensión n =  100\n",
      "f(x_0) =  0.0\n",
      "Número de iteraciones =  1\n",
      "f(x_k) =  -0.2500000000000001\n",
      "Primeras cuatro entradas de x_k=  [0.005 0.005 0.005 0.005]\n",
      "Últimas cuatro entradas de x_k=  [0.005 0.005 0.005 0.005]\n",
      "Norma del gradiente ||gk||   =  8.005932084973442e-16\n",
      "Iteraciones promedio  =  0.0\n",
      "Sí se cumplio el criterio de convergencia\n"
     ]
    }
   ],
   "source": [
    "n=100\n",
    "tau=(np.sqrt(n))*((epsilon)**(1/3))\n",
    "A=genera_A1(n)\n",
    "b=np.ones(n)\n",
    "x0=np.zeros(n)\n",
    "#definimos la funcion cuadratica, su gradiente y su Hessiana como inline functions\n",
    "cuadratica = lambda x: 0.5 * np.dot(x.T, np.dot(A, x)) - np.dot(b.T, x)\n",
    "D_cuadratica = lambda x: 0.5 * (np.dot(A.T, x) + np.dot(A, x)) - b\n",
    "H_cuadratica = lambda x: A\n",
    "\n",
    "argumentos_NT=[cuadratica,D_cuadratica,H_cuadratica,x0,tau]\n",
    "imprime(cuadratica,n,x0,Newton_truncado,argumentos_NT)"
   ]
  },
  {
   "cell_type": "markdown",
   "metadata": {},
   "source": [
    "$n=1000$"
   ]
  },
  {
   "cell_type": "code",
   "execution_count": 95,
   "metadata": {},
   "outputs": [
    {
     "name": "stdout",
     "output_type": "stream",
     "text": [
      "Dimensión n =  1000\n",
      "f(x_0) =  0.0\n",
      "Número de iteraciones =  1\n",
      "f(x_k) =  -0.25000000000000033\n",
      "Primeras cuatro entradas de x_k=  [0.0005 0.0005 0.0005 0.0005]\n",
      "Últimas cuatro entradas de x_k=  [0.0005 0.0005 0.0005 0.0005]\n",
      "Norma del gradiente ||gk||   =  5.600639195426344e-13\n",
      "Iteraciones promedio  =  0.0\n",
      "Sí se cumplio el criterio de convergencia\n"
     ]
    }
   ],
   "source": [
    "n=1000\n",
    "tau=(np.sqrt(n))*((epsilon)**(1/3))\n",
    "A=genera_A1(n)\n",
    "b=np.ones(n)\n",
    "x0=np.zeros(n)\n",
    "#definimos la funcion cuadratica, su gradiente y su Hessiana como inline functions\n",
    "cuadratica = lambda x: 0.5 * np.dot(x.T, np.dot(A, x)) - np.dot(b.T, x)\n",
    "D_cuadratica = lambda x: 0.5 * (np.dot(A.T, x) + np.dot(A, x)) - b\n",
    "H_cuadratica = lambda x: A\n",
    "\n",
    "argumentos_NT=[cuadratica,D_cuadratica,H_cuadratica,x0,tau]\n",
    "imprime(cuadratica,n,x0,Newton_truncado,argumentos_NT)"
   ]
  },
  {
   "cell_type": "markdown",
   "metadata": {},
   "source": [
    "**Función cuadrática con A2**"
   ]
  },
  {
   "cell_type": "markdown",
   "metadata": {},
   "source": [
    "$n=10$"
   ]
  },
  {
   "cell_type": "code",
   "execution_count": 96,
   "metadata": {},
   "outputs": [
    {
     "name": "stdout",
     "output_type": "stream",
     "text": [
      "Dimensión n =  10\n",
      "f(x_0) =  0.0\n",
      "Número de iteraciones =  4\n",
      "f(x_k) =  -1.7934208025263514\n",
      "Primeras cuatro entradas de x_k=  [ 1.36909916 -1.16637682  1.60908281 -0.61339053]\n",
      "Últimas cuatro entradas de x_k=  [-0.61339053  1.60908281 -1.16637682  1.36909916]\n",
      "Norma del gradiente ||gk||   =  3.379705256316069e-13\n",
      "Iteraciones promedio  =  2.25\n",
      "Sí se cumplio el criterio de convergencia\n"
     ]
    }
   ],
   "source": [
    "n=10\n",
    "tau=(np.sqrt(n))*((epsilon)**(1/3))\n",
    "A=genera_A2(n)\n",
    "b=np.ones(n)\n",
    "x0=np.zeros(n)\n",
    "\n",
    "argumentos_NT=[cuadratica,D_cuadratica,H_cuadratica,x0,tau]\n",
    "imprime(cuadratica,n,x0,Newton_truncado,argumentos_NT)"
   ]
  },
  {
   "cell_type": "markdown",
   "metadata": {},
   "source": [
    "$n=100$"
   ]
  },
  {
   "cell_type": "code",
   "execution_count": 97,
   "metadata": {},
   "outputs": [
    {
     "name": "stdout",
     "output_type": "stream",
     "text": [
      "Dimensión n =  100\n",
      "f(x_0) =  0.0\n",
      "Número de iteraciones =  7\n",
      "f(x_k) =  -14.494331329457918\n",
      "Primeras cuatro entradas de x_k=  [ 1.446246   -1.41622759  2.11026863 -1.42471103]\n",
      "Últimas cuatro entradas de x_k=  [-1.42471952  2.11026687 -1.41621544  1.44623942]\n",
      "Norma del gradiente ||gk||   =  1.883728586011044e-05\n",
      "Iteraciones promedio  =  32.285714285714285\n",
      "Sí se cumplio el criterio de convergencia\n"
     ]
    }
   ],
   "source": [
    "n=100\n",
    "tau=(np.sqrt(n))*((epsilon)**(1/3))\n",
    "A=genera_A2(n)\n",
    "b=np.ones(n)\n",
    "x0=np.zeros(n)\n",
    "\n",
    "#definimos la funcion cuadratica, su gradiente y su Hessiana como inline functions\n",
    "cuadratica = lambda x: 0.5 * np.dot(x.T, np.dot(A, x)) - np.dot(b.T, x)\n",
    "D_cuadratica = lambda x: 0.5 * (np.dot(A.T, x) + np.dot(A, x)) - b\n",
    "H_cuadratica = lambda x: A\n",
    "\n",
    "argumentos_NT=[cuadratica,D_cuadratica,H_cuadratica,x0,tau]\n",
    "imprime(cuadratica,n,x0,Newton_truncado,argumentos_NT)"
   ]
  },
  {
   "cell_type": "markdown",
   "metadata": {},
   "source": [
    "$n=1000$"
   ]
  },
  {
   "cell_type": "code",
   "execution_count": 98,
   "metadata": {},
   "outputs": [
    {
     "name": "stdout",
     "output_type": "stream",
     "text": [
      "Dimensión n =  1000\n",
      "f(x_0) =  0.0\n",
      "Número de iteraciones =  7\n",
      "f(x_k) =  -141.43698763227366\n",
      "Primeras cuatro entradas de x_k=  [ 1.44628334 -1.41634395  2.11049252 -1.42505022]\n",
      "Últimas cuatro entradas de x_k=  [-1.42505022  2.11049252 -1.41634395  1.44628334]\n",
      "Norma del gradiente ||gk||   =  8.21944409663772e-06\n",
      "Iteraciones promedio  =  60.42857142857143\n",
      "Sí se cumplio el criterio de convergencia\n"
     ]
    }
   ],
   "source": [
    "n=1000\n",
    "tau=(np.sqrt(n))*((epsilon)**(1/3))\n",
    "A=genera_A2(n)\n",
    "b=np.ones(n)\n",
    "x0=np.zeros(n)\n",
    "\n",
    "#definimos la funcion cuadratica, su gradiente y su Hessiana como inline functions\n",
    "cuadratica = lambda x: 0.5 * np.dot(x.T, np.dot(A, x)) - np.dot(b.T, x)\n",
    "D_cuadratica = lambda x: 0.5 * (np.dot(A.T, x) + np.dot(A, x)) - b\n",
    "H_cuadratica = lambda x: A\n",
    "\n",
    "argumentos_NT=[cuadratica,D_cuadratica,H_cuadratica,x0,tau]\n",
    "imprime(cuadratica,n,x0,Newton_truncado,argumentos_NT)"
   ]
  },
  {
   "cell_type": "markdown",
   "metadata": {},
   "source": [
    "**Función de Beale**"
   ]
  },
  {
   "cell_type": "code",
   "execution_count": 99,
   "metadata": {},
   "outputs": [
    {
     "name": "stdout",
     "output_type": "stream",
     "text": [
      "Dimensión n =  2\n",
      "f(x_0) =  3347.203125\n",
      "Número de iteraciones =  77\n",
      "f(x_k) =  6.3645290412639565e-12\n",
      "Primeras cuatro entradas de x_k=  [2.99999402 0.49999835]\n",
      "Últimas cuatro entradas de x_k=  [2.99999402 0.49999835]\n",
      "Norma del gradiente ||gk||   =  7.716816163144511e-06\n",
      "Iteraciones promedio  =  0.7662337662337663\n",
      "Sí se cumplio el criterio de convergencia\n"
     ]
    }
   ],
   "source": [
    "x0=(2,3)\n",
    "n=2\n",
    "tau=(np.sqrt(n))*((epsilon)**(1/3))\n",
    "argumentos_NT=[fn.Beale,fn.D_Beale, fn.H_Beale,x0,tau]\n",
    "imprime(fn.Beale,n,x0,Newton_truncado,argumentos_NT)\n"
   ]
  },
  {
   "cell_type": "markdown",
   "metadata": {},
   "source": [
    "**Función de Himmelblau** \n"
   ]
  },
  {
   "cell_type": "code",
   "execution_count": 166,
   "metadata": {},
   "outputs": [
    {
     "name": "stdout",
     "output_type": "stream",
     "text": [
      "Dimensión n =  2\n",
      "f(x_0) =  130\n",
      "Número de iteraciones =  7\n",
      "f(x_k) =  8.829864314112677e-13\n",
      "Primeras cuatro entradas de x_k=  [2.99999995 2.00000025]\n",
      "Últimas cuatro entradas de x_k=  [2.99999995 2.00000025]\n",
      "Norma del gradiente ||gk||   =  7.39505206237883e-06\n",
      "Iteraciones promedio  =  0.42857142857142855\n",
      "Sí se cumplio el criterio de convergencia\n"
     ]
    }
   ],
   "source": [
    "x0=(2,4)\n",
    "n=len(x0)\n",
    "tau=(np.sqrt(n))*((epsilon)**(1/3))\n",
    "argumentos_NT=[fn.Himmelblau,fn.D_Himmelblau, fn.H_Himmelblau,x0,tau]\n",
    "imprime(fn.Himmelblau,n,x0,Newton_truncado,argumentos_NT)"
   ]
  },
  {
   "cell_type": "markdown",
   "metadata": {},
   "source": [
    "**Función de Rosenbrock**"
   ]
  },
  {
   "cell_type": "code",
   "execution_count": 101,
   "metadata": {},
   "outputs": [
    {
     "name": "stdout",
     "output_type": "stream",
     "text": [
      "Dimensión n =  (2,)\n",
      "f(x_0) =  24.199999999999996\n",
      "Número de iteraciones =  63\n",
      "f(x_k) =  2.8357872857637625e-15\n",
      "Primeras cuatro entradas de x_k=  [1.         0.99999999]\n",
      "Últimas cuatro entradas de x_k=  [1.         0.99999999]\n",
      "Norma del gradiente ||gk||   =  2.3662776926737386e-06\n",
      "Iteraciones promedio  =  0.7301587301587301\n",
      "Sí se cumplio el criterio de convergencia\n"
     ]
    }
   ],
   "source": [
    "x0=(-1.2,1.0)\n",
    "n=np.shape(x0)\n",
    "tau=(np.sqrt(n))*((epsilon)**(1/3))\n",
    "argumentos_NT=[fn.Rosenbrock,fn.D_Rosenbrock, fn.H_Rosenbrock,x0,tau]\n",
    "imprime(fn.Rosenbrock,n,x0,Newton_truncado,argumentos_NT)"
   ]
  },
  {
   "cell_type": "code",
   "execution_count": 102,
   "metadata": {},
   "outputs": [
    {
     "name": "stdout",
     "output_type": "stream",
     "text": [
      "Dimensión n =  (20,)\n",
      "f(x_0) =  4597.999999999999\n",
      "Número de iteraciones =  126\n",
      "f(x_k) =  2.9610787696105527e-13\n",
      "Primeras cuatro entradas de x_k=  [1. 1. 1. 1.]\n",
      "Últimas cuatro entradas de x_k=  [0.99999988 0.99999977 0.99999953 0.99999906]\n",
      "Norma del gradiente ||gk||   =  1.316761060292807e-06\n",
      "Iteraciones promedio  =  2.8492063492063493\n",
      "Sí se cumplio el criterio de convergencia\n"
     ]
    }
   ],
   "source": [
    "x0=(-1.2,1.0,-1.2,1.0,-1.2,1.0,-1.2,1.0,-1.2,1.0,-1.2,1.0,-1.2,1.0,-1.2,1.0,-1.2,1.0,-1.2,1.0)\n",
    "n=np.shape(x0)\n",
    "tau=(np.sqrt(n))*((epsilon)**(1/3))\n",
    "argumentos_NT=[fn.Rosenbrock,fn.D_Rosenbrock, fn.H_Rosenbrock,x0,tau]\n",
    "imprime(fn.Rosenbrock,n,x0,Newton_truncado,argumentos_NT)"
   ]
  },
  {
   "cell_type": "code",
   "execution_count": 103,
   "metadata": {},
   "outputs": [
    {
     "name": "stdout",
     "output_type": "stream",
     "text": [
      "Dimensión n =  (40,)\n",
      "f(x_0) =  9680.0\n",
      "Número de iteraciones =  184\n",
      "f(x_k) =  2.40629420102252e-14\n",
      "Primeras cuatro entradas de x_k=  [1. 1. 1. 1.]\n",
      "Últimas cuatro entradas de x_k=  [0.99999997 0.99999994 0.99999987 0.99999974]\n",
      "Norma del gradiente ||gk||   =  1.3405342703442557e-06\n",
      "Iteraciones promedio  =  3.505434782608696\n",
      "Sí se cumplio el criterio de convergencia\n"
     ]
    }
   ],
   "source": [
    "x0=(-1.2,1.0,-1.2,1.0,-1.2,1.0,-1.2,1.0,-1.2,1.0,-1.2,1.0,-1.2,1.0,-1.2,1.0,-1.2,1.0,-1.2,1.0,-1.2,1.0,-1.2,1.0,-1.2,1.0,-1.2,1.0,-1.2,1.0,-1.2,1.0,-1.2,1.0,-1.2,1.0,-1.2,1.0,-1.2,1.0)\n",
    "n=np.shape(x0)\n",
    "tau=(np.sqrt(n))*((epsilon)**(1/3))\n",
    "argumentos_NT=[fn.Rosenbrock,fn.D_Rosenbrock, fn.H_Rosenbrock,x0,tau]\n",
    "imprime(fn.Rosenbrock,n,x0,Newton_truncado,argumentos_NT)"
   ]
  },
  {
   "cell_type": "markdown",
   "metadata": {},
   "source": [
    "$\\color{purple}{Ejercicio \\space 2}$ <br>"
   ]
  },
  {
   "cell_type": "code",
   "execution_count": 104,
   "metadata": {},
   "outputs": [],
   "source": [
    "def forward_difference(f, x, h):\n",
    "    n = len(x)\n",
    "    grad = np.zeros(n)\n",
    "    for i in range(n):\n",
    "        x_forward = np.copy(x)\n",
    "        #sumamos h en la iesima entrada\n",
    "        x_forward[i] += h \n",
    "        #calculamos la iesima derivada parcial\n",
    "        grad[i] = (f(x_forward) - f(x)) / h \n",
    "    return grad\n",
    "\n",
    "\n",
    "def forward_difference_hessian(f, x, h):\n",
    "    n = len(x)\n",
    "    hessian = np.zeros((n, n))\n",
    "    for i in range(n):\n",
    "        for j in range(n):\n",
    "            if i <= j:\n",
    "                #vector x + he_i + he_j\n",
    "                x_ij = np.copy(x)\n",
    "                x_ij[i] += h #sumamos h en la i-esima entrada\n",
    "                x_ij[j] += h #sumamos h en la j-esima entrada\n",
    "                \n",
    "                #vector x + he_i\n",
    "                x_i= np.copy(x)\n",
    "                x_i[i] += h #sumamos h en la i-esima entrada\n",
    "\n",
    "                #vector x + he_j\n",
    "                x_j= np.copy(x) #sumamos h en la i-esima entrada\n",
    "                x_j[j] += h\n",
    "\n",
    "                hessian[i, j] = (f(x_ij)-f(x_i)-f(x_j)+f(x)) / (h**2)\n",
    "                #la matriz es simétrica:\n",
    "                hessian[j, i] = hessian[i, j]\n",
    "    return hessian\n"
   ]
  },
  {
   "cell_type": "code",
   "execution_count": 152,
   "metadata": {},
   "outputs": [],
   "source": [
    "def errorRelativo_grad(fncf, gradf, n, nt, h):\n",
    "    '''\n",
    "    Imprime estadísticas sobre el error relativo entre el gradiente analítico\n",
    "    de una función y el cálculado con autograd.\n",
    "    fncf  - Función f\n",
    "    gradf - Implementación del gradiente analítico de la función f\n",
    "    n     - Dimensión de la variable n\n",
    "    nt    - Número de puntos aleatorios en donde se comparan los gradientes \n",
    "    h     - tamaño de paso\n",
    "    '''\n",
    "    ve = np.zeros(nt)  # Arreglo para almacenar errores relativos\n",
    "    \n",
    "    g_f = grad(fncf)  # Función gradiente generada con autograd\n",
    "    for it in range(nt):\n",
    "        x0 = np.random.randn(n)\n",
    "        g0 = gradf(fncf, x0, h)\n",
    "        ga = g_f(x0)\n",
    "        ve[it] = np.linalg.norm(g0 - ga) / np.linalg.norm(ga)\n",
    "    \n",
    "    min_error = np.min(ve)\n",
    "    max_error = np.max(ve)\n",
    "    mean_error = np.mean(ve)\n",
    "    print('Min: %.2e   Media: %.2e    Max: %.2e' % (min_error, mean_error, max_error))\n",
    "    \n",
    "\n"
   ]
  },
  {
   "cell_type": "code",
   "execution_count": 165,
   "metadata": {},
   "outputs": [],
   "source": [
    "h_list=[10e-5,10e-6,10e-7,10e-8]"
   ]
  },
  {
   "cell_type": "markdown",
   "metadata": {},
   "source": [
    "**Función cuadrática con A1**"
   ]
  },
  {
   "cell_type": "code",
   "execution_count": 176,
   "metadata": {},
   "outputs": [
    {
     "name": "stdout",
     "output_type": "stream",
     "text": [
      "Para n= 10\n",
      "---------------------------------------------\n",
      "h=  0.0001\n",
      "Min: 2.92e-05   Media: 5.52e-05    Max: 1.08e-04\n",
      "\n",
      "\n",
      "h=  1e-05\n",
      "Min: 2.17e-06   Media: 5.34e-06    Max: 1.42e-05\n",
      "\n",
      "\n",
      "h=  1e-06\n",
      "Min: 2.57e-07   Media: 5.37e-07    Max: 1.03e-06\n",
      "\n",
      "\n",
      "h=  1e-07\n",
      "Min: 2.05e-08   Media: 5.51e-08    Max: 1.21e-07\n",
      "\n",
      "\n",
      "Para n= 100\n",
      "---------------------------------------------\n",
      "h=  0.0001\n",
      "Min: 4.23e-05   Media: 5.06e-05    Max: 6.02e-05\n",
      "\n",
      "\n",
      "h=  1e-05\n",
      "Min: 4.24e-06   Media: 5.07e-06    Max: 5.90e-06\n",
      "\n",
      "\n",
      "h=  1e-06\n",
      "Min: 3.90e-07   Media: 4.96e-07    Max: 5.97e-07\n",
      "\n",
      "\n",
      "h=  1e-07\n",
      "Min: 2.98e-08   Media: 1.11e-07    Max: 3.63e-07\n",
      "\n",
      "\n",
      "Para n= 1000\n",
      "---------------------------------------------\n",
      "h=  0.0001\n",
      "Min: 4.81e-05   Media: 5.01e-05    Max: 5.24e-05\n",
      "\n",
      "\n",
      "h=  1e-05\n",
      "Min: 4.64e-06   Media: 5.00e-06    Max: 5.27e-06\n",
      "\n",
      "\n",
      "h=  1e-06\n",
      "Min: 4.06e-08   Media: 4.97e-07    Max: 1.26e-06\n",
      "\n",
      "\n",
      "h=  1e-07\n",
      "Min: 3.06e-07   Media: 2.59e-06    Max: 6.93e-06\n",
      "\n",
      "\n"
     ]
    }
   ],
   "source": [
    "n_list=[10,100,1000]\n",
    "\n",
    "for n in n_list:\n",
    "    print(\"Para n=\", n)\n",
    "    print(\"---------------------------------------------\")\n",
    "    A=genera_A1(n)\n",
    "    b=np.ones(n)\n",
    "    cuadratica = lambda x: 0.5 * np.dot(x.T, np.dot(A, x)) - np.dot(b.T, x)\n",
    "    for h in h_list:\n",
    "        print(\"h= \", h)\n",
    "        errorRelativo_grad(cuadratica, forward_difference, n,100,h)\n",
    "        print(\"\\n\")"
   ]
  },
  {
   "cell_type": "markdown",
   "metadata": {},
   "source": [
    "* Para h=10\n",
    "El mejor h es 10-7\n",
    "* Para h=100\n",
    "El mejor h es 10-7\n",
    "* Para h=1000"
   ]
  },
  {
   "cell_type": "markdown",
   "metadata": {},
   "source": [
    "**Función cuadrática con A2**"
   ]
  },
  {
   "cell_type": "code",
   "execution_count": 177,
   "metadata": {},
   "outputs": [
    {
     "name": "stdout",
     "output_type": "stream",
     "text": [
      "Para n= 10\n",
      "---------------------------------------------\n",
      "h=  0.0001\n",
      "Min: 1.19e-05   Media: 3.42e-05    Max: 1.25e-04\n",
      "\n",
      "\n",
      "h=  1e-05\n",
      "Min: 1.20e-06   Media: 3.41e-06    Max: 1.35e-05\n",
      "\n",
      "\n",
      "h=  1e-06\n",
      "Min: 1.31e-07   Media: 3.86e-07    Max: 1.68e-06\n",
      "\n",
      "\n",
      "h=  1e-07\n",
      "Min: 7.28e-09   Media: 3.38e-08    Max: 1.16e-07\n",
      "\n",
      "\n",
      "Para n= 100\n",
      "---------------------------------------------\n",
      "h=  0.0001\n",
      "Min: 1.97e-05   Media: 2.70e-05    Max: 3.88e-05\n",
      "\n",
      "\n",
      "h=  1e-05\n",
      "Min: 2.00e-06   Media: 2.74e-06    Max: 3.59e-06\n",
      "\n",
      "\n",
      "h=  1e-06\n",
      "Min: 1.81e-07   Media: 2.73e-07    Max: 3.82e-07\n",
      "\n",
      "\n",
      "h=  1e-07\n",
      "Min: 1.82e-08   Media: 4.68e-08    Max: 1.05e-07\n",
      "\n",
      "\n",
      "Para n= 1000\n",
      "---------------------------------------------\n",
      "h=  0.0001\n",
      "Min: 2.39e-05   Media: 2.68e-05    Max: 3.00e-05\n",
      "\n",
      "\n",
      "h=  1e-05\n",
      "Min: 2.41e-06   Media: 2.66e-06    Max: 2.94e-06\n",
      "\n",
      "\n",
      "h=  1e-06\n",
      "Min: 2.18e-07   Media: 2.73e-07    Max: 3.20e-07\n",
      "\n",
      "\n",
      "h=  1e-07\n",
      "Min: 2.39e-07   Media: 3.62e-07    Max: 7.31e-07\n",
      "\n",
      "\n"
     ]
    }
   ],
   "source": [
    "n_list=[10,100,1000]\n",
    "\n",
    "for n in n_list:\n",
    "    print(\"Para n=\", n)\n",
    "    print(\"---------------------------------------------\")\n",
    "    A=genera_A2(n)\n",
    "    b=np.ones(n)\n",
    "    cuadratica = lambda x: 0.5 * np.dot(x.T, np.dot(A, x)) - np.dot(b.T, x)\n",
    "    for h in h_list:\n",
    "        print(\"h= \", h)\n",
    "        errorRelativo_grad(cuadratica, forward_difference, n,100,h)\n",
    "        print(\"\\n\")"
   ]
  },
  {
   "cell_type": "markdown",
   "metadata": {},
   "source": [
    "* Para h=10\n",
    "* Para h=100\n",
    "* Para h=1000"
   ]
  },
  {
   "cell_type": "markdown",
   "metadata": {},
   "source": [
    "**Función de Beale**"
   ]
  },
  {
   "cell_type": "code",
   "execution_count": 164,
   "metadata": {},
   "outputs": [
    {
     "name": "stdout",
     "output_type": "stream",
     "text": [
      "Para n= 2\n",
      "h=  0.0001\n",
      "Min: 2.04e-05   Media: 9.61e-05    Max: 1.25e-03\n",
      "\n",
      "\n",
      "h=  1e-05\n",
      "Min: 8.07e-07   Media: 1.25e-05    Max: 1.88e-04\n",
      "\n",
      "\n",
      "h=  1e-06\n",
      "Min: 1.18e-07   Media: 1.45e-06    Max: 5.16e-05\n",
      "\n",
      "\n",
      "h=  1e-07\n",
      "Min: 5.23e-09   Media: 1.03e-07    Max: 1.44e-06\n",
      "\n",
      "\n"
     ]
    }
   ],
   "source": [
    "x0=(2,3)\n",
    "n=len(x0)\n",
    "print(\"Para n=\", n)\n",
    "for h in h_list:\n",
    "    print(\"h= \", h)\n",
    "    errorRelativo_grad(fn.Beale, forward_difference, n,100,h)\n",
    "    print(\"\\n\")"
   ]
  },
  {
   "cell_type": "markdown",
   "metadata": {},
   "source": [
    "**Función de Himmelblau** "
   ]
  },
  {
   "cell_type": "code",
   "execution_count": 167,
   "metadata": {},
   "outputs": [
    {
     "name": "stdout",
     "output_type": "stream",
     "text": [
      "Para n= 2\n",
      "h=  0.0001\n",
      "Min: 6.08e-06   Media: 7.75e-05    Max: 6.05e-04\n",
      "\n",
      "\n",
      "h=  1e-05\n",
      "Min: 5.04e-07   Media: 8.22e-06    Max: 7.26e-05\n",
      "\n",
      "\n",
      "h=  1e-06\n",
      "Min: 5.64e-08   Media: 8.17e-07    Max: 6.67e-06\n",
      "\n",
      "\n",
      "h=  1e-07\n",
      "Min: 1.01e-08   Media: 6.80e-08    Max: 4.31e-07\n",
      "\n",
      "\n"
     ]
    }
   ],
   "source": [
    "x0=(2,4)\n",
    "n=len(x0)\n",
    "print(\"Para n=\", n)\n",
    "for h in h_list:\n",
    "    print(\"h= \", h)\n",
    "    errorRelativo_grad(fn.Himmelblau, forward_difference, n,100,h)\n",
    "    print(\"\\n\")"
   ]
  },
  {
   "cell_type": "markdown",
   "metadata": {},
   "source": [
    "**Función de Rosenbrock**"
   ]
  },
  {
   "cell_type": "code",
   "execution_count": 172,
   "metadata": {},
   "outputs": [
    {
     "name": "stdout",
     "output_type": "stream",
     "text": [
      "Para n= 2\n",
      "---------------------------------------------\n",
      "h=  0.0001\n",
      "Min: 3.15e-05   Media: 2.14e-04    Max: 5.45e-03\n",
      "\n",
      "\n",
      "h=  1e-05\n",
      "Min: 2.31e-06   Media: 1.38e-05    Max: 1.47e-04\n",
      "\n",
      "\n",
      "h=  1e-06\n",
      "Min: 2.66e-07   Media: 2.54e-06    Max: 4.18e-05\n",
      "\n",
      "\n",
      "h=  1e-07\n",
      "Min: 4.72e-08   Media: 1.96e-07    Max: 1.79e-06\n",
      "\n",
      "\n",
      "Para n= 20\n",
      "---------------------------------------------\n",
      "h=  0.0001\n",
      "Min: 4.77e-05   Media: 7.52e-05    Max: 1.12e-04\n",
      "\n",
      "\n",
      "h=  1e-05\n",
      "Min: 4.55e-06   Media: 7.56e-06    Max: 1.38e-05\n",
      "\n",
      "\n",
      "h=  1e-06\n",
      "Min: 4.76e-07   Media: 7.35e-07    Max: 1.28e-06\n",
      "\n",
      "\n",
      "h=  1e-07\n",
      "Min: 4.21e-08   Media: 7.50e-08    Max: 1.37e-07\n",
      "\n",
      "\n",
      "Para n= 40\n",
      "---------------------------------------------\n",
      "h=  0.0001\n",
      "Min: 4.30e-05   Media: 6.94e-05    Max: 1.09e-04\n",
      "\n",
      "\n",
      "h=  1e-05\n",
      "Min: 3.81e-06   Media: 6.96e-06    Max: 1.02e-05\n",
      "\n",
      "\n",
      "h=  1e-06\n",
      "Min: 3.90e-07   Media: 7.09e-07    Max: 1.02e-06\n",
      "\n",
      "\n",
      "h=  1e-07\n",
      "Min: 4.09e-08   Media: 6.88e-08    Max: 1.06e-07\n",
      "\n",
      "\n"
     ]
    }
   ],
   "source": [
    "x0_list=[(-1.2,1.0),(-1.2,1.0,-1.2,1.0,-1.2,1.0,-1.2,1.0,-1.2,1.0,-1.2,1.0,-1.2,1.0,-1.2,1.0,-1.2,1.0,-1.2,1.0),(-1.2,1.0,-1.2,1.0,-1.2,1.0,-1.2,1.0,-1.2,1.0,-1.2,1.0,-1.2,1.0,-1.2,1.0,-1.2,1.0,-1.2,1.0,-1.2,1.0,-1.2,1.0,-1.2,1.0,-1.2,1.0,-1.2,1.0,-1.2,1.0,-1.2,1.0,-1.2,1.0,-1.2,1.0,-1.2,1.0)]\n",
    "\n",
    "for x0 in x0_list:\n",
    "    n=len(x0)\n",
    "    print(\"Para n=\", n)\n",
    "    print(\"---------------------------------------------\")\n",
    "    for h in h_list:\n",
    "        print(\"h= \", h)\n",
    "        errorRelativo_grad(fn.Rosenbrock, forward_difference, n,100,h)\n",
    "        print(\"\\n\")"
   ]
  },
  {
   "cell_type": "markdown",
   "metadata": {},
   "source": [
    "$\\color{purple}{Ejercicio \\space 3}$ <br>"
   ]
  },
  {
   "cell_type": "markdown",
   "metadata": {},
   "source": [
    "Paper:\n",
    "\n",
    "    Nonlinear conjugate gradient for smooth convex function\n",
    "\n",
    "Integrantes:\n",
    "* Ramon Orlando Ruíz Olais, MCC CIMAT\n",
    "* Yesenia Sarahi Garcia Gonzalez, MCC CIMAT\n",
    "\n"
   ]
  },
  {
   "cell_type": "markdown",
   "metadata": {},
   "source": []
  }
 ],
 "metadata": {
  "kernelspec": {
   "display_name": "Python 3",
   "language": "python",
   "name": "python3"
  },
  "language_info": {
   "codemirror_mode": {
    "name": "ipython",
    "version": 3
   },
   "file_extension": ".py",
   "mimetype": "text/x-python",
   "name": "python",
   "nbconvert_exporter": "python",
   "pygments_lexer": "ipython3",
   "version": "3.11.7"
  }
 },
 "nbformat": 4,
 "nbformat_minor": 2
}
