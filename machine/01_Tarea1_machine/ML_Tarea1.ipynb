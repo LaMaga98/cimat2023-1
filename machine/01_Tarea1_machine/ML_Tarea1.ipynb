{
 "cells": [
  {
   "cell_type": "markdown",
   "metadata": {},
   "source": [
    "$$\\textbf{Machine Learning. Tarea 1: Métodos de descenso para Funciones de base radial}$$\n",
    "$$\\textit{Y. Sarahi García Gozález}$$"
   ]
  },
  {
   "cell_type": "code",
   "execution_count": 138,
   "metadata": {},
   "outputs": [],
   "source": [
    "import numpy as np\n",
    "import matplotlib.pyplot as plt\n",
    "import pandas as pd\n",
    "from PIL import Image\n",
    "import cv2"
   ]
  },
  {
   "cell_type": "markdown",
   "metadata": {},
   "source": [
    "<font size=4 color='mediumslateblue'>  \n",
    "\n",
    "$\\textit{Librerías}$"
   ]
  },
  {
   "cell_type": "code",
   "execution_count": 139,
   "metadata": {},
   "outputs": [
    {
     "name": "stdout",
     "output_type": "stream",
     "text": [
      "Tarea realizada en MacOs. \n",
      "Las versiones de las librerías y de python utilizadas fueron:\n",
      "\n",
      "Python version: 3.11.5\n",
      "NumPy version: 1.23.5\n",
      "Pandas version: 2.1.4\n"
     ]
    }
   ],
   "source": [
    "print(\"Tarea realizada en MacOs. \\nLas versiones de las librerías y de python utilizadas fueron:\\n\")\n",
    "from platform import python_version\n",
    "print(\"Python version:\", python_version())\n",
    "print(\"NumPy version:\", np.__version__)\n",
    "print(\"Pandas version:\", pd.__version__)\n"
   ]
  },
  {
   "cell_type": "markdown",
   "metadata": {},
   "source": [
    "<font size=4 color='mediumslateblue'>  \n",
    "\n",
    "$\\textit{Prepocesamiento de la imagen}$"
   ]
  },
  {
   "cell_type": "code",
   "execution_count": 140,
   "metadata": {},
   "outputs": [],
   "source": [
    "#leemos la imagen\n",
    "Lena = Image.open(\"Lena_image.png\")\n",
    "#obtenemos la matriz\n",
    "lena_matrix = np.array(Lena)\n",
    "#normalizamos\n",
    "lena_matrix=lena_matrix/np.max(lena_matrix)\n",
    "#convertimos a vector\n",
    "lena_vector = lena_matrix.flatten()"
   ]
  },
  {
   "cell_type": "code",
   "execution_count": 141,
   "metadata": {},
   "outputs": [
    {
     "name": "stdout",
     "output_type": "stream",
     "text": [
      "(256, 256)\n"
     ]
    }
   ],
   "source": [
    "print(lena_matrix.shape) # (256, 256)"
   ]
  },
  {
   "cell_type": "code",
   "execution_count": 142,
   "metadata": {},
   "outputs": [
    {
     "name": "stdout",
     "output_type": "stream",
     "text": [
      "[[0.18333333 0.18333333 0.05833333 ... 0.40833333 0.40833333 0.01666667]\n",
      " [0.18333333 0.18333333 0.05833333 ... 0.43333333 0.40833333 0.01666667]\n",
      " [0.24166667 0.         0.00833333 ... 0.10833333 0.125      0.575     ]\n",
      " ...\n",
      " [0.25       0.15       0.21666667 ... 0.45       0.38333333 0.44166667]\n",
      " [0.25833333 0.15       0.15       ... 0.26666667 0.23333333 0.15833333]\n",
      " [0.20833333 0.14166667 0.15       ... 0.23333333 0.23333333 0.33333333]]\n"
     ]
    }
   ],
   "source": [
    "print(lena_matrix) # los valores están entre o y 1"
   ]
  },
  {
   "cell_type": "code",
   "execution_count": 143,
   "metadata": {},
   "outputs": [
    {
     "data": {
      "text/plain": [
       "(65536,)"
      ]
     },
     "execution_count": 143,
     "metadata": {},
     "output_type": "execute_result"
    }
   ],
   "source": [
    "lena_vector.shape #256*256=65,536"
   ]
  },
  {
   "cell_type": "code",
   "execution_count": 144,
   "metadata": {},
   "outputs": [
    {
     "data": {
      "text/plain": [
       "array([0.18333333, 0.18333333, 0.05833333, ..., 0.23333333, 0.23333333,\n",
       "       0.33333333])"
      ]
     },
     "execution_count": 144,
     "metadata": {},
     "output_type": "execute_result"
    }
   ],
   "source": [
    "lena_vector"
   ]
  },
  {
   "cell_type": "markdown",
   "metadata": {},
   "source": [
    "Buscamos aproximar la imagen anterior pensandola como una función $f$ que a cada pixel $x=(x_1,x_2)$ le asigna un valor entre 0 y 1. Dicha aproximación se hará mediante una suma de funciones:\n",
    "\n",
    "$$f(x) = \\sum_{j=1}^J \\alpha_j \\phi(x; \\theta_j) + \\eta(x) $$ \n",
    "\n",
    "con $\\eta(x)$ un residual"
   ]
  },
  {
   "cell_type": "code",
   "execution_count": 153,
   "metadata": {},
   "outputs": [],
   "source": [
    "# Definición de laa funciones base y us gradientes\n",
    "def base_gaussiana(x, theta, kappa):\n",
    "    r2 = (x - theta)**2\n",
    "    return np.exp(-kappa * r2)\n",
    "\n",
    "def grad_gaussiana (x, theta, kappa):\n",
    "    r2 = (x - theta)**2\n",
    "    return kappa*(2*x - 2*theta)*(np.exp(-kappa*r2))\n",
    "\n",
    "def base_multiquadrica(x, theta, kappa):\n",
    "    r2 = (x - theta)**2\n",
    "    return np.sqrt(r2+kappa)\n",
    "\n",
    "def grad_multiquadrica(x, theta, kappa):\n",
    "    r2 = (x - theta)**2\n",
    "    resultado = -(x - theta) / np.sqrt(kappa + r2)\n",
    "    return resultado\n"
   ]
  },
  {
   "cell_type": "markdown",
   "metadata": {},
   "source": [
    "<font size=4 color='mediumslateblue'>  \n",
    "\n",
    "$\\textit{Parte 1}$"
   ]
  },
  {
   "cell_type": "code",
   "execution_count": 157,
   "metadata": {},
   "outputs": [],
   "source": [
    "def genera_phi(theta,f_base,imagen_vector,kappa):\n",
    "    '''\n",
    "\n",
    "    '''\n",
    "    N2=len(imagen_vector)\n",
    "    J=len(theta)\n",
    "    phi=np.zeros((N2,J))\n",
    "\n",
    "    for j in range(J):\n",
    "        phi[:,j]=np.array([f_base(i, theta[j],kappa) for i in range(N2)])\n",
    "\n",
    "    return phi"
   ]
  },
  {
   "cell_type": "code",
   "execution_count": 158,
   "metadata": {},
   "outputs": [],
   "source": [
    "J=20\n",
    "theta = np.random.uniform(low=0, high=1, size = J)\n",
    "kappa=0.1\n",
    "Phi=genera_phi(theta,base_multiquadrica,lena_vector,kappa)\n",
    "\n"
   ]
  },
  {
   "cell_type": "code",
   "execution_count": 159,
   "metadata": {},
   "outputs": [
    {
     "data": {
      "text/plain": [
       "(65536, 20)"
      ]
     },
     "execution_count": 159,
     "metadata": {},
     "output_type": "execute_result"
    }
   ],
   "source": [
    "Phi.shape"
   ]
  },
  {
   "cell_type": "code",
   "execution_count": 160,
   "metadata": {},
   "outputs": [
    {
     "data": {
      "text/plain": [
       "array([0.10788725, 0.55979066, 0.61579066, 0.82379337, 0.56378538,\n",
       "       0.99481439, 0.12587708, 0.40380765, 0.41729809, 0.3624047 ,\n",
       "       0.45889985, 0.17353278, 0.71407808, 0.22233647, 0.12530818,\n",
       "       0.39249197, 0.51489843, 0.3670855 , 0.80902706, 0.20024711])"
      ]
     },
     "execution_count": 160,
     "metadata": {},
     "output_type": "execute_result"
    }
   ],
   "source": [
    "theta"
   ]
  },
  {
   "cell_type": "code",
   "execution_count": 161,
   "metadata": {},
   "outputs": [],
   "source": [
    "# Calcula la pseudoinversa de Moore-Penrose de phi\n",
    "phi_pseudoinv = np.linalg.pinv(Phi)\n",
    "# Resuelve el sistema utilizando la pseudoinversa de Moore-Penrose\n",
    "alpha = np.dot(phi_pseudoinv, lena_vector )"
   ]
  },
  {
   "cell_type": "code",
   "execution_count": 162,
   "metadata": {},
   "outputs": [],
   "source": [
    "aproximacion=np.dot(Phi,alpha)"
   ]
  },
  {
   "cell_type": "code",
   "execution_count": 163,
   "metadata": {},
   "outputs": [],
   "source": [
    "# Convierte el vector a una matriz\n",
    "matriz = np.reshape(lena_vector, (256, 256))\n",
    "# Escala la matriz a valores entre 0 y 255 (0 corresponde a negro y 255 a blanco)\n",
    "matriz = (matriz - np.min(matriz)) / (np.max(matriz) - np.min(matriz)) * 255\n",
    "# Convierte la matriz a tipo de datos entero\n",
    "matriz = matriz.astype(np.uint8)\n",
    "# Crea la imagen a partir de la matriz\n",
    "imagen = cv2.cvtColor(matriz,cv2.COLOR_GRAY2BGR)"
   ]
  },
  {
   "cell_type": "code",
   "execution_count": 164,
   "metadata": {},
   "outputs": [
    {
     "data": {
      "text/plain": [
       "True"
      ]
     },
     "execution_count": 164,
     "metadata": {},
     "output_type": "execute_result"
    }
   ],
   "source": [
    "cv2.imwrite(\"imagen_generada6.png\", imagen)"
   ]
  },
  {
   "cell_type": "code",
   "execution_count": 155,
   "metadata": {},
   "outputs": [
    {
     "data": {
      "text/plain": [
       "(65536, 20)"
      ]
     },
     "execution_count": 155,
     "metadata": {},
     "output_type": "execute_result"
    }
   ],
   "source": [
    "np.shape(Phi)"
   ]
  },
  {
   "cell_type": "markdown",
   "metadata": {},
   "source": [
    "<font size=4 color='mediumslateblue'>  \n",
    "\n",
    "$\\textit{Parte 2}$"
   ]
  },
  {
   "cell_type": "code",
   "execution_count": null,
   "metadata": {},
   "outputs": [],
   "source": [
    "def grad_phi(phi,theta):\n",
    "    N2,J=np.shape(phi)\n",
    "    phi_grad=np.zeros((N2,J))\n",
    "\n",
    "    for i in range(N2):\n",
    "        for j in range(J):\n",
    "            phi_grad[i][j]=(theta[j]-i)/phi[i][j]\n",
    "    \n",
    "    return(phi_grad)\n",
    "\n",
    "\n",
    "\n",
    "def grad_funcion_costo(alpha,phi,x,f):\n",
    "    grad = phi.T@(phi@x - f)\n",
    "\n",
    "def genera_phi(theta,f_base,imagen_vector,kappa):\n",
    "    '''\n",
    "\n",
    "    '''\n",
    "    N2=len(imagen_vector)\n",
    "    J=len(theta)\n",
    "    phi=np.zeros((N2,J))\n",
    "\n",
    "    for j in range(J):\n",
    "        phi[:,j]=np.array([f_base(x, theta[j],kappa) for x in imagen_vector])\n",
    "\n",
    "    return phi"
   ]
  },
  {
   "cell_type": "code",
   "execution_count": 154,
   "metadata": {},
   "outputs": [
    {
     "ename": "SyntaxError",
     "evalue": "incomplete input (4220602832.py, line 2)",
     "output_type": "error",
     "traceback": [
      "\u001b[0;36m  Cell \u001b[0;32mIn[154], line 2\u001b[0;36m\u001b[0m\n\u001b[0;31m    \u001b[0m\n\u001b[0m    ^\u001b[0m\n\u001b[0;31mSyntaxError\u001b[0m\u001b[0;31m:\u001b[0m incomplete input\n"
     ]
    }
   ],
   "source": [
    "def gradient_descent():\n",
    "    "
   ]
  },
  {
   "cell_type": "markdown",
   "metadata": {},
   "source": []
  }
 ],
 "metadata": {
  "kernelspec": {
   "display_name": "Python 3",
   "language": "python",
   "name": "python3"
  },
  "language_info": {
   "codemirror_mode": {
    "name": "ipython",
    "version": 3
   },
   "file_extension": ".py",
   "mimetype": "text/x-python",
   "name": "python",
   "nbconvert_exporter": "python",
   "pygments_lexer": "ipython3",
   "version": "3.11.5"
  }
 },
 "nbformat": 4,
 "nbformat_minor": 2
}
