{
  "metadata": {
    "kernelspec": {
      "language": "python",
      "display_name": "Python 3",
      "name": "python3"
    },
    "language_info": {
      "pygments_lexer": "ipython3",
      "nbconvert_exporter": "python",
      "version": "3.6.4",
      "file_extension": ".py",
      "codemirror_mode": {
        "name": "ipython",
        "version": 3
      },
      "name": "python",
      "mimetype": "text/x-python"
    },
    "colab": {
      "provenance": []
    }
  },
  "nbformat_minor": 0,
  "nbformat": 4,
  "cells": [
    {
      "source": [
        "\n",
        "# IMPORTANT: RUN THIS CELL IN ORDER TO IMPORT YOUR KAGGLE DATA SOURCES\n",
        "# TO THE CORRECT LOCATION (/kaggle/input) IN YOUR NOTEBOOK,\n",
        "# THEN FEEL FREE TO DELETE THIS CELL.\n",
        "# NOTE: THIS NOTEBOOK ENVIRONMENT DIFFERS FROM KAGGLE'S PYTHON\n",
        "# ENVIRONMENT SO THERE MAY BE MISSING LIBRARIES USED BY YOUR\n",
        "# NOTEBOOK.\n",
        "\n",
        "import os\n",
        "import sys\n",
        "from tempfile import NamedTemporaryFile\n",
        "from urllib.request import urlopen\n",
        "from urllib.parse import unquote, urlparse\n",
        "from urllib.error import HTTPError\n",
        "from zipfile import ZipFile\n",
        "import tarfile\n",
        "import shutil\n",
        "\n",
        "CHUNK_SIZE = 40960\n",
        "DATA_SOURCE_MAPPING = 'human-activity-recognition-with-smartphones:https%3A%2F%2Fstorage.googleapis.com%2Fkaggle-data-sets%2F226%2F793070%2Fbundle%2Farchive.zip%3FX-Goog-Algorithm%3DGOOG4-RSA-SHA256%26X-Goog-Credential%3Dgcp-kaggle-com%2540kaggle-161607.iam.gserviceaccount.com%252F20240520%252Fauto%252Fstorage%252Fgoog4_request%26X-Goog-Date%3D20240520T171207Z%26X-Goog-Expires%3D259200%26X-Goog-SignedHeaders%3Dhost%26X-Goog-Signature%3D435ca2652983a8289fe2e45c2a53dfedb05d8c23905c5f0c536a7c06a3df58e28b1e03eddd13031f3db06f4875e10731a46d4be3bf806bd4133ef76de9b8469476ebe465195a83261d6b884a5d9e43cbf26e75c196e9b7d4b0a663725c7b6b1456d7098ad580d04cf05994b57ab530d8c0d7ecc1ccee9b8a429e48639881945e6e9fee9c33f1b791b7e314ee5b2d2615e07b91defbb41662600013f73ec9cf59f0e109e5e033b319600a942ef5f02b0a0b38c0a5482a92103f93cfe8ee01692017aa2aa42673ac268ab54be4ac6e1d87d483e3a99aa3fd2c8ab785a2990ddf1f1739eb07070277803d3126a6fa8a2276f7778a69d74cc2453534090d0147a16f'\n",
        "\n",
        "KAGGLE_INPUT_PATH='/kaggle/input'\n",
        "KAGGLE_WORKING_PATH='/kaggle/working'\n",
        "KAGGLE_SYMLINK='kaggle'\n",
        "\n",
        "!umount /kaggle/input/ 2> /dev/null\n",
        "shutil.rmtree('/kaggle/input', ignore_errors=True)\n",
        "os.makedirs(KAGGLE_INPUT_PATH, 0o777, exist_ok=True)\n",
        "os.makedirs(KAGGLE_WORKING_PATH, 0o777, exist_ok=True)\n",
        "\n",
        "try:\n",
        "  os.symlink(KAGGLE_INPUT_PATH, os.path.join(\"..\", 'input'), target_is_directory=True)\n",
        "except FileExistsError:\n",
        "  pass\n",
        "try:\n",
        "  os.symlink(KAGGLE_WORKING_PATH, os.path.join(\"..\", 'working'), target_is_directory=True)\n",
        "except FileExistsError:\n",
        "  pass\n",
        "\n",
        "for data_source_mapping in DATA_SOURCE_MAPPING.split(','):\n",
        "    directory, download_url_encoded = data_source_mapping.split(':')\n",
        "    download_url = unquote(download_url_encoded)\n",
        "    filename = urlparse(download_url).path\n",
        "    destination_path = os.path.join(KAGGLE_INPUT_PATH, directory)\n",
        "    try:\n",
        "        with urlopen(download_url) as fileres, NamedTemporaryFile() as tfile:\n",
        "            total_length = fileres.headers['content-length']\n",
        "            print(f'Downloading {directory}, {total_length} bytes compressed')\n",
        "            dl = 0\n",
        "            data = fileres.read(CHUNK_SIZE)\n",
        "            while len(data) > 0:\n",
        "                dl += len(data)\n",
        "                tfile.write(data)\n",
        "                done = int(50 * dl / int(total_length))\n",
        "                sys.stdout.write(f\"\\r[{'=' * done}{' ' * (50-done)}] {dl} bytes downloaded\")\n",
        "                sys.stdout.flush()\n",
        "                data = fileres.read(CHUNK_SIZE)\n",
        "            if filename.endswith('.zip'):\n",
        "              with ZipFile(tfile) as zfile:\n",
        "                zfile.extractall(destination_path)\n",
        "            else:\n",
        "              with tarfile.open(tfile.name) as tarfile:\n",
        "                tarfile.extractall(destination_path)\n",
        "            print(f'\\nDownloaded and uncompressed: {directory}')\n",
        "    except HTTPError as e:\n",
        "        print(f'Failed to load (likely expired) {download_url} to path {destination_path}')\n",
        "        continue\n",
        "    except OSError as e:\n",
        "        print(f'Failed to load {download_url} to path {destination_path}')\n",
        "        continue\n",
        "\n",
        "print('Data source import complete.')\n"
      ],
      "metadata": {
        "id": "4ej-a0fR_UKw",
        "colab": {
          "base_uri": "https://localhost:8080/"
        },
        "outputId": "76524dc6-6ba8-4e77-8716-024d8331654d"
      },
      "cell_type": "code",
      "outputs": [
        {
          "output_type": "stream",
          "name": "stdout",
          "text": [
            "Downloading human-activity-recognition-with-smartphones, 25693584 bytes compressed\n",
            "[==================================================] 25693584 bytes downloaded\n",
            "Downloaded and uncompressed: human-activity-recognition-with-smartphones\n",
            "Data source import complete.\n"
          ]
        }
      ],
      "execution_count": 1
    },
    {
      "cell_type": "markdown",
      "source": [
        "<h1 style=\" text-align:center; font-size:40px;\"> <u><b>Human Activity Recognition Using Neural Networks</b></u> </h1>\n",
        "\n",
        "<p style=\"text-align:center; \">\n",
        "<img src=\"https://dmtyylqvwgyxw.cloudfront.net/instances/132/uploads/images/custom_image/image/675/normal_Human_activity_recognition.jpg?v=1541506221\" style='width: 800px;'>\n",
        "</p>\n"
      ],
      "metadata": {
        "id": "moixA9v0_UKz"
      }
    },
    {
      "cell_type": "markdown",
      "source": [
        "# About The Data\n",
        "\n",
        "Description of experiment\n",
        "The experiments have been carried out with a group of 30 volunteers within an age bracket of 19-48 years. Each person performed six activities (WALKING, WALKINGUPSTAIRS, WALKINGDOWNSTAIRS, SITTING, STANDING, LAYING) wearing a smartphone (Samsung Galaxy S II) on the waist. Using its embedded accelerometer and gyroscope, we captured 3-axial linear acceleration and 3-axial angular velocity at a constant rate of 50Hz. The experiments have been video-recorded to label the data manually. The obtained dataset has been randomly partitioned into two sets, where 70% of the volunteers was selected for generating the training data and 30% the test data.\n",
        "\n",
        "The sensor signals (accelerometer and gyroscope) were pre-processed by applying noise filters and then sampled in fixed-width sliding windows of 2.56 sec and 50% overlap (128 readings/window). The sensor acceleration signal, which has gravitational and body motion components, was separated using a Butterworth low-pass filter into body acceleration and gravity. The gravitational force is assumed to have only low frequency components, therefore a filter with 0.3 Hz cutoff frequency was used. From each window, a vector of features was obtained by calculating variables from the time and frequency domain.\n",
        "\n",
        "For each record in the dataset the following is provided:\n",
        "\n",
        "* Triaxial acceleration from the accelerometer (total acceleration) and the estimated body acceleration.\n",
        "\n",
        "* Triaxial Angular velocity from the gyroscope.\n",
        "\n",
        "* A 561-feature vector with time and frequency domain variables.\n",
        "\n",
        "* Its activity label.\n",
        "\n",
        "* An identifier of the subject who carried out the experiment."
      ],
      "metadata": {
        "id": "6WgQydjE_UK0"
      }
    },
    {
      "cell_type": "markdown",
      "source": [
        "## Importing The Modules"
      ],
      "metadata": {
        "id": "cQU0VQ7l_UK0"
      }
    },
    {
      "cell_type": "code",
      "source": [
        "import numpy as np\n",
        "import pandas as pd\n",
        "import matplotlib.pyplot as plt\n",
        "import seaborn as sns\n",
        "import numpy as np # linear algebra\n",
        "import pandas as pd # data processing, CSV file I/O (e.g. pd.read_csv)\n",
        "from sklearn.preprocessing import MinMaxScaler\n",
        "from sklearn.preprocessing import LabelEncoder\n",
        "import matplotlib.pyplot as plt\n",
        "import seaborn as sns\n",
        "from keras.models import Sequential\n",
        "from keras.layers import Dense,Dropout\n",
        "from kerastuner.tuners import RandomSearch\n",
        "from kerastuner.engine.hyperparameters import HyperParameters\n",
        "import os\n",
        "import warnings\n",
        "from tensorflow import keras\n",
        "from tensorflow.keras import layers\n",
        "from kerastuner.tuners import RandomSearch\n",
        "warnings.filterwarnings('ignore')"
      ],
      "metadata": {
        "execution": {
          "iopub.status.busy": "2021-11-10T08:51:45.367277Z",
          "iopub.execute_input": "2021-11-10T08:51:45.367671Z",
          "iopub.status.idle": "2021-11-10T08:51:51.101412Z",
          "shell.execute_reply.started": "2021-11-10T08:51:45.367587Z",
          "shell.execute_reply": "2021-11-10T08:51:51.100276Z"
        },
        "trusted": true,
        "id": "oYYDJhah_UK0",
        "colab": {
          "base_uri": "https://localhost:8080/",
          "height": 378
        },
        "outputId": "5d5908a5-a9f3-4260-950f-6e09faf88358"
      },
      "execution_count": 2,
      "outputs": [
        {
          "output_type": "error",
          "ename": "ModuleNotFoundError",
          "evalue": "No module named 'kerastuner'",
          "traceback": [
            "\u001b[0;31m---------------------------------------------------------------------------\u001b[0m",
            "\u001b[0;31mModuleNotFoundError\u001b[0m                       Traceback (most recent call last)",
            "\u001b[0;32m<ipython-input-2-6d4ffc588054>\u001b[0m in \u001b[0;36m<cell line: 13>\u001b[0;34m()\u001b[0m\n\u001b[1;32m     11\u001b[0m \u001b[0;32mfrom\u001b[0m \u001b[0mkeras\u001b[0m\u001b[0;34m.\u001b[0m\u001b[0mmodels\u001b[0m \u001b[0;32mimport\u001b[0m \u001b[0mSequential\u001b[0m\u001b[0;34m\u001b[0m\u001b[0;34m\u001b[0m\u001b[0m\n\u001b[1;32m     12\u001b[0m \u001b[0;32mfrom\u001b[0m \u001b[0mkeras\u001b[0m\u001b[0;34m.\u001b[0m\u001b[0mlayers\u001b[0m \u001b[0;32mimport\u001b[0m \u001b[0mDense\u001b[0m\u001b[0;34m,\u001b[0m\u001b[0mDropout\u001b[0m\u001b[0;34m\u001b[0m\u001b[0;34m\u001b[0m\u001b[0m\n\u001b[0;32m---> 13\u001b[0;31m \u001b[0;32mfrom\u001b[0m \u001b[0mkerastuner\u001b[0m\u001b[0;34m.\u001b[0m\u001b[0mtuners\u001b[0m \u001b[0;32mimport\u001b[0m \u001b[0mRandomSearch\u001b[0m\u001b[0;34m\u001b[0m\u001b[0;34m\u001b[0m\u001b[0m\n\u001b[0m\u001b[1;32m     14\u001b[0m \u001b[0;32mfrom\u001b[0m \u001b[0mkerastuner\u001b[0m\u001b[0;34m.\u001b[0m\u001b[0mengine\u001b[0m\u001b[0;34m.\u001b[0m\u001b[0mhyperparameters\u001b[0m \u001b[0;32mimport\u001b[0m \u001b[0mHyperParameters\u001b[0m\u001b[0;34m\u001b[0m\u001b[0;34m\u001b[0m\u001b[0m\n\u001b[1;32m     15\u001b[0m \u001b[0;32mimport\u001b[0m \u001b[0mos\u001b[0m\u001b[0;34m\u001b[0m\u001b[0;34m\u001b[0m\u001b[0m\n",
            "\u001b[0;31mModuleNotFoundError\u001b[0m: No module named 'kerastuner'",
            "",
            "\u001b[0;31m---------------------------------------------------------------------------\u001b[0;32m\nNOTE: If your import is failing due to a missing package, you can\nmanually install dependencies using either !pip or !apt.\n\nTo view examples of installing some common dependencies, click the\n\"Open Examples\" button below.\n\u001b[0;31m---------------------------------------------------------------------------\u001b[0m\n"
          ],
          "errorDetails": {
            "actions": [
              {
                "action": "open_url",
                "actionText": "Open Examples",
                "url": "/notebooks/snippets/importing_libraries.ipynb"
              }
            ]
          }
        }
      ]
    },
    {
      "cell_type": "markdown",
      "source": [],
      "metadata": {
        "id": "38HPfXtD_UK0"
      }
    },
    {
      "cell_type": "markdown",
      "source": [
        "## Reading The Data"
      ],
      "metadata": {
        "id": "Ku4xndBM_UK1"
      }
    },
    {
      "cell_type": "code",
      "source": [
        "train_data = pd.read_csv('../input/human-activity-recognition-with-smartphones/train.csv')\n",
        "test_data = pd.read_csv('../input/human-activity-recognition-with-smartphones/test.csv')\n",
        "\n",
        "print(f'Shape of train data is: {train_data.shape}\\nShape of test data is: {test_data.shape}')"
      ],
      "metadata": {
        "execution": {
          "iopub.status.busy": "2021-11-10T08:51:51.102641Z",
          "iopub.execute_input": "2021-11-10T08:51:51.102906Z",
          "iopub.status.idle": "2021-11-10T08:51:52.975165Z",
          "shell.execute_reply.started": "2021-11-10T08:51:51.102878Z",
          "shell.execute_reply": "2021-11-10T08:51:52.974177Z"
        },
        "trusted": true,
        "id": "eTB07-01_UK2"
      },
      "execution_count": null,
      "outputs": []
    },
    {
      "cell_type": "markdown",
      "source": [
        "## Some Analysis"
      ],
      "metadata": {
        "id": "H3ru6OiY_UK2"
      }
    },
    {
      "cell_type": "code",
      "source": [
        "pd.set_option(\"display.max_columns\", None)\n"
      ],
      "metadata": {
        "execution": {
          "iopub.status.busy": "2021-11-10T08:51:52.976663Z",
          "iopub.execute_input": "2021-11-10T08:51:52.97693Z",
          "iopub.status.idle": "2021-11-10T08:51:52.981233Z",
          "shell.execute_reply.started": "2021-11-10T08:51:52.976902Z",
          "shell.execute_reply": "2021-11-10T08:51:52.980306Z"
        },
        "trusted": true,
        "id": "Az8ZoPgT_UK2"
      },
      "execution_count": null,
      "outputs": []
    },
    {
      "cell_type": "code",
      "source": [
        "train_data.head()"
      ],
      "metadata": {
        "execution": {
          "iopub.status.busy": "2021-11-10T08:51:52.982618Z",
          "iopub.execute_input": "2021-11-10T08:51:52.982868Z",
          "iopub.status.idle": "2021-11-10T08:51:53.398202Z",
          "shell.execute_reply.started": "2021-11-10T08:51:52.982843Z",
          "shell.execute_reply": "2021-11-10T08:51:53.397137Z"
        },
        "trusted": true,
        "id": "Kgxva57A_UK2"
      },
      "execution_count": null,
      "outputs": []
    },
    {
      "cell_type": "code",
      "source": [
        "train_data.columns"
      ],
      "metadata": {
        "execution": {
          "iopub.status.busy": "2021-11-10T08:51:53.399504Z",
          "iopub.execute_input": "2021-11-10T08:51:53.399775Z",
          "iopub.status.idle": "2021-11-10T08:51:53.406045Z",
          "shell.execute_reply.started": "2021-11-10T08:51:53.399747Z",
          "shell.execute_reply": "2021-11-10T08:51:53.405212Z"
        },
        "trusted": true,
        "id": "gVPjTCwW_UK2"
      },
      "execution_count": null,
      "outputs": []
    },
    {
      "cell_type": "code",
      "source": [
        "train_data.describe()"
      ],
      "metadata": {
        "execution": {
          "iopub.status.busy": "2021-11-10T08:51:53.407362Z",
          "iopub.execute_input": "2021-11-10T08:51:53.407712Z",
          "iopub.status.idle": "2021-11-10T08:51:55.056897Z",
          "shell.execute_reply.started": "2021-11-10T08:51:53.407676Z",
          "shell.execute_reply": "2021-11-10T08:51:55.055989Z"
        },
        "trusted": true,
        "id": "lDJ2Ee4F_UK2"
      },
      "execution_count": null,
      "outputs": []
    },
    {
      "cell_type": "code",
      "source": [
        "train_data['Activity'].unique()"
      ],
      "metadata": {
        "execution": {
          "iopub.status.busy": "2021-11-10T08:51:55.05799Z",
          "iopub.execute_input": "2021-11-10T08:51:55.058303Z",
          "iopub.status.idle": "2021-11-10T08:51:55.065625Z",
          "shell.execute_reply.started": "2021-11-10T08:51:55.058274Z",
          "shell.execute_reply": "2021-11-10T08:51:55.064744Z"
        },
        "trusted": true,
        "id": "_jN3b8nO_UK2"
      },
      "execution_count": null,
      "outputs": []
    },
    {
      "cell_type": "code",
      "source": [
        "train_data['Activity'].value_counts().sort_values().plot(kind = 'bar', color = 'pink')\n"
      ],
      "metadata": {
        "execution": {
          "iopub.status.busy": "2021-11-10T08:51:55.068102Z",
          "iopub.execute_input": "2021-11-10T08:51:55.06842Z",
          "iopub.status.idle": "2021-11-10T08:51:55.269397Z",
          "shell.execute_reply.started": "2021-11-10T08:51:55.068392Z",
          "shell.execute_reply": "2021-11-10T08:51:55.268661Z"
        },
        "trusted": true,
        "id": "kEOG4Ok7_UK3"
      },
      "execution_count": null,
      "outputs": []
    },
    {
      "cell_type": "markdown",
      "source": [
        "## Preparing Train And Test Data"
      ],
      "metadata": {
        "id": "jfykqviG_UK3"
      }
    },
    {
      "cell_type": "code",
      "source": [
        "x_train, y_train = train_data.iloc[:, :-2], train_data.iloc[:, -1:]\n",
        "x_test, y_test = test_data.iloc[:, :-2], test_data.iloc[:, -1:]\n",
        "x_train.shape, y_train.shape"
      ],
      "metadata": {
        "execution": {
          "iopub.status.busy": "2021-11-10T08:51:55.27085Z",
          "iopub.execute_input": "2021-11-10T08:51:55.271342Z",
          "iopub.status.idle": "2021-11-10T08:51:55.296781Z",
          "shell.execute_reply.started": "2021-11-10T08:51:55.271301Z",
          "shell.execute_reply": "2021-11-10T08:51:55.296153Z"
        },
        "trusted": true,
        "id": "9m4mFN3T_UK3"
      },
      "execution_count": null,
      "outputs": []
    },
    {
      "cell_type": "code",
      "source": [
        "x_test, y_test = test_data.iloc[:, :-2], test_data.iloc[:, -1:]\n",
        "x_test.shape, y_test.shape"
      ],
      "metadata": {
        "execution": {
          "iopub.status.busy": "2021-11-10T08:51:55.297812Z",
          "iopub.execute_input": "2021-11-10T08:51:55.298274Z",
          "iopub.status.idle": "2021-11-10T08:51:55.313543Z",
          "shell.execute_reply.started": "2021-11-10T08:51:55.298244Z",
          "shell.execute_reply": "2021-11-10T08:51:55.312645Z"
        },
        "trusted": true,
        "id": "Rp_diWjH_UK3"
      },
      "execution_count": null,
      "outputs": []
    },
    {
      "cell_type": "code",
      "source": [
        "le = LabelEncoder()\n",
        "y_train = le.fit_transform(y_train)\n",
        "y_test = le.fit_transform(y_test)\n"
      ],
      "metadata": {
        "execution": {
          "iopub.status.busy": "2021-11-10T08:51:55.314622Z",
          "iopub.execute_input": "2021-11-10T08:51:55.314918Z",
          "iopub.status.idle": "2021-11-10T08:51:55.320741Z",
          "shell.execute_reply.started": "2021-11-10T08:51:55.31489Z",
          "shell.execute_reply": "2021-11-10T08:51:55.320102Z"
        },
        "trusted": true,
        "id": "-seU6mjQ_UK3"
      },
      "execution_count": null,
      "outputs": []
    },
    {
      "cell_type": "code",
      "source": [
        "x_test.shape, y_test.shape, x_train.shape, y_train.shape"
      ],
      "metadata": {
        "execution": {
          "iopub.status.busy": "2021-11-10T08:51:55.321852Z",
          "iopub.execute_input": "2021-11-10T08:51:55.322335Z",
          "iopub.status.idle": "2021-11-10T08:51:55.333847Z",
          "shell.execute_reply.started": "2021-11-10T08:51:55.322303Z",
          "shell.execute_reply": "2021-11-10T08:51:55.333034Z"
        },
        "trusted": true,
        "id": "M7TPo4Ql_UK3"
      },
      "execution_count": null,
      "outputs": []
    },
    {
      "cell_type": "code",
      "source": [
        "scaling_data = MinMaxScaler()\n",
        "x_train = scaling_data.fit_transform(x_train)\n",
        "x_test = scaling_data.transform(x_test)\n"
      ],
      "metadata": {
        "execution": {
          "iopub.status.busy": "2021-11-10T08:51:55.335038Z",
          "iopub.execute_input": "2021-11-10T08:51:55.335355Z",
          "iopub.status.idle": "2021-11-10T08:51:55.406179Z",
          "shell.execute_reply.started": "2021-11-10T08:51:55.335325Z",
          "shell.execute_reply": "2021-11-10T08:51:55.405224Z"
        },
        "trusted": true,
        "id": "8CXWTwfY_UK3"
      },
      "execution_count": null,
      "outputs": []
    },
    {
      "cell_type": "markdown",
      "source": [
        "## Creating A Base Model\n"
      ],
      "metadata": {
        "id": "hBeaOi4p_UK3"
      }
    },
    {
      "cell_type": "markdown",
      "source": [],
      "metadata": {
        "id": "XsrpPXXl_UK4"
      }
    },
    {
      "cell_type": "markdown",
      "source": [],
      "metadata": {
        "id": "7mRsTpP7_UK4"
      }
    },
    {
      "cell_type": "code",
      "source": [
        "model = Sequential()\n",
        "model.add(Dense(units=64,kernel_initializer='normal',activation='sigmoid',input_dim=x_train.shape[1]))\n",
        "model.add(Dropout(0.2))\n",
        "model.add(Dense(units=6,kernel_initializer='normal',activation='softmax'))\n",
        "model.compile(optimizer='adam',loss='sparse_categorical_crossentropy',metrics=['accuracy'])\n",
        "history = model.fit(x_train, y_train, batch_size = 64, epochs= 10,validation_data = (x_test,y_test))"
      ],
      "metadata": {
        "execution": {
          "iopub.status.busy": "2021-11-10T08:51:55.407419Z",
          "iopub.execute_input": "2021-11-10T08:51:55.407709Z",
          "iopub.status.idle": "2021-11-10T08:51:59.120856Z",
          "shell.execute_reply.started": "2021-11-10T08:51:55.40768Z",
          "shell.execute_reply": "2021-11-10T08:51:59.120014Z"
        },
        "trusted": true,
        "id": "C5UG7zey_UK4"
      },
      "execution_count": null,
      "outputs": []
    },
    {
      "cell_type": "markdown",
      "source": [
        "## Hypertuning The Model"
      ],
      "metadata": {
        "id": "OdkSdLNl_UK4"
      }
    },
    {
      "cell_type": "code",
      "source": [
        "def build_model(hp):\n",
        "    model = keras.Sequential()\n",
        "    for i in range(hp.Int('num_layers', 2, 25)):\n",
        "        model.add(layers.Dense(units = hp.Int('units' + str(i), min_value=32, max_value=512, step=32),\n",
        "                               kernel_initializer= hp.Choice('initializer', ['uniform', 'normal']),\n",
        "                               activation= hp.Choice('activation', ['relu', 'sigmoid', 'tanh'])))\n",
        "    model.add(layers.Dense(6, kernel_initializer= hp.Choice('initializer', ['uniform', 'normal']), activation='softmax'))\n",
        "    model.add(\n",
        "            Dropout(0.2))\n",
        "    model.compile(\n",
        "        optimizer = 'adam',\n",
        "        loss='sparse_categorical_crossentropy',\n",
        "        metrics=['accuracy'])\n",
        "    return model\n",
        "\n",
        "\n",
        "tuner = RandomSearch(\n",
        "    build_model,\n",
        "    objective='val_accuracy',\n",
        "    max_trials= 5,\n",
        "    executions_per_trial=3,\n",
        "    directory='project', project_name = 'Human_activity_recognition')\n",
        "\n",
        "tuner.search_space_summary()\n"
      ],
      "metadata": {
        "execution": {
          "iopub.status.busy": "2021-11-10T08:51:59.122609Z",
          "iopub.execute_input": "2021-11-10T08:51:59.123159Z",
          "iopub.status.idle": "2021-11-10T08:51:59.315553Z",
          "shell.execute_reply.started": "2021-11-10T08:51:59.123095Z",
          "shell.execute_reply": "2021-11-10T08:51:59.314836Z"
        },
        "trusted": true,
        "id": "YpiIe-xK_UK4"
      },
      "execution_count": null,
      "outputs": []
    },
    {
      "cell_type": "code",
      "source": [
        "tuner.search(x_train, y_train,\n",
        "             epochs= 10,\n",
        "             validation_data=(x_test, y_test))\n"
      ],
      "metadata": {
        "execution": {
          "iopub.status.busy": "2021-11-10T08:51:59.316477Z",
          "iopub.execute_input": "2021-11-10T08:51:59.316897Z",
          "iopub.status.idle": "2021-11-10T08:56:05.55094Z",
          "shell.execute_reply.started": "2021-11-10T08:51:59.316833Z",
          "shell.execute_reply": "2021-11-10T08:56:05.550164Z"
        },
        "trusted": true,
        "id": "b24IlxeX_UK4"
      },
      "execution_count": null,
      "outputs": []
    },
    {
      "cell_type": "code",
      "source": [
        "tuner.results_summary()\n"
      ],
      "metadata": {
        "execution": {
          "iopub.status.busy": "2021-11-10T08:56:05.552341Z",
          "iopub.execute_input": "2021-11-10T08:56:05.55273Z",
          "iopub.status.idle": "2021-11-10T08:56:05.579219Z",
          "shell.execute_reply.started": "2021-11-10T08:56:05.552685Z",
          "shell.execute_reply": "2021-11-10T08:56:05.578423Z"
        },
        "trusted": true,
        "id": "8_Tfhh3m_UK4"
      },
      "execution_count": null,
      "outputs": []
    },
    {
      "cell_type": "code",
      "source": [
        "model=tuner.get_best_models(num_models=1)[0]\n",
        "history = model.fit(x_train,y_train, epochs=51, validation_data=(x_test,y_test))\n",
        "\n"
      ],
      "metadata": {
        "execution": {
          "iopub.status.busy": "2021-11-10T08:56:05.582438Z",
          "iopub.execute_input": "2021-11-10T08:56:05.582755Z",
          "iopub.status.idle": "2021-11-10T08:56:43.439671Z",
          "shell.execute_reply.started": "2021-11-10T08:56:05.582723Z",
          "shell.execute_reply": "2021-11-10T08:56:43.438633Z"
        },
        "trusted": true,
        "id": "P0-EPtNR_UK4"
      },
      "execution_count": null,
      "outputs": []
    },
    {
      "cell_type": "code",
      "source": [
        "model.summary()\n",
        "import tensorflow as tf\n",
        "\n",
        "from tensorflow import keras\n",
        "\n",
        "Callback = tf.keras.callbacks.EarlyStopping(monitor='accuracy', patience=3)\n",
        "mo_fitt = model.fit(x_train,y_train, epochs=200, validation_data=(x_test,y_test), callbacks=Callback)"
      ],
      "metadata": {
        "execution": {
          "iopub.status.busy": "2021-11-10T08:56:43.440912Z",
          "iopub.execute_input": "2021-11-10T08:56:43.441311Z",
          "iopub.status.idle": "2021-11-10T08:56:47.100034Z",
          "shell.execute_reply.started": "2021-11-10T08:56:43.441271Z",
          "shell.execute_reply": "2021-11-10T08:56:47.099315Z"
        },
        "trusted": true,
        "id": "TVt3GMcM_UK5"
      },
      "execution_count": null,
      "outputs": []
    },
    {
      "cell_type": "code",
      "source": [
        "accuracy = mo_fitt.history['accuracy']\n",
        "loss = mo_fitt.history['loss']\n",
        "validation_loss = mo_fitt.history['val_loss']\n",
        "validation_accuracy = mo_fitt.history['val_accuracy']\n",
        "\n",
        "\n",
        "plt.figure(figsize=(15, 7))\n",
        "plt.subplot(2, 2, 1)\n",
        "plt.plot(range(5), accuracy, label='Training Accuracy')\n",
        "plt.plot(range(5), validation_accuracy, label='Validation Accuracy')\n",
        "plt.legend(loc='upper left')\n",
        "plt.title('Accuracy : Training Vs Validation ')\n",
        "\n",
        "\n",
        "\n",
        "plt.subplot(2, 2, 2)\n",
        "plt.plot(range(5), loss, label='Training Loss')\n",
        "plt.plot(range(5), validation_loss, label='Validation Loss')\n",
        "plt.title('Loss : Training Vs Validation ')\n",
        "plt.legend(loc='upper right')\n",
        "plt.show()"
      ],
      "metadata": {
        "execution": {
          "iopub.status.busy": "2021-11-10T08:59:49.382289Z",
          "iopub.execute_input": "2021-11-10T08:59:49.382654Z",
          "iopub.status.idle": "2021-11-10T08:59:49.655776Z",
          "shell.execute_reply.started": "2021-11-10T08:59:49.382621Z",
          "shell.execute_reply": "2021-11-10T08:59:49.654799Z"
        },
        "trusted": true,
        "id": "AjGP4zg0_UK5"
      },
      "execution_count": null,
      "outputs": []
    },
    {
      "cell_type": "markdown",
      "source": [
        "## Conclusion :\n",
        "\n",
        "> After hypertuning the model, it is found out that 4 layers should be there.\n",
        "> Final accuracy achieved is 0.9518."
      ],
      "metadata": {
        "id": "JbolYmgK_UK5"
      }
    },
    {
      "cell_type": "markdown",
      "source": [],
      "metadata": {
        "id": "idpwiQ0V_UK6"
      }
    },
    {
      "cell_type": "code",
      "source": [
        "model"
      ],
      "metadata": {
        "execution": {
          "iopub.status.busy": "2021-11-10T08:56:47.259Z",
          "iopub.status.idle": "2021-11-10T08:56:47.259407Z"
        },
        "trusted": true,
        "id": "v-HTwi05_UK6"
      },
      "execution_count": null,
      "outputs": []
    }
  ]
}